{
 "cells": [
  {
   "cell_type": "code",
   "execution_count": 1,
   "id": "653bd2aa",
   "metadata": {},
   "outputs": [],
   "source": [
    "from urllib.request import urlopen\n",
    "from pathlib import Path\n",
    "from bs4 import BeautifulSoup\n",
    "import urllib\n",
    "import re\n",
    "import pandas as pd\n",
    "from tqdm import tqdm"
   ]
  },
  {
   "cell_type": "code",
   "execution_count": 2,
   "id": "306036f8",
   "metadata": {},
   "outputs": [],
   "source": [
    "DATA_DIR = Path(\".\") / \"data\"\n",
    "IMG_DIR = DATA_DIR / \"images\""
   ]
  },
  {
   "cell_type": "code",
   "execution_count": 3,
   "id": "e2e07c96",
   "metadata": {},
   "outputs": [],
   "source": [
    "def get_soup_page(url: str):\n",
    "    page = urlopen(url)\n",
    "    print(url)\n",
    "    html = page.read().decode(\"utf-8\")\n",
    "    soup = BeautifulSoup(html, \"html.parser\")\n",
    "    return soup\n",
    "\n",
    "def rename_img_title(num: int, zero_len=5) -> str:\n",
    "    number: str = str(num)\n",
    "    foundation: str = (\"0\"* zero_len)\n",
    "    assert len(foundation) >= len(number)\n",
    "    return foundation[:-len(number)] + number"
   ]
  },
  {
   "cell_type": "markdown",
   "id": "8cf01dc6",
   "metadata": {},
   "source": [
    "## Соберём адреса аукционов"
   ]
  },
  {
   "cell_type": "code",
   "execution_count": 4,
   "id": "07188e5e",
   "metadata": {},
   "outputs": [],
   "source": [
    "base_url =\"https://www.menziesartbrands.com\"\n",
    "auction_results_url = base_url + \"/auction/results\"\n"
   ]
  },
  {
   "cell_type": "code",
   "execution_count": 5,
   "id": "009d9fd2",
   "metadata": {},
   "outputs": [
    {
     "name": "stdout",
     "output_type": "stream",
     "text": [
      "https://www.menziesartbrands.com/auction/results\n"
     ]
    }
   ],
   "source": [
    "soup = get_soup_page(auction_results_url)"
   ]
  },
  {
   "cell_type": "code",
   "execution_count": 6,
   "id": "e242f147",
   "metadata": {},
   "outputs": [],
   "source": [
    "auctions_urls = []\n",
    "\n",
    "for button in soup.find_all(\"div\", {\"class\": \"ars_button\"}):\n",
    "    for ref in button.find_all(\"a\"):\n",
    "        if ref.text.lower() == \"view result by lot\":\n",
    "            auctions_urls.append(f\"{base_url}{ref['href']}\")\n"
   ]
  },
  {
   "cell_type": "code",
   "execution_count": 7,
   "id": "a76dcad5",
   "metadata": {},
   "outputs": [
    {
     "data": {
      "text/plain": [
       "30"
      ]
     },
     "execution_count": 7,
     "metadata": {},
     "output_type": "execute_result"
    }
   ],
   "source": [
    "len(auctions_urls)"
   ]
  },
  {
   "cell_type": "markdown",
   "id": "8ec9b34b",
   "metadata": {},
   "source": [
    "## Теперь из каждого аукциона вытащим информацию о проданных картинах"
   ]
  },
  {
   "cell_type": "code",
   "execution_count": 8,
   "id": "30f0a85b",
   "metadata": {},
   "outputs": [],
   "source": [
    "count = 1\n",
    "arr = []\n",
    "cols = ['price', 'artist', 'title', 'yearCreation', 'image', 'image_url']"
   ]
  },
  {
   "cell_type": "code",
   "execution_count": 9,
   "id": "cd6d57a8",
   "metadata": {
    "scrolled": true
   },
   "outputs": [
    {
     "name": "stdout",
     "output_type": "stream",
     "text": [
      "https://www.menziesartbrands.com/catalogue-details/20309\n"
     ]
    },
    {
     "name": "stderr",
     "output_type": "stream",
     "text": [
      "\r",
      "  0%|                                                                                                                                                                    | 0/16 [00:00<?, ?it/s]"
     ]
    },
    {
     "name": "stdout",
     "output_type": "stream",
     "text": [
      "https://www.menziesartbrands.com/catalogue-details/20309?page=1\n"
     ]
    },
    {
     "name": "stderr",
     "output_type": "stream",
     "text": [
      "\r",
      "  6%|█████████▊                                                                                                                                                  | 1/16 [00:13<03:20, 13.34s/it]"
     ]
    },
    {
     "name": "stdout",
     "output_type": "stream",
     "text": [
      "page_num = 1, img_count = 10\n",
      "https://www.menziesartbrands.com/catalogue-details/20309?page=2\n"
     ]
    },
    {
     "name": "stderr",
     "output_type": "stream",
     "text": [
      "\r",
      " 12%|███████████████████▌                                                                                                                                        | 2/16 [00:21<02:28, 10.57s/it]"
     ]
    },
    {
     "name": "stdout",
     "output_type": "stream",
     "text": [
      "page_num = 2, img_count = 15\n",
      "https://www.menziesartbrands.com/catalogue-details/20309?page=3\n"
     ]
    },
    {
     "name": "stderr",
     "output_type": "stream",
     "text": [
      "\r",
      " 19%|█████████████████████████████▎                                                                                                                              | 3/16 [00:36<02:41, 12.45s/it]"
     ]
    },
    {
     "name": "stdout",
     "output_type": "stream",
     "text": [
      "page_num = 3, img_count = 24\n",
      "https://www.menziesartbrands.com/catalogue-details/20309?page=4\n"
     ]
    },
    {
     "name": "stderr",
     "output_type": "stream",
     "text": [
      "\r",
      " 25%|███████████████████████████████████████                                                                                                                     | 4/16 [00:48<02:25, 12.16s/it]"
     ]
    },
    {
     "name": "stdout",
     "output_type": "stream",
     "text": [
      "page_num = 4, img_count = 32\n",
      "https://www.menziesartbrands.com/catalogue-details/20309?page=5\n"
     ]
    },
    {
     "name": "stderr",
     "output_type": "stream",
     "text": [
      "\r",
      " 31%|████████████████████████████████████████████████▊                                                                                                           | 5/16 [01:00<02:12, 12.05s/it]"
     ]
    },
    {
     "name": "stdout",
     "output_type": "stream",
     "text": [
      "page_num = 5, img_count = 40\n",
      "https://www.menziesartbrands.com/catalogue-details/20309?page=6\n"
     ]
    },
    {
     "name": "stderr",
     "output_type": "stream",
     "text": [
      "\r",
      " 38%|██████████████████████████████████████████████████████████▌                                                                                                 | 6/16 [01:13<02:06, 12.60s/it]"
     ]
    },
    {
     "name": "stdout",
     "output_type": "stream",
     "text": [
      "page_num = 6, img_count = 49\n",
      "https://www.menziesartbrands.com/catalogue-details/20309?page=7\n"
     ]
    },
    {
     "name": "stderr",
     "output_type": "stream",
     "text": [
      "\r",
      " 44%|████████████████████████████████████████████████████████████████████▎                                                                                       | 7/16 [01:22<01:41, 11.32s/it]"
     ]
    },
    {
     "name": "stdout",
     "output_type": "stream",
     "text": [
      "page_num = 7, img_count = 55\n",
      "https://www.menziesartbrands.com/catalogue-details/20309?page=8\n"
     ]
    },
    {
     "name": "stderr",
     "output_type": "stream",
     "text": [
      "\r",
      " 50%|██████████████████████████████████████████████████████████████████████████████                                                                              | 8/16 [01:37<01:38, 12.32s/it]"
     ]
    },
    {
     "name": "stdout",
     "output_type": "stream",
     "text": [
      "page_num = 8, img_count = 64\n",
      "https://www.menziesartbrands.com/catalogue-details/20309?page=9\n"
     ]
    },
    {
     "name": "stderr",
     "output_type": "stream",
     "text": [
      "\r",
      " 56%|███████████████████████████████████████████████████████████████████████████████████████▊                                                                    | 9/16 [01:48<01:24, 12.09s/it]"
     ]
    },
    {
     "name": "stdout",
     "output_type": "stream",
     "text": [
      "page_num = 9, img_count = 71\n",
      "https://www.menziesartbrands.com/catalogue-details/20309?page=10\n"
     ]
    },
    {
     "name": "stderr",
     "output_type": "stream",
     "text": [
      "\r",
      " 62%|████████████████████████████████████████████████████████████████████████████████████████████████▉                                                          | 10/16 [02:01<01:14, 12.44s/it]"
     ]
    },
    {
     "name": "stdout",
     "output_type": "stream",
     "text": [
      "page_num = 10, img_count = 80\n",
      "https://www.menziesartbrands.com/catalogue-details/20309?page=11\n"
     ]
    },
    {
     "name": "stderr",
     "output_type": "stream",
     "text": [
      "\r",
      " 69%|██████████████████████████████████████████████████████████████████████████████████████████████████████████▌                                                | 11/16 [02:16<01:05, 13.04s/it]"
     ]
    },
    {
     "name": "stdout",
     "output_type": "stream",
     "text": [
      "page_num = 11, img_count = 89\n",
      "https://www.menziesartbrands.com/catalogue-details/20309?page=12\n"
     ]
    },
    {
     "name": "stderr",
     "output_type": "stream",
     "text": [
      "\r",
      " 75%|████████████████████████████████████████████████████████████████████████████████████████████████████████████████████▎                                      | 12/16 [02:29<00:52, 13.01s/it]"
     ]
    },
    {
     "name": "stdout",
     "output_type": "stream",
     "text": [
      "page_num = 12, img_count = 97\n",
      "https://www.menziesartbrands.com/catalogue-details/20309?page=13\n"
     ]
    },
    {
     "name": "stderr",
     "output_type": "stream",
     "text": [
      "\r",
      " 81%|█████████████████████████████████████████████████████████████████████████████████████████████████████████████████████████████▉                             | 13/16 [02:42<00:39, 13.13s/it]"
     ]
    },
    {
     "name": "stdout",
     "output_type": "stream",
     "text": [
      "page_num = 13, img_count = 105\n",
      "https://www.menziesartbrands.com/catalogue-details/20309?page=14\n"
     ]
    },
    {
     "name": "stderr",
     "output_type": "stream",
     "text": [
      "\r",
      " 88%|███████████████████████████████████████████████████████████████████████████████████████████████████████████████████████████████████████▋                   | 14/16 [02:53<00:25, 12.53s/it]"
     ]
    },
    {
     "name": "stdout",
     "output_type": "stream",
     "text": [
      "page_num = 14, img_count = 113\n",
      "https://www.menziesartbrands.com/catalogue-details/20309?page=15\n"
     ]
    },
    {
     "name": "stderr",
     "output_type": "stream",
     "text": [
      "\r",
      " 94%|█████████████████████████████████████████████████████████████████████████████████████████████████████████████████████████████████████████████████▎         | 15/16 [03:04<00:11, 11.96s/it]"
     ]
    },
    {
     "name": "stdout",
     "output_type": "stream",
     "text": [
      "page_num = 15, img_count = 120\n",
      "https://www.menziesartbrands.com/catalogue-details/20309?page=16\n"
     ]
    },
    {
     "name": "stderr",
     "output_type": "stream",
     "text": [
      "100%|███████████████████████████████████████████████████████████████████████████████████████████████████████████████████████████████████████████████████████████| 16/16 [03:10<00:00, 11.89s/it]"
     ]
    },
    {
     "name": "stdout",
     "output_type": "stream",
     "text": [
      "page_num = 16, img_count = 123\n",
      "auction_url = https://www.menziesartbrands.com/catalogue-details/20309, img_count = 123\n"
     ]
    },
    {
     "name": "stderr",
     "output_type": "stream",
     "text": [
      "\n"
     ]
    },
    {
     "name": "stdout",
     "output_type": "stream",
     "text": [
      "https://www.menziesartbrands.com/catalogue-details/19398\n"
     ]
    },
    {
     "name": "stderr",
     "output_type": "stream",
     "text": [
      "\r",
      "  0%|                                                                                                                                                                    | 0/14 [00:00<?, ?it/s]"
     ]
    },
    {
     "name": "stdout",
     "output_type": "stream",
     "text": [
      "https://www.menziesartbrands.com/catalogue-details/19398?page=1\n"
     ]
    },
    {
     "name": "stderr",
     "output_type": "stream",
     "text": [
      "\r",
      "  7%|███████████▏                                                                                                                                                | 1/14 [00:13<02:55, 13.50s/it]"
     ]
    },
    {
     "name": "stdout",
     "output_type": "stream",
     "text": [
      "page_num = 1, img_count = 132\n",
      "https://www.menziesartbrands.com/catalogue-details/19398?page=2\n"
     ]
    },
    {
     "name": "stderr",
     "output_type": "stream",
     "text": [
      "\r",
      " 14%|██████████████████████▎                                                                                                                                     | 2/14 [00:27<02:42, 13.55s/it]"
     ]
    },
    {
     "name": "stdout",
     "output_type": "stream",
     "text": [
      "page_num = 2, img_count = 141\n",
      "https://www.menziesartbrands.com/catalogue-details/19398?page=3\n"
     ]
    },
    {
     "name": "stderr",
     "output_type": "stream",
     "text": [
      "\r",
      " 21%|█████████████████████████████████▍                                                                                                                          | 3/14 [00:39<02:24, 13.10s/it]"
     ]
    },
    {
     "name": "stdout",
     "output_type": "stream",
     "text": [
      "page_num = 3, img_count = 150\n",
      "https://www.menziesartbrands.com/catalogue-details/19398?page=4\n"
     ]
    },
    {
     "name": "stderr",
     "output_type": "stream",
     "text": [
      "\r",
      " 29%|████████████████████████████████████████████▌                                                                                                               | 4/14 [00:51<02:06, 12.69s/it]"
     ]
    },
    {
     "name": "stdout",
     "output_type": "stream",
     "text": [
      "page_num = 4, img_count = 159\n",
      "https://www.menziesartbrands.com/catalogue-details/19398?page=5\n"
     ]
    },
    {
     "name": "stderr",
     "output_type": "stream",
     "text": [
      "\r",
      " 36%|███████████████████████████████████████████████████████▋                                                                                                    | 5/14 [01:04<01:53, 12.66s/it]"
     ]
    },
    {
     "name": "stdout",
     "output_type": "stream",
     "text": [
      "page_num = 5, img_count = 168\n",
      "https://www.menziesartbrands.com/catalogue-details/19398?page=6\n"
     ]
    },
    {
     "name": "stderr",
     "output_type": "stream",
     "text": [
      "\r",
      " 43%|██████████████████████████████████████████████████████████████████▊                                                                                         | 6/14 [01:18<01:45, 13.17s/it]"
     ]
    },
    {
     "name": "stdout",
     "output_type": "stream",
     "text": [
      "page_num = 6, img_count = 177\n",
      "https://www.menziesartbrands.com/catalogue-details/19398?page=7\n"
     ]
    },
    {
     "name": "stderr",
     "output_type": "stream",
     "text": [
      "\r",
      " 50%|██████████████████████████████████████████████████████████████████████████████                                                                              | 7/14 [01:33<01:36, 13.83s/it]"
     ]
    },
    {
     "name": "stdout",
     "output_type": "stream",
     "text": [
      "page_num = 7, img_count = 186\n",
      "https://www.menziesartbrands.com/catalogue-details/19398?page=8\n"
     ]
    },
    {
     "name": "stderr",
     "output_type": "stream",
     "text": [
      "\r",
      " 57%|█████████████████████████████████████████████████████████████████████████████████████████▏                                                                  | 8/14 [01:48<01:23, 13.99s/it]"
     ]
    },
    {
     "name": "stdout",
     "output_type": "stream",
     "text": [
      "page_num = 8, img_count = 195\n",
      "https://www.menziesartbrands.com/catalogue-details/19398?page=9\n"
     ]
    },
    {
     "name": "stderr",
     "output_type": "stream",
     "text": [
      "\r",
      " 64%|████████████████████████████████████████████████████████████████████████████████████████████████████▎                                                       | 9/14 [02:00<01:08, 13.65s/it]"
     ]
    },
    {
     "name": "stdout",
     "output_type": "stream",
     "text": [
      "page_num = 9, img_count = 204\n",
      "https://www.menziesartbrands.com/catalogue-details/19398?page=10\n"
     ]
    },
    {
     "name": "stderr",
     "output_type": "stream",
     "text": [
      "\r",
      " 71%|██████████████████████████████████████████████████████████████████████████████████████████████████████████████▋                                            | 10/14 [02:13<00:53, 13.35s/it]"
     ]
    },
    {
     "name": "stdout",
     "output_type": "stream",
     "text": [
      "page_num = 10, img_count = 213\n",
      "https://www.menziesartbrands.com/catalogue-details/19398?page=11\n"
     ]
    },
    {
     "name": "stderr",
     "output_type": "stream",
     "text": [
      "\r",
      " 79%|█████████████████████████████████████████████████████████████████████████████████████████████████████████████████████████▊                                 | 11/14 [02:24<00:38, 12.69s/it]"
     ]
    },
    {
     "name": "stdout",
     "output_type": "stream",
     "text": [
      "page_num = 11, img_count = 222\n",
      "https://www.menziesartbrands.com/catalogue-details/19398?page=12\n"
     ]
    },
    {
     "name": "stderr",
     "output_type": "stream",
     "text": [
      "\r",
      " 86%|████████████████████████████████████████████████████████████████████████████████████████████████████████████████████████████████████▊                      | 12/14 [02:35<00:24, 12.18s/it]"
     ]
    },
    {
     "name": "stdout",
     "output_type": "stream",
     "text": [
      "page_num = 12, img_count = 231\n",
      "https://www.menziesartbrands.com/catalogue-details/19398?page=13\n"
     ]
    },
    {
     "name": "stderr",
     "output_type": "stream",
     "text": [
      "\r",
      " 93%|███████████████████████████████████████████████████████████████████████████████████████████████████████████████████████████████████████████████▉           | 13/14 [02:48<00:12, 12.30s/it]"
     ]
    },
    {
     "name": "stdout",
     "output_type": "stream",
     "text": [
      "page_num = 13, img_count = 240\n",
      "https://www.menziesartbrands.com/catalogue-details/19398?page=14\n"
     ]
    },
    {
     "name": "stderr",
     "output_type": "stream",
     "text": [
      "100%|███████████████████████████████████████████████████████████████████████████████████████████████████████████████████████████████████████████████████████████| 14/14 [02:55<00:00, 12.54s/it]"
     ]
    },
    {
     "name": "stdout",
     "output_type": "stream",
     "text": [
      "page_num = 14, img_count = 245\n",
      "auction_url = https://www.menziesartbrands.com/catalogue-details/19398, img_count = 245\n"
     ]
    },
    {
     "name": "stderr",
     "output_type": "stream",
     "text": [
      "\n"
     ]
    },
    {
     "name": "stdout",
     "output_type": "stream",
     "text": [
      "https://www.menziesartbrands.com/catalogue-details/19396\n"
     ]
    },
    {
     "name": "stderr",
     "output_type": "stream",
     "text": [
      "\r",
      "  0%|                                                                                                                                                                     | 0/7 [00:00<?, ?it/s]"
     ]
    },
    {
     "name": "stdout",
     "output_type": "stream",
     "text": [
      "https://www.menziesartbrands.com/catalogue-details/19396?page=1\n"
     ]
    },
    {
     "name": "stderr",
     "output_type": "stream",
     "text": [
      "\r",
      " 14%|██████████████████████▍                                                                                                                                      | 1/7 [00:10<01:02, 10.40s/it]"
     ]
    },
    {
     "name": "stdout",
     "output_type": "stream",
     "text": [
      "page_num = 1, img_count = 252\n",
      "https://www.menziesartbrands.com/catalogue-details/19396?page=2\n"
     ]
    },
    {
     "name": "stderr",
     "output_type": "stream",
     "text": [
      "\r",
      " 29%|████████████████████████████████████████████▊                                                                                                                | 2/7 [00:23<01:00, 12.10s/it]"
     ]
    },
    {
     "name": "stdout",
     "output_type": "stream",
     "text": [
      "page_num = 2, img_count = 261\n",
      "https://www.menziesartbrands.com/catalogue-details/19396?page=3\n"
     ]
    },
    {
     "name": "stderr",
     "output_type": "stream",
     "text": [
      "\r",
      " 43%|███████████████████████████████████████████████████████████████████▎                                                                                         | 3/7 [00:32<00:42, 10.66s/it]"
     ]
    },
    {
     "name": "stdout",
     "output_type": "stream",
     "text": [
      "page_num = 3, img_count = 267\n",
      "https://www.menziesartbrands.com/catalogue-details/19396?page=4\n"
     ]
    },
    {
     "name": "stderr",
     "output_type": "stream",
     "text": [
      "\r",
      " 57%|█████████████████████████████████████████████████████████████████████████████████████████▋                                                                   | 4/7 [00:38<00:26,  8.89s/it]"
     ]
    },
    {
     "name": "stdout",
     "output_type": "stream",
     "text": [
      "page_num = 4, img_count = 271\n",
      "https://www.menziesartbrands.com/catalogue-details/19396?page=5\n"
     ]
    },
    {
     "name": "stderr",
     "output_type": "stream",
     "text": [
      "\r",
      " 71%|████████████████████████████████████████████████████████████████████████████████████████████████████████████████▏                                            | 5/7 [00:52<00:21, 10.64s/it]"
     ]
    },
    {
     "name": "stdout",
     "output_type": "stream",
     "text": [
      "page_num = 5, img_count = 280\n",
      "https://www.menziesartbrands.com/catalogue-details/19396?page=6\n"
     ]
    },
    {
     "name": "stderr",
     "output_type": "stream",
     "text": [
      "\r",
      " 86%|██████████████████████████████████████████████████████████████████████████████████████████████████████████████████████████████████████▌                      | 6/7 [01:04<00:11, 11.17s/it]"
     ]
    },
    {
     "name": "stdout",
     "output_type": "stream",
     "text": [
      "page_num = 6, img_count = 288\n",
      "https://www.menziesartbrands.com/catalogue-details/19396?page=7\n"
     ]
    },
    {
     "name": "stderr",
     "output_type": "stream",
     "text": [
      "100%|█████████████████████████████████████████████████████████████████████████████████████████████████████████████████████████████████████████████████████████████| 7/7 [01:13<00:00, 10.44s/it]"
     ]
    },
    {
     "name": "stdout",
     "output_type": "stream",
     "text": [
      "page_num = 7, img_count = 294\n",
      "auction_url = https://www.menziesartbrands.com/catalogue-details/19396, img_count = 294\n"
     ]
    },
    {
     "name": "stderr",
     "output_type": "stream",
     "text": [
      "\n"
     ]
    },
    {
     "name": "stdout",
     "output_type": "stream",
     "text": [
      "https://www.menziesartbrands.com/catalogue-details/19152\n"
     ]
    },
    {
     "name": "stderr",
     "output_type": "stream",
     "text": [
      "\r",
      "  0%|                                                                                                                                                                    | 0/14 [00:00<?, ?it/s]"
     ]
    },
    {
     "name": "stdout",
     "output_type": "stream",
     "text": [
      "https://www.menziesartbrands.com/catalogue-details/19152?page=1\n"
     ]
    },
    {
     "name": "stderr",
     "output_type": "stream",
     "text": [
      "\r",
      "  7%|███████████▏                                                                                                                                                | 1/14 [00:10<02:12, 10.15s/it]"
     ]
    },
    {
     "name": "stdout",
     "output_type": "stream",
     "text": [
      "page_num = 1, img_count = 300\n",
      "https://www.menziesartbrands.com/catalogue-details/19152?page=2\n"
     ]
    },
    {
     "name": "stderr",
     "output_type": "stream",
     "text": [
      "\r",
      " 14%|██████████████████████▎                                                                                                                                     | 2/14 [00:21<02:10, 10.92s/it]"
     ]
    },
    {
     "name": "stdout",
     "output_type": "stream",
     "text": [
      "page_num = 2, img_count = 307\n",
      "https://www.menziesartbrands.com/catalogue-details/19152?page=3\n"
     ]
    },
    {
     "name": "stderr",
     "output_type": "stream",
     "text": [
      "\r",
      " 21%|█████████████████████████████████▍                                                                                                                          | 3/14 [00:33<02:06, 11.49s/it]"
     ]
    },
    {
     "name": "stdout",
     "output_type": "stream",
     "text": [
      "page_num = 3, img_count = 315\n",
      "https://www.menziesartbrands.com/catalogue-details/19152?page=4\n"
     ]
    },
    {
     "name": "stderr",
     "output_type": "stream",
     "text": [
      "\r",
      " 29%|████████████████████████████████████████████▌                                                                                                               | 4/14 [00:43<01:46, 10.65s/it]"
     ]
    },
    {
     "name": "stdout",
     "output_type": "stream",
     "text": [
      "page_num = 4, img_count = 320\n",
      "https://www.menziesartbrands.com/catalogue-details/19152?page=5\n"
     ]
    },
    {
     "name": "stderr",
     "output_type": "stream",
     "text": [
      "\r",
      " 36%|███████████████████████████████████████████████████████▋                                                                                                    | 5/14 [00:52<01:30, 10.08s/it]"
     ]
    },
    {
     "name": "stdout",
     "output_type": "stream",
     "text": [
      "page_num = 5, img_count = 327\n",
      "https://www.menziesartbrands.com/catalogue-details/19152?page=6\n"
     ]
    },
    {
     "name": "stderr",
     "output_type": "stream",
     "text": [
      "\r",
      " 43%|██████████████████████████████████████████████████████████████████▊                                                                                         | 6/14 [01:02<01:21, 10.13s/it]"
     ]
    },
    {
     "name": "stdout",
     "output_type": "stream",
     "text": [
      "page_num = 6, img_count = 335\n",
      "https://www.menziesartbrands.com/catalogue-details/19152?page=7\n"
     ]
    },
    {
     "name": "stderr",
     "output_type": "stream",
     "text": [
      "\r",
      " 50%|██████████████████████████████████████████████████████████████████████████████                                                                              | 7/14 [01:12<01:10, 10.06s/it]"
     ]
    },
    {
     "name": "stdout",
     "output_type": "stream",
     "text": [
      "page_num = 7, img_count = 343\n",
      "https://www.menziesartbrands.com/catalogue-details/19152?page=8\n"
     ]
    },
    {
     "name": "stderr",
     "output_type": "stream",
     "text": [
      "\r",
      " 57%|█████████████████████████████████████████████████████████████████████████████████████████▏                                                                  | 8/14 [01:18<00:52,  8.76s/it]"
     ]
    },
    {
     "name": "stdout",
     "output_type": "stream",
     "text": [
      "page_num = 8, img_count = 347\n",
      "https://www.menziesartbrands.com/catalogue-details/19152?page=9\n"
     ]
    },
    {
     "name": "stderr",
     "output_type": "stream",
     "text": [
      "\r",
      " 64%|████████████████████████████████████████████████████████████████████████████████████████████████████▎                                                       | 9/14 [01:29<00:47,  9.42s/it]"
     ]
    },
    {
     "name": "stdout",
     "output_type": "stream",
     "text": [
      "page_num = 9, img_count = 355\n",
      "https://www.menziesartbrands.com/catalogue-details/19152?page=10\n"
     ]
    },
    {
     "name": "stderr",
     "output_type": "stream",
     "text": [
      "\r",
      " 71%|██████████████████████████████████████████████████████████████████████████████████████████████████████████████▋                                            | 10/14 [01:37<00:36,  9.23s/it]"
     ]
    },
    {
     "name": "stdout",
     "output_type": "stream",
     "text": [
      "page_num = 10, img_count = 361\n",
      "https://www.menziesartbrands.com/catalogue-details/19152?page=11\n"
     ]
    },
    {
     "name": "stderr",
     "output_type": "stream",
     "text": [
      "\r",
      " 79%|█████████████████████████████████████████████████████████████████████████████████████████████████████████████████████████▊                                 | 11/14 [01:47<00:28,  9.45s/it]"
     ]
    },
    {
     "name": "stdout",
     "output_type": "stream",
     "text": [
      "page_num = 11, img_count = 367\n",
      "https://www.menziesartbrands.com/catalogue-details/19152?page=12\n"
     ]
    },
    {
     "name": "stderr",
     "output_type": "stream",
     "text": [
      "\r",
      " 86%|████████████████████████████████████████████████████████████████████████████████████████████████████████████████████████████████████▊                      | 12/14 [01:56<00:18,  9.15s/it]"
     ]
    },
    {
     "name": "stdout",
     "output_type": "stream",
     "text": [
      "page_num = 12, img_count = 373\n",
      "https://www.menziesartbrands.com/catalogue-details/19152?page=13\n"
     ]
    },
    {
     "name": "stderr",
     "output_type": "stream",
     "text": [
      "\r",
      " 93%|███████████████████████████████████████████████████████████████████████████████████████████████████████████████████████████████████████████████▉           | 13/14 [02:07<00:09,  9.87s/it]"
     ]
    },
    {
     "name": "stdout",
     "output_type": "stream",
     "text": [
      "page_num = 13, img_count = 381\n",
      "https://www.menziesartbrands.com/catalogue-details/19152?page=14\n"
     ]
    },
    {
     "name": "stderr",
     "output_type": "stream",
     "text": [
      "100%|███████████████████████████████████████████████████████████████████████████████████████████████████████████████████████████████████████████████████████████| 14/14 [02:13<00:00,  9.50s/it]"
     ]
    },
    {
     "name": "stdout",
     "output_type": "stream",
     "text": [
      "page_num = 14, img_count = 384\n",
      "auction_url = https://www.menziesartbrands.com/catalogue-details/19152, img_count = 384\n"
     ]
    },
    {
     "name": "stderr",
     "output_type": "stream",
     "text": [
      "\n"
     ]
    },
    {
     "name": "stdout",
     "output_type": "stream",
     "text": [
      "https://www.menziesartbrands.com/catalogue-details/18978\n"
     ]
    },
    {
     "name": "stderr",
     "output_type": "stream",
     "text": [
      "\r",
      "  0%|                                                                                                                                                                    | 0/14 [00:00<?, ?it/s]"
     ]
    },
    {
     "name": "stdout",
     "output_type": "stream",
     "text": [
      "https://www.menziesartbrands.com/catalogue-details/18978?page=1\n"
     ]
    },
    {
     "name": "stderr",
     "output_type": "stream",
     "text": [
      "\r",
      "  7%|███████████▏                                                                                                                                                | 1/14 [00:10<02:13, 10.24s/it]"
     ]
    },
    {
     "name": "stdout",
     "output_type": "stream",
     "text": [
      "page_num = 1, img_count = 392\n",
      "https://www.menziesartbrands.com/catalogue-details/18978?page=2\n"
     ]
    },
    {
     "name": "stderr",
     "output_type": "stream",
     "text": [
      "\r",
      " 14%|██████████████████████▎                                                                                                                                     | 2/14 [00:24<02:31, 12.65s/it]"
     ]
    },
    {
     "name": "stdout",
     "output_type": "stream",
     "text": [
      "page_num = 2, img_count = 401\n",
      "https://www.menziesartbrands.com/catalogue-details/18978?page=3\n"
     ]
    },
    {
     "name": "stderr",
     "output_type": "stream",
     "text": [
      "\r",
      " 21%|█████████████████████████████████▍                                                                                                                          | 3/14 [00:38<02:25, 13.26s/it]"
     ]
    },
    {
     "name": "stdout",
     "output_type": "stream",
     "text": [
      "page_num = 3, img_count = 409\n",
      "https://www.menziesartbrands.com/catalogue-details/18978?page=4\n"
     ]
    },
    {
     "name": "stderr",
     "output_type": "stream",
     "text": [
      "\r",
      " 29%|████████████████████████████████████████████▌                                                                                                               | 4/14 [00:50<02:06, 12.66s/it]"
     ]
    },
    {
     "name": "stdout",
     "output_type": "stream",
     "text": [
      "page_num = 4, img_count = 417\n",
      "https://www.menziesartbrands.com/catalogue-details/18978?page=5\n"
     ]
    },
    {
     "name": "stderr",
     "output_type": "stream",
     "text": [
      "\r",
      " 36%|███████████████████████████████████████████████████████▋                                                                                                    | 5/14 [01:03<01:55, 12.88s/it]"
     ]
    },
    {
     "name": "stdout",
     "output_type": "stream",
     "text": [
      "page_num = 5, img_count = 426\n",
      "https://www.menziesartbrands.com/catalogue-details/18978?page=6\n"
     ]
    },
    {
     "name": "stderr",
     "output_type": "stream",
     "text": [
      "\r",
      " 43%|██████████████████████████████████████████████████████████████████▊                                                                                         | 6/14 [01:12<01:32, 11.54s/it]"
     ]
    },
    {
     "name": "stdout",
     "output_type": "stream",
     "text": [
      "page_num = 6, img_count = 433\n",
      "https://www.menziesartbrands.com/catalogue-details/18978?page=7\n"
     ]
    },
    {
     "name": "stderr",
     "output_type": "stream",
     "text": [
      "\r",
      " 50%|██████████████████████████████████████████████████████████████████████████████                                                                              | 7/14 [01:23<01:20, 11.44s/it]"
     ]
    },
    {
     "name": "stdout",
     "output_type": "stream",
     "text": [
      "page_num = 7, img_count = 442\n",
      "https://www.menziesartbrands.com/catalogue-details/18978?page=8\n"
     ]
    },
    {
     "name": "stderr",
     "output_type": "stream",
     "text": [
      "\r",
      " 57%|█████████████████████████████████████████████████████████████████████████████████████████▏                                                                  | 8/14 [01:31<01:02, 10.42s/it]"
     ]
    },
    {
     "name": "stdout",
     "output_type": "stream",
     "text": [
      "page_num = 8, img_count = 448\n",
      "https://www.menziesartbrands.com/catalogue-details/18978?page=9\n"
     ]
    },
    {
     "name": "stderr",
     "output_type": "stream",
     "text": [
      "\r",
      " 64%|████████████████████████████████████████████████████████████████████████████████████████████████████▎                                                       | 9/14 [01:41<00:51, 10.23s/it]"
     ]
    },
    {
     "name": "stdout",
     "output_type": "stream",
     "text": [
      "page_num = 9, img_count = 455\n",
      "https://www.menziesartbrands.com/catalogue-details/18978?page=10\n"
     ]
    },
    {
     "name": "stderr",
     "output_type": "stream",
     "text": [
      "\r",
      " 71%|██████████████████████████████████████████████████████████████████████████████████████████████████████████████▋                                            | 10/14 [01:51<00:40, 10.20s/it]"
     ]
    },
    {
     "name": "stdout",
     "output_type": "stream",
     "text": [
      "page_num = 10, img_count = 463\n",
      "https://www.menziesartbrands.com/catalogue-details/18978?page=11\n"
     ]
    },
    {
     "name": "stderr",
     "output_type": "stream",
     "text": [
      "\r",
      " 79%|█████████████████████████████████████████████████████████████████████████████████████████████████████████████████████████▊                                 | 11/14 [02:02<00:30, 10.29s/it]"
     ]
    },
    {
     "name": "stdout",
     "output_type": "stream",
     "text": [
      "page_num = 11, img_count = 472\n",
      "https://www.menziesartbrands.com/catalogue-details/18978?page=12\n"
     ]
    },
    {
     "name": "stderr",
     "output_type": "stream",
     "text": [
      "\r",
      " 86%|████████████████████████████████████████████████████████████████████████████████████████████████████████████████████████████████████▊                      | 12/14 [02:11<00:19,  9.89s/it]"
     ]
    },
    {
     "name": "stdout",
     "output_type": "stream",
     "text": [
      "page_num = 12, img_count = 479\n",
      "https://www.menziesartbrands.com/catalogue-details/18978?page=13\n"
     ]
    },
    {
     "name": "stderr",
     "output_type": "stream",
     "text": [
      "\r",
      " 93%|███████████████████████████████████████████████████████████████████████████████████████████████████████████████████████████████████████████████▉           | 13/14 [02:20<00:09,  9.67s/it]"
     ]
    },
    {
     "name": "stdout",
     "output_type": "stream",
     "text": [
      "page_num = 13, img_count = 486\n",
      "https://www.menziesartbrands.com/catalogue-details/18978?page=14\n"
     ]
    },
    {
     "name": "stderr",
     "output_type": "stream",
     "text": [
      "100%|███████████████████████████████████████████████████████████████████████████████████████████████████████████████████████████████████████████████████████████| 14/14 [02:31<00:00, 10.80s/it]"
     ]
    },
    {
     "name": "stdout",
     "output_type": "stream",
     "text": [
      "page_num = 14, img_count = 494\n",
      "auction_url = https://www.menziesartbrands.com/catalogue-details/18978, img_count = 494\n"
     ]
    },
    {
     "name": "stderr",
     "output_type": "stream",
     "text": [
      "\n"
     ]
    },
    {
     "name": "stdout",
     "output_type": "stream",
     "text": [
      "https://www.menziesartbrands.com/catalogue-details/18823\n"
     ]
    },
    {
     "name": "stderr",
     "output_type": "stream",
     "text": [
      "\r",
      "  0%|                                                                                                                                                                    | 0/13 [00:00<?, ?it/s]"
     ]
    },
    {
     "name": "stdout",
     "output_type": "stream",
     "text": [
      "https://www.menziesartbrands.com/catalogue-details/18823?page=1\n"
     ]
    },
    {
     "name": "stderr",
     "output_type": "stream",
     "text": [
      "\r",
      "  8%|████████████                                                                                                                                                | 1/13 [00:11<02:15, 11.33s/it]"
     ]
    },
    {
     "name": "stdout",
     "output_type": "stream",
     "text": [
      "page_num = 1, img_count = 503\n",
      "https://www.menziesartbrands.com/catalogue-details/18823?page=2\n"
     ]
    },
    {
     "name": "stderr",
     "output_type": "stream",
     "text": [
      "\r",
      " 15%|████████████████████████                                                                                                                                    | 2/13 [00:23<02:08, 11.64s/it]"
     ]
    },
    {
     "name": "stdout",
     "output_type": "stream",
     "text": [
      "page_num = 2, img_count = 511\n",
      "https://www.menziesartbrands.com/catalogue-details/18823?page=3\n"
     ]
    },
    {
     "name": "stderr",
     "output_type": "stream",
     "text": [
      "\r",
      " 23%|████████████████████████████████████                                                                                                                        | 3/13 [00:37<02:09, 12.98s/it]"
     ]
    },
    {
     "name": "stdout",
     "output_type": "stream",
     "text": [
      "page_num = 3, img_count = 520\n",
      "https://www.menziesartbrands.com/catalogue-details/18823?page=4\n"
     ]
    },
    {
     "name": "stderr",
     "output_type": "stream",
     "text": [
      "\r",
      " 31%|████████████████████████████████████████████████                                                                                                            | 4/13 [00:48<01:48, 12.10s/it]"
     ]
    },
    {
     "name": "stdout",
     "output_type": "stream",
     "text": [
      "page_num = 4, img_count = 528\n",
      "https://www.menziesartbrands.com/catalogue-details/18823?page=5\n"
     ]
    },
    {
     "name": "stderr",
     "output_type": "stream",
     "text": [
      "\r",
      " 38%|████████████████████████████████████████████████████████████                                                                                                | 5/13 [00:58<01:32, 11.51s/it]"
     ]
    },
    {
     "name": "stdout",
     "output_type": "stream",
     "text": [
      "page_num = 5, img_count = 535\n",
      "https://www.menziesartbrands.com/catalogue-details/18823?page=6\n"
     ]
    },
    {
     "name": "stderr",
     "output_type": "stream",
     "text": [
      "\r",
      " 46%|████████████████████████████████████████████████████████████████████████                                                                                    | 6/13 [01:07<01:14, 10.59s/it]"
     ]
    },
    {
     "name": "stdout",
     "output_type": "stream",
     "text": [
      "page_num = 6, img_count = 542\n",
      "https://www.menziesartbrands.com/catalogue-details/18823?page=7\n"
     ]
    },
    {
     "name": "stderr",
     "output_type": "stream",
     "text": [
      "\r",
      " 54%|████████████████████████████████████████████████████████████████████████████████████                                                                        | 7/13 [01:18<01:02, 10.47s/it]"
     ]
    },
    {
     "name": "stdout",
     "output_type": "stream",
     "text": [
      "page_num = 7, img_count = 550\n",
      "https://www.menziesartbrands.com/catalogue-details/18823?page=8\n"
     ]
    },
    {
     "name": "stderr",
     "output_type": "stream",
     "text": [
      "\r",
      " 62%|████████████████████████████████████████████████████████████████████████████████████████████████                                                            | 8/13 [01:28<00:52, 10.52s/it]"
     ]
    },
    {
     "name": "stdout",
     "output_type": "stream",
     "text": [
      "page_num = 8, img_count = 556\n",
      "https://www.menziesartbrands.com/catalogue-details/18823?page=9\n"
     ]
    },
    {
     "name": "stderr",
     "output_type": "stream",
     "text": [
      "\r",
      " 69%|████████████████████████████████████████████████████████████████████████████████████████████████████████████                                                | 9/13 [01:39<00:43, 10.76s/it]"
     ]
    },
    {
     "name": "stdout",
     "output_type": "stream",
     "text": [
      "page_num = 9, img_count = 563\n",
      "https://www.menziesartbrands.com/catalogue-details/18823?page=10\n"
     ]
    },
    {
     "name": "stderr",
     "output_type": "stream",
     "text": [
      "\r",
      " 77%|███████████████████████████████████████████████████████████████████████████████████████████████████████████████████████▏                                   | 10/13 [01:51<00:33, 11.04s/it]"
     ]
    },
    {
     "name": "stdout",
     "output_type": "stream",
     "text": [
      "page_num = 10, img_count = 571\n",
      "https://www.menziesartbrands.com/catalogue-details/18823?page=11\n"
     ]
    },
    {
     "name": "stderr",
     "output_type": "stream",
     "text": [
      "\r",
      " 85%|███████████████████████████████████████████████████████████████████████████████████████████████████████████████████████████████████▏                       | 11/13 [02:01<00:21, 10.77s/it]"
     ]
    },
    {
     "name": "stdout",
     "output_type": "stream",
     "text": [
      "page_num = 11, img_count = 578\n",
      "https://www.menziesartbrands.com/catalogue-details/18823?page=12\n"
     ]
    },
    {
     "name": "stderr",
     "output_type": "stream",
     "text": [
      "\r",
      " 92%|███████████████████████████████████████████████████████████████████████████████████████████████████████████████████████████████████████████████            | 12/13 [02:13<00:11, 11.13s/it]"
     ]
    },
    {
     "name": "stdout",
     "output_type": "stream",
     "text": [
      "page_num = 12, img_count = 587\n",
      "https://www.menziesartbrands.com/catalogue-details/18823?page=13\n"
     ]
    },
    {
     "name": "stderr",
     "output_type": "stream",
     "text": [
      "100%|███████████████████████████████████████████████████████████████████████████████████████████████████████████████████████████████████████████████████████████| 13/13 [02:23<00:00, 11.06s/it]"
     ]
    },
    {
     "name": "stdout",
     "output_type": "stream",
     "text": [
      "page_num = 13, img_count = 593\n",
      "auction_url = https://www.menziesartbrands.com/catalogue-details/18823, img_count = 593\n"
     ]
    },
    {
     "name": "stderr",
     "output_type": "stream",
     "text": [
      "\n"
     ]
    },
    {
     "name": "stdout",
     "output_type": "stream",
     "text": [
      "https://www.menziesartbrands.com/catalogue-details/18759\n"
     ]
    },
    {
     "name": "stderr",
     "output_type": "stream",
     "text": [
      "\r",
      "  0%|                                                                                                                                                                     | 0/6 [00:00<?, ?it/s]"
     ]
    },
    {
     "name": "stdout",
     "output_type": "stream",
     "text": [
      "https://www.menziesartbrands.com/catalogue-details/18759?page=1\n"
     ]
    },
    {
     "name": "stderr",
     "output_type": "stream",
     "text": [
      "\r",
      " 17%|██████████████████████████▏                                                                                                                                  | 1/6 [00:06<00:31,  6.25s/it]"
     ]
    },
    {
     "name": "stdout",
     "output_type": "stream",
     "text": [
      "page_num = 1, img_count = 597\n",
      "https://www.menziesartbrands.com/catalogue-details/18759?page=2\n"
     ]
    },
    {
     "name": "stderr",
     "output_type": "stream",
     "text": [
      "\r",
      " 33%|████████████████████████████████████████████████████▎                                                                                                        | 2/6 [00:14<00:30,  7.58s/it]"
     ]
    },
    {
     "name": "stdout",
     "output_type": "stream",
     "text": [
      "page_num = 2, img_count = 601\n",
      "https://www.menziesartbrands.com/catalogue-details/18759?page=3\n"
     ]
    },
    {
     "name": "stderr",
     "output_type": "stream",
     "text": [
      "\r",
      " 50%|██████████████████████████████████████████████████████████████████████████████▌                                                                              | 3/6 [00:28<00:30, 10.20s/it]"
     ]
    },
    {
     "name": "stdout",
     "output_type": "stream",
     "text": [
      "page_num = 3, img_count = 609\n",
      "https://www.menziesartbrands.com/catalogue-details/18759?page=4\n"
     ]
    },
    {
     "name": "stderr",
     "output_type": "stream",
     "text": [
      "\r",
      " 67%|████████████████████████████████████████████████████████████████████████████████████████████████████████▋                                                    | 4/6 [00:38<00:20, 10.26s/it]"
     ]
    },
    {
     "name": "stdout",
     "output_type": "stream",
     "text": [
      "page_num = 4, img_count = 615\n",
      "https://www.menziesartbrands.com/catalogue-details/18759?page=5\n"
     ]
    },
    {
     "name": "stderr",
     "output_type": "stream",
     "text": [
      "\r",
      " 83%|██████████████████████████████████████████████████████████████████████████████████████████████████████████████████████████████████▊                          | 5/6 [00:50<00:11, 11.06s/it]"
     ]
    },
    {
     "name": "stdout",
     "output_type": "stream",
     "text": [
      "page_num = 5, img_count = 623\n",
      "https://www.menziesartbrands.com/catalogue-details/18759?page=6\n"
     ]
    },
    {
     "name": "stderr",
     "output_type": "stream",
     "text": [
      "100%|█████████████████████████████████████████████████████████████████████████████████████████████████████████████████████████████████████████████████████████████| 6/6 [00:51<00:00,  8.65s/it]"
     ]
    },
    {
     "name": "stdout",
     "output_type": "stream",
     "text": [
      "page_num = 6, img_count = 623\n",
      "auction_url = https://www.menziesartbrands.com/catalogue-details/18759, img_count = 623\n"
     ]
    },
    {
     "name": "stderr",
     "output_type": "stream",
     "text": [
      "\n"
     ]
    },
    {
     "name": "stdout",
     "output_type": "stream",
     "text": [
      "https://www.menziesartbrands.com/catalogue-details/18584\n"
     ]
    },
    {
     "name": "stderr",
     "output_type": "stream",
     "text": [
      "\r",
      "  0%|                                                                                                                                                                    | 0/14 [00:00<?, ?it/s]"
     ]
    },
    {
     "name": "stdout",
     "output_type": "stream",
     "text": [
      "https://www.menziesartbrands.com/catalogue-details/18584?page=1\n"
     ]
    },
    {
     "name": "stderr",
     "output_type": "stream",
     "text": [
      "\r",
      "  7%|███████████▏                                                                                                                                                | 1/14 [00:13<02:50, 13.08s/it]"
     ]
    },
    {
     "name": "stdout",
     "output_type": "stream",
     "text": [
      "page_num = 1, img_count = 632\n",
      "https://www.menziesartbrands.com/catalogue-details/18584?page=2\n"
     ]
    },
    {
     "name": "stderr",
     "output_type": "stream",
     "text": [
      "\r",
      " 14%|██████████████████████▎                                                                                                                                     | 2/14 [00:24<02:28, 12.37s/it]"
     ]
    },
    {
     "name": "stdout",
     "output_type": "stream",
     "text": [
      "page_num = 2, img_count = 640\n",
      "https://www.menziesartbrands.com/catalogue-details/18584?page=3\n"
     ]
    },
    {
     "name": "stderr",
     "output_type": "stream",
     "text": [
      "\r",
      " 21%|█████████████████████████████████▍                                                                                                                          | 3/14 [00:35<02:09, 11.76s/it]"
     ]
    },
    {
     "name": "stdout",
     "output_type": "stream",
     "text": [
      "page_num = 3, img_count = 647\n",
      "https://www.menziesartbrands.com/catalogue-details/18584?page=4\n"
     ]
    },
    {
     "name": "stderr",
     "output_type": "stream",
     "text": [
      "\r",
      " 29%|████████████████████████████████████████████▌                                                                                                               | 4/14 [00:49<02:03, 12.36s/it]"
     ]
    },
    {
     "name": "stdout",
     "output_type": "stream",
     "text": [
      "page_num = 4, img_count = 656\n",
      "https://www.menziesartbrands.com/catalogue-details/18584?page=5\n"
     ]
    },
    {
     "name": "stderr",
     "output_type": "stream",
     "text": [
      "\r",
      " 36%|███████████████████████████████████████████████████████▋                                                                                                    | 5/14 [01:04<01:59, 13.25s/it]"
     ]
    },
    {
     "name": "stdout",
     "output_type": "stream",
     "text": [
      "page_num = 5, img_count = 664\n",
      "https://www.menziesartbrands.com/catalogue-details/18584?page=6\n"
     ]
    },
    {
     "name": "stderr",
     "output_type": "stream",
     "text": [
      "\r",
      " 43%|██████████████████████████████████████████████████████████████████▊                                                                                         | 6/14 [01:15<01:40, 12.58s/it]"
     ]
    },
    {
     "name": "stdout",
     "output_type": "stream",
     "text": [
      "page_num = 6, img_count = 672\n",
      "https://www.menziesartbrands.com/catalogue-details/18584?page=7\n"
     ]
    },
    {
     "name": "stderr",
     "output_type": "stream",
     "text": [
      "\r",
      " 50%|██████████████████████████████████████████████████████████████████████████████                                                                              | 7/14 [01:27<01:26, 12.39s/it]"
     ]
    },
    {
     "name": "stdout",
     "output_type": "stream",
     "text": [
      "page_num = 7, img_count = 680\n",
      "https://www.menziesartbrands.com/catalogue-details/18584?page=8\n"
     ]
    },
    {
     "name": "stderr",
     "output_type": "stream",
     "text": [
      "\r",
      " 57%|█████████████████████████████████████████████████████████████████████████████████████████▏                                                                  | 8/14 [01:39<01:13, 12.28s/it]"
     ]
    },
    {
     "name": "stdout",
     "output_type": "stream",
     "text": [
      "page_num = 8, img_count = 689\n",
      "https://www.menziesartbrands.com/catalogue-details/18584?page=9\n"
     ]
    },
    {
     "name": "stderr",
     "output_type": "stream",
     "text": [
      "\r",
      " 64%|████████████████████████████████████████████████████████████████████████████████████████████████████▎                                                       | 9/14 [01:52<01:02, 12.52s/it]"
     ]
    },
    {
     "name": "stdout",
     "output_type": "stream",
     "text": [
      "page_num = 9, img_count = 697\n",
      "https://www.menziesartbrands.com/catalogue-details/18584?page=10\n"
     ]
    },
    {
     "name": "stderr",
     "output_type": "stream",
     "text": [
      "\r",
      " 71%|██████████████████████████████████████████████████████████████████████████████████████████████████████████████▋                                            | 10/14 [02:03<00:48, 12.16s/it]"
     ]
    },
    {
     "name": "stdout",
     "output_type": "stream",
     "text": [
      "page_num = 10, img_count = 705\n",
      "https://www.menziesartbrands.com/catalogue-details/18584?page=11\n"
     ]
    },
    {
     "name": "stderr",
     "output_type": "stream",
     "text": [
      "\r",
      " 79%|█████████████████████████████████████████████████████████████████████████████████████████████████████████████████████████▊                                 | 11/14 [02:12<00:33, 11.09s/it]"
     ]
    },
    {
     "name": "stdout",
     "output_type": "stream",
     "text": [
      "page_num = 11, img_count = 711\n",
      "https://www.menziesartbrands.com/catalogue-details/18584?page=12\n"
     ]
    },
    {
     "name": "stderr",
     "output_type": "stream",
     "text": [
      "\r",
      " 86%|████████████████████████████████████████████████████████████████████████████████████████████████████████████████████████████████████▊                      | 12/14 [02:27<00:24, 12.24s/it]"
     ]
    },
    {
     "name": "stdout",
     "output_type": "stream",
     "text": [
      "page_num = 12, img_count = 720\n",
      "https://www.menziesartbrands.com/catalogue-details/18584?page=13\n"
     ]
    },
    {
     "name": "stderr",
     "output_type": "stream",
     "text": [
      "\r",
      " 93%|███████████████████████████████████████████████████████████████████████████████████████████████████████████████████████████████████████████████▉           | 13/14 [02:39<00:12, 12.33s/it]"
     ]
    },
    {
     "name": "stdout",
     "output_type": "stream",
     "text": [
      "page_num = 13, img_count = 729\n",
      "https://www.menziesartbrands.com/catalogue-details/18584?page=14\n"
     ]
    },
    {
     "name": "stderr",
     "output_type": "stream",
     "text": [
      "100%|███████████████████████████████████████████████████████████████████████████████████████████████████████████████████████████████████████████████████████████| 14/14 [02:44<00:00, 11.72s/it]"
     ]
    },
    {
     "name": "stdout",
     "output_type": "stream",
     "text": [
      "page_num = 14, img_count = 731\n",
      "auction_url = https://www.menziesartbrands.com/catalogue-details/18584, img_count = 731\n"
     ]
    },
    {
     "name": "stderr",
     "output_type": "stream",
     "text": [
      "\n"
     ]
    },
    {
     "name": "stdout",
     "output_type": "stream",
     "text": [
      "https://www.menziesartbrands.com/catalogue-details/18418\n"
     ]
    },
    {
     "name": "stderr",
     "output_type": "stream",
     "text": [
      "\r",
      "  0%|                                                                                                                                                                    | 0/13 [00:00<?, ?it/s]"
     ]
    },
    {
     "name": "stdout",
     "output_type": "stream",
     "text": [
      "https://www.menziesartbrands.com/catalogue-details/18418?page=1\n"
     ]
    },
    {
     "name": "stderr",
     "output_type": "stream",
     "text": [
      "\r",
      "  8%|████████████                                                                                                                                                | 1/13 [00:11<02:22, 11.84s/it]"
     ]
    },
    {
     "name": "stdout",
     "output_type": "stream",
     "text": [
      "page_num = 1, img_count = 740\n",
      "https://www.menziesartbrands.com/catalogue-details/18418?page=2\n"
     ]
    },
    {
     "name": "stderr",
     "output_type": "stream",
     "text": [
      "\r",
      " 15%|████████████████████████                                                                                                                                    | 2/13 [00:25<02:19, 12.66s/it]"
     ]
    },
    {
     "name": "stdout",
     "output_type": "stream",
     "text": [
      "page_num = 2, img_count = 748\n",
      "https://www.menziesartbrands.com/catalogue-details/18418?page=3\n"
     ]
    },
    {
     "name": "stderr",
     "output_type": "stream",
     "text": [
      "\r",
      " 23%|████████████████████████████████████                                                                                                                        | 3/13 [00:36<01:59, 11.97s/it]"
     ]
    },
    {
     "name": "stdout",
     "output_type": "stream",
     "text": [
      "page_num = 3, img_count = 755\n",
      "https://www.menziesartbrands.com/catalogue-details/18418?page=4\n"
     ]
    },
    {
     "name": "stderr",
     "output_type": "stream",
     "text": [
      "\r",
      " 31%|████████████████████████████████████████████████                                                                                                            | 4/13 [00:47<01:44, 11.56s/it]"
     ]
    },
    {
     "name": "stdout",
     "output_type": "stream",
     "text": [
      "page_num = 4, img_count = 762\n",
      "https://www.menziesartbrands.com/catalogue-details/18418?page=5\n"
     ]
    },
    {
     "name": "stderr",
     "output_type": "stream",
     "text": [
      "\r",
      " 38%|████████████████████████████████████████████████████████████                                                                                                | 5/13 [01:02<01:43, 12.90s/it]"
     ]
    },
    {
     "name": "stdout",
     "output_type": "stream",
     "text": [
      "page_num = 5, img_count = 771\n",
      "https://www.menziesartbrands.com/catalogue-details/18418?page=6\n"
     ]
    },
    {
     "name": "stderr",
     "output_type": "stream",
     "text": [
      "\r",
      " 46%|████████████████████████████████████████████████████████████████████████                                                                                    | 6/13 [01:16<01:32, 13.18s/it]"
     ]
    },
    {
     "name": "stdout",
     "output_type": "stream",
     "text": [
      "page_num = 6, img_count = 779\n",
      "https://www.menziesartbrands.com/catalogue-details/18418?page=7\n"
     ]
    },
    {
     "name": "stderr",
     "output_type": "stream",
     "text": [
      "\r",
      " 54%|████████████████████████████████████████████████████████████████████████████████████                                                                        | 7/13 [01:26<01:13, 12.22s/it]"
     ]
    },
    {
     "name": "stdout",
     "output_type": "stream",
     "text": [
      "page_num = 7, img_count = 786\n",
      "https://www.menziesartbrands.com/catalogue-details/18418?page=8\n"
     ]
    },
    {
     "name": "stderr",
     "output_type": "stream",
     "text": [
      "\r",
      " 62%|████████████████████████████████████████████████████████████████████████████████████████████████                                                            | 8/13 [01:39<01:02, 12.44s/it]"
     ]
    },
    {
     "name": "stdout",
     "output_type": "stream",
     "text": [
      "page_num = 8, img_count = 795\n",
      "https://www.menziesartbrands.com/catalogue-details/18418?page=9\n"
     ]
    },
    {
     "name": "stderr",
     "output_type": "stream",
     "text": [
      "\r",
      " 69%|████████████████████████████████████████████████████████████████████████████████████████████████████████████                                                | 9/13 [01:52<00:50, 12.56s/it]"
     ]
    },
    {
     "name": "stdout",
     "output_type": "stream",
     "text": [
      "page_num = 9, img_count = 804\n",
      "https://www.menziesartbrands.com/catalogue-details/18418?page=10\n"
     ]
    },
    {
     "name": "stderr",
     "output_type": "stream",
     "text": [
      "\r",
      " 77%|███████████████████████████████████████████████████████████████████████████████████████████████████████████████████████▏                                   | 10/13 [01:58<00:31, 10.66s/it]"
     ]
    },
    {
     "name": "stdout",
     "output_type": "stream",
     "text": [
      "page_num = 10, img_count = 808\n",
      "https://www.menziesartbrands.com/catalogue-details/18418?page=11\n"
     ]
    },
    {
     "name": "stderr",
     "output_type": "stream",
     "text": [
      "\r",
      " 85%|███████████████████████████████████████████████████████████████████████████████████████████████████████████████████████████████████▏                       | 11/13 [02:10<00:22, 11.16s/it]"
     ]
    },
    {
     "name": "stdout",
     "output_type": "stream",
     "text": [
      "page_num = 11, img_count = 816\n",
      "https://www.menziesartbrands.com/catalogue-details/18418?page=12\n"
     ]
    },
    {
     "name": "stderr",
     "output_type": "stream",
     "text": [
      "\r",
      " 92%|███████████████████████████████████████████████████████████████████████████████████████████████████████████████████████████████████████████████            | 12/13 [02:23<00:11, 11.57s/it]"
     ]
    },
    {
     "name": "stdout",
     "output_type": "stream",
     "text": [
      "page_num = 12, img_count = 825\n",
      "https://www.menziesartbrands.com/catalogue-details/18418?page=13\n"
     ]
    },
    {
     "name": "stderr",
     "output_type": "stream",
     "text": [
      "100%|███████████████████████████████████████████████████████████████████████████████████████████████████████████████████████████████████████████████████████████| 13/13 [02:38<00:00, 12.22s/it]"
     ]
    },
    {
     "name": "stdout",
     "output_type": "stream",
     "text": [
      "page_num = 13, img_count = 834\n",
      "auction_url = https://www.menziesartbrands.com/catalogue-details/18418, img_count = 834\n"
     ]
    },
    {
     "name": "stderr",
     "output_type": "stream",
     "text": [
      "\n"
     ]
    },
    {
     "name": "stdout",
     "output_type": "stream",
     "text": [
      "https://www.menziesartbrands.com/catalogue-details/18405\n",
      "https://www.menziesartbrands.com/catalogue-details/18045\n"
     ]
    },
    {
     "name": "stderr",
     "output_type": "stream",
     "text": [
      "\r",
      "  0%|                                                                                                                                                                    | 0/17 [00:00<?, ?it/s]"
     ]
    },
    {
     "name": "stdout",
     "output_type": "stream",
     "text": [
      "https://www.menziesartbrands.com/catalogue-details/18045?page=1\n"
     ]
    },
    {
     "name": "stderr",
     "output_type": "stream",
     "text": [
      "\r",
      "  6%|█████████▏                                                                                                                                                  | 1/17 [00:11<03:07, 11.70s/it]"
     ]
    },
    {
     "name": "stdout",
     "output_type": "stream",
     "text": [
      "page_num = 1, img_count = 842\n",
      "https://www.menziesartbrands.com/catalogue-details/18045?page=2\n"
     ]
    },
    {
     "name": "stderr",
     "output_type": "stream",
     "text": [
      "\r",
      " 12%|██████████████████▎                                                                                                                                         | 2/17 [00:23<02:54, 11.61s/it]"
     ]
    },
    {
     "name": "stdout",
     "output_type": "stream",
     "text": [
      "page_num = 2, img_count = 850\n",
      "https://www.menziesartbrands.com/catalogue-details/18045?page=3\n"
     ]
    },
    {
     "name": "stderr",
     "output_type": "stream",
     "text": [
      "\r",
      " 18%|███████████████████████████▌                                                                                                                                | 3/17 [00:38<03:03, 13.08s/it]"
     ]
    },
    {
     "name": "stdout",
     "output_type": "stream",
     "text": [
      "page_num = 3, img_count = 859\n",
      "https://www.menziesartbrands.com/catalogue-details/18045?page=4\n"
     ]
    },
    {
     "name": "stderr",
     "output_type": "stream",
     "text": [
      "\r",
      " 24%|████████████████████████████████████▋                                                                                                                       | 4/17 [00:50<02:45, 12.72s/it]"
     ]
    },
    {
     "name": "stdout",
     "output_type": "stream",
     "text": [
      "page_num = 4, img_count = 866\n",
      "https://www.menziesartbrands.com/catalogue-details/18045?page=5\n"
     ]
    },
    {
     "name": "stderr",
     "output_type": "stream",
     "text": [
      "\r",
      " 29%|█████████████████████████████████████████████▉                                                                                                              | 5/17 [01:01<02:27, 12.31s/it]"
     ]
    },
    {
     "name": "stdout",
     "output_type": "stream",
     "text": [
      "page_num = 5, img_count = 873\n",
      "https://www.menziesartbrands.com/catalogue-details/18045?page=6\n"
     ]
    },
    {
     "name": "stderr",
     "output_type": "stream",
     "text": [
      "\r",
      " 35%|███████████████████████████████████████████████████████                                                                                                     | 6/17 [01:13<02:12, 12.01s/it]"
     ]
    },
    {
     "name": "stdout",
     "output_type": "stream",
     "text": [
      "page_num = 6, img_count = 881\n",
      "https://www.menziesartbrands.com/catalogue-details/18045?page=7\n"
     ]
    },
    {
     "name": "stderr",
     "output_type": "stream",
     "text": [
      "\r",
      " 41%|████████████████████████████████████████████████████████████████▏                                                                                           | 7/17 [01:24<01:57, 11.79s/it]"
     ]
    },
    {
     "name": "stdout",
     "output_type": "stream",
     "text": [
      "page_num = 7, img_count = 889\n",
      "https://www.menziesartbrands.com/catalogue-details/18045?page=8\n"
     ]
    },
    {
     "name": "stderr",
     "output_type": "stream",
     "text": [
      "\r",
      " 47%|█████████████████████████████████████████████████████████████████████████▍                                                                                  | 8/17 [01:37<01:49, 12.14s/it]"
     ]
    },
    {
     "name": "stdout",
     "output_type": "stream",
     "text": [
      "page_num = 8, img_count = 897\n",
      "https://www.menziesartbrands.com/catalogue-details/18045?page=9\n"
     ]
    },
    {
     "name": "stderr",
     "output_type": "stream",
     "text": [
      "\r",
      " 53%|██████████████████████████████████████████████████████████████████████████████████▌                                                                         | 9/17 [01:48<01:34, 11.78s/it]"
     ]
    },
    {
     "name": "stdout",
     "output_type": "stream",
     "text": [
      "page_num = 9, img_count = 903\n",
      "https://www.menziesartbrands.com/catalogue-details/18045?page=10\n"
     ]
    },
    {
     "name": "stderr",
     "output_type": "stream",
     "text": [
      "\r",
      " 59%|███████████████████████████████████████████████████████████████████████████████████████████▏                                                               | 10/17 [02:03<01:28, 12.66s/it]"
     ]
    },
    {
     "name": "stdout",
     "output_type": "stream",
     "text": [
      "page_num = 10, img_count = 912\n",
      "https://www.menziesartbrands.com/catalogue-details/18045?page=11\n"
     ]
    },
    {
     "name": "stderr",
     "output_type": "stream",
     "text": [
      "\r",
      " 65%|████████████████████████████████████████████████████████████████████████████████████████████████████▎                                                      | 11/17 [02:15<01:15, 12.55s/it]"
     ]
    },
    {
     "name": "stdout",
     "output_type": "stream",
     "text": [
      "page_num = 11, img_count = 920\n",
      "https://www.menziesartbrands.com/catalogue-details/18045?page=12\n"
     ]
    },
    {
     "name": "stderr",
     "output_type": "stream",
     "text": [
      "\r",
      " 71%|█████████████████████████████████████████████████████████████████████████████████████████████████████████████▍                                             | 12/17 [02:21<00:52, 10.50s/it]"
     ]
    },
    {
     "name": "stdout",
     "output_type": "stream",
     "text": [
      "page_num = 12, img_count = 924\n",
      "https://www.menziesartbrands.com/catalogue-details/18045?page=13\n"
     ]
    },
    {
     "name": "stderr",
     "output_type": "stream",
     "text": [
      "\r",
      " 76%|██████████████████████████████████████████████████████████████████████████████████████████████████████████████████████▌                                    | 13/17 [02:33<00:43, 10.91s/it]"
     ]
    },
    {
     "name": "stdout",
     "output_type": "stream",
     "text": [
      "page_num = 13, img_count = 932\n",
      "https://www.menziesartbrands.com/catalogue-details/18045?page=14\n"
     ]
    },
    {
     "name": "stderr",
     "output_type": "stream",
     "text": [
      "\r",
      " 82%|███████████████████████████████████████████████████████████████████████████████████████████████████████████████████████████████▋                           | 14/17 [02:45<00:34, 11.37s/it]"
     ]
    },
    {
     "name": "stdout",
     "output_type": "stream",
     "text": [
      "page_num = 14, img_count = 940\n",
      "https://www.menziesartbrands.com/catalogue-details/18045?page=15\n"
     ]
    },
    {
     "name": "stderr",
     "output_type": "stream",
     "text": [
      "\r",
      " 88%|████████████████████████████████████████████████████████████████████████████████████████████████████████████████████████████████████████▊                  | 15/17 [02:52<00:20, 10.06s/it]"
     ]
    },
    {
     "name": "stdout",
     "output_type": "stream",
     "text": [
      "page_num = 15, img_count = 945\n",
      "https://www.menziesartbrands.com/catalogue-details/18045?page=16\n"
     ]
    },
    {
     "name": "stderr",
     "output_type": "stream",
     "text": [
      "\r",
      " 94%|█████████████████████████████████████████████████████████████████████████████████████████████████████████████████████████████████████████████████▉         | 16/17 [03:03<00:10, 10.46s/it]"
     ]
    },
    {
     "name": "stdout",
     "output_type": "stream",
     "text": [
      "page_num = 16, img_count = 953\n",
      "https://www.menziesartbrands.com/catalogue-details/18045?page=17\n"
     ]
    },
    {
     "name": "stderr",
     "output_type": "stream",
     "text": [
      "100%|███████████████████████████████████████████████████████████████████████████████████████████████████████████████████████████████████████████████████████████| 17/17 [03:20<00:00, 11.79s/it]"
     ]
    },
    {
     "name": "stdout",
     "output_type": "stream",
     "text": [
      "page_num = 17, img_count = 961\n",
      "auction_url = https://www.menziesartbrands.com/catalogue-details/18045, img_count = 961\n"
     ]
    },
    {
     "name": "stderr",
     "output_type": "stream",
     "text": [
      "\n"
     ]
    },
    {
     "name": "stdout",
     "output_type": "stream",
     "text": [
      "https://www.menziesartbrands.com/catalogue-details/17811\n"
     ]
    },
    {
     "name": "stderr",
     "output_type": "stream",
     "text": [
      "\r",
      "  0%|                                                                                                                                                                    | 0/11 [00:00<?, ?it/s]"
     ]
    },
    {
     "name": "stdout",
     "output_type": "stream",
     "text": [
      "https://www.menziesartbrands.com/catalogue-details/17811?page=1\n"
     ]
    },
    {
     "name": "stderr",
     "output_type": "stream",
     "text": [
      "\r",
      "  9%|██████████████▏                                                                                                                                             | 1/11 [00:12<02:06, 12.62s/it]"
     ]
    },
    {
     "name": "stdout",
     "output_type": "stream",
     "text": [
      "page_num = 1, img_count = 969\n",
      "https://www.menziesartbrands.com/catalogue-details/17811?page=2\n"
     ]
    },
    {
     "name": "stderr",
     "output_type": "stream",
     "text": [
      "\r",
      " 18%|████████████████████████████▎                                                                                                                               | 2/11 [00:23<01:42, 11.34s/it]"
     ]
    },
    {
     "name": "stdout",
     "output_type": "stream",
     "text": [
      "page_num = 2, img_count = 976\n",
      "https://www.menziesartbrands.com/catalogue-details/17811?page=3\n"
     ]
    },
    {
     "name": "stderr",
     "output_type": "stream",
     "text": [
      "\r",
      " 27%|██████████████████████████████████████████▌                                                                                                                 | 3/11 [00:33<01:26, 10.77s/it]"
     ]
    },
    {
     "name": "stdout",
     "output_type": "stream",
     "text": [
      "page_num = 3, img_count = 983\n",
      "https://www.menziesartbrands.com/catalogue-details/17811?page=4\n"
     ]
    },
    {
     "name": "stderr",
     "output_type": "stream",
     "text": [
      "\r",
      " 36%|████████████████████████████████████████████████████████▋                                                                                                   | 4/11 [00:44<01:18, 11.18s/it]"
     ]
    },
    {
     "name": "stdout",
     "output_type": "stream",
     "text": [
      "page_num = 4, img_count = 992\n",
      "https://www.menziesartbrands.com/catalogue-details/17811?page=5\n"
     ]
    },
    {
     "name": "stderr",
     "output_type": "stream",
     "text": [
      "\r",
      " 45%|██████████████████████████████████████████████████████████████████████▉                                                                                     | 5/11 [00:56<01:07, 11.25s/it]"
     ]
    },
    {
     "name": "stdout",
     "output_type": "stream",
     "text": [
      "page_num = 5, img_count = 1000\n",
      "https://www.menziesartbrands.com/catalogue-details/17811?page=6\n"
     ]
    },
    {
     "name": "stderr",
     "output_type": "stream",
     "text": [
      "\r",
      " 55%|█████████████████████████████████████████████████████████████████████████████████████                                                                       | 6/11 [01:08<00:57, 11.47s/it]"
     ]
    },
    {
     "name": "stdout",
     "output_type": "stream",
     "text": [
      "page_num = 6, img_count = 1004\n",
      "https://www.menziesartbrands.com/catalogue-details/17811?page=7\n"
     ]
    },
    {
     "name": "stderr",
     "output_type": "stream",
     "text": [
      "\r",
      " 64%|███████████████████████████████████████████████████████████████████████████████████████████████████▎                                                        | 7/11 [01:30<00:59, 14.85s/it]"
     ]
    },
    {
     "name": "stdout",
     "output_type": "stream",
     "text": [
      "page_num = 7, img_count = 1010\n",
      "https://www.menziesartbrands.com/catalogue-details/17811?page=8\n"
     ]
    },
    {
     "name": "stderr",
     "output_type": "stream",
     "text": [
      "\r",
      " 73%|█████████████████████████████████████████████████████████████████████████████████████████████████████████████████▍                                          | 8/11 [01:53<00:52, 17.48s/it]"
     ]
    },
    {
     "name": "stdout",
     "output_type": "stream",
     "text": [
      "page_num = 8, img_count = 1017\n",
      "https://www.menziesartbrands.com/catalogue-details/17811?page=9\n"
     ]
    },
    {
     "name": "stderr",
     "output_type": "stream",
     "text": [
      "\r",
      " 82%|███████████████████████████████████████████████████████████████████████████████████████████████████████████████████████████████▋                            | 9/11 [02:16<00:38, 19.22s/it]"
     ]
    },
    {
     "name": "stdout",
     "output_type": "stream",
     "text": [
      "page_num = 9, img_count = 1026\n",
      "https://www.menziesartbrands.com/catalogue-details/17811?page=10\n"
     ]
    },
    {
     "name": "stderr",
     "output_type": "stream",
     "text": [
      "\r",
      " 91%|████████████████████████████████████████████████████████████████████████████████████████████████████████████████████████████████████████████▉              | 10/11 [02:34<00:18, 18.84s/it]"
     ]
    },
    {
     "name": "stdout",
     "output_type": "stream",
     "text": [
      "page_num = 10, img_count = 1035\n",
      "https://www.menziesartbrands.com/catalogue-details/17811?page=11\n"
     ]
    },
    {
     "name": "stderr",
     "output_type": "stream",
     "text": [
      "100%|███████████████████████████████████████████████████████████████████████████████████████████████████████████████████████████████████████████████████████████| 11/11 [02:39<00:00, 14.51s/it]"
     ]
    },
    {
     "name": "stdout",
     "output_type": "stream",
     "text": [
      "page_num = 11, img_count = 1037\n",
      "auction_url = https://www.menziesartbrands.com/catalogue-details/17811, img_count = 1037\n"
     ]
    },
    {
     "name": "stderr",
     "output_type": "stream",
     "text": [
      "\n"
     ]
    },
    {
     "name": "stdout",
     "output_type": "stream",
     "text": [
      "https://www.menziesartbrands.com/catalogue-details/17607\n"
     ]
    },
    {
     "name": "stderr",
     "output_type": "stream",
     "text": [
      "\r",
      "  0%|                                                                                                                                                                    | 0/16 [00:00<?, ?it/s]"
     ]
    },
    {
     "name": "stdout",
     "output_type": "stream",
     "text": [
      "https://www.menziesartbrands.com/catalogue-details/17607?page=1\n"
     ]
    },
    {
     "name": "stderr",
     "output_type": "stream",
     "text": [
      "\r",
      "  6%|█████████▊                                                                                                                                                  | 1/16 [00:14<03:41, 14.75s/it]"
     ]
    },
    {
     "name": "stdout",
     "output_type": "stream",
     "text": [
      "page_num = 1, img_count = 1043\n",
      "https://www.menziesartbrands.com/catalogue-details/17607?page=2\n"
     ]
    },
    {
     "name": "stderr",
     "output_type": "stream",
     "text": [
      "\r",
      " 12%|███████████████████▌                                                                                                                                        | 2/16 [00:28<03:20, 14.30s/it]"
     ]
    },
    {
     "name": "stdout",
     "output_type": "stream",
     "text": [
      "page_num = 2, img_count = 1049\n",
      "https://www.menziesartbrands.com/catalogue-details/17607?page=3\n"
     ]
    },
    {
     "name": "stderr",
     "output_type": "stream",
     "text": [
      "\r",
      " 19%|█████████████████████████████▎                                                                                                                              | 3/16 [01:10<05:46, 26.63s/it]"
     ]
    },
    {
     "name": "stdout",
     "output_type": "stream",
     "text": [
      "page_num = 3, img_count = 1054\n",
      "https://www.menziesartbrands.com/catalogue-details/17607?page=4\n"
     ]
    },
    {
     "name": "stderr",
     "output_type": "stream",
     "text": [
      "\r",
      " 25%|███████████████████████████████████████                                                                                                                     | 4/16 [01:16<03:43, 18.65s/it]"
     ]
    },
    {
     "name": "stdout",
     "output_type": "stream",
     "text": [
      "page_num = 4, img_count = 1056\n",
      "https://www.menziesartbrands.com/catalogue-details/17607?page=5\n"
     ]
    },
    {
     "name": "stderr",
     "output_type": "stream",
     "text": [
      "\r",
      " 31%|████████████████████████████████████████████████▊                                                                                                           | 5/16 [01:26<02:51, 15.56s/it]"
     ]
    },
    {
     "name": "stdout",
     "output_type": "stream",
     "text": [
      "page_num = 5, img_count = 1060\n",
      "https://www.menziesartbrands.com/catalogue-details/17607?page=6\n"
     ]
    },
    {
     "name": "stderr",
     "output_type": "stream",
     "text": [
      "\r",
      " 38%|██████████████████████████████████████████████████████████▌                                                                                                 | 6/16 [01:41<02:34, 15.48s/it]"
     ]
    },
    {
     "name": "stdout",
     "output_type": "stream",
     "text": [
      "page_num = 6, img_count = 1067\n",
      "https://www.menziesartbrands.com/catalogue-details/17607?page=7\n"
     ]
    },
    {
     "name": "stderr",
     "output_type": "stream",
     "text": [
      "\r",
      " 44%|████████████████████████████████████████████████████████████████████▎                                                                                       | 7/16 [01:57<02:20, 15.56s/it]"
     ]
    },
    {
     "name": "stdout",
     "output_type": "stream",
     "text": [
      "page_num = 7, img_count = 1075\n",
      "https://www.menziesartbrands.com/catalogue-details/17607?page=8\n"
     ]
    },
    {
     "name": "stderr",
     "output_type": "stream",
     "text": [
      "\r",
      " 50%|██████████████████████████████████████████████████████████████████████████████                                                                              | 8/16 [02:13<02:04, 15.54s/it]"
     ]
    },
    {
     "name": "stdout",
     "output_type": "stream",
     "text": [
      "page_num = 8, img_count = 1083\n",
      "https://www.menziesartbrands.com/catalogue-details/17607?page=9\n"
     ]
    },
    {
     "name": "stderr",
     "output_type": "stream",
     "text": [
      "\r",
      " 56%|███████████████████████████████████████████████████████████████████████████████████████▊                                                                    | 9/16 [02:27<01:46, 15.17s/it]"
     ]
    },
    {
     "name": "stdout",
     "output_type": "stream",
     "text": [
      "page_num = 9, img_count = 1090\n",
      "https://www.menziesartbrands.com/catalogue-details/17607?page=10\n"
     ]
    },
    {
     "name": "stderr",
     "output_type": "stream",
     "text": [
      "\r",
      " 62%|████████████████████████████████████████████████████████████████████████████████████████████████▉                                                          | 10/16 [02:43<01:33, 15.60s/it]"
     ]
    },
    {
     "name": "stdout",
     "output_type": "stream",
     "text": [
      "page_num = 10, img_count = 1098\n",
      "https://www.menziesartbrands.com/catalogue-details/17607?page=11\n"
     ]
    },
    {
     "name": "stderr",
     "output_type": "stream",
     "text": [
      "\r",
      " 69%|██████████████████████████████████████████████████████████████████████████████████████████████████████████▌                                                | 11/16 [02:59<01:17, 15.50s/it]"
     ]
    },
    {
     "name": "stdout",
     "output_type": "stream",
     "text": [
      "page_num = 11, img_count = 1105\n",
      "https://www.menziesartbrands.com/catalogue-details/17607?page=12\n"
     ]
    },
    {
     "name": "stderr",
     "output_type": "stream",
     "text": [
      "\r",
      " 75%|████████████████████████████████████████████████████████████████████████████████████████████████████████████████████▎                                      | 12/16 [03:13<00:59, 14.99s/it]"
     ]
    },
    {
     "name": "stdout",
     "output_type": "stream",
     "text": [
      "page_num = 12, img_count = 1111\n",
      "https://www.menziesartbrands.com/catalogue-details/17607?page=13\n"
     ]
    },
    {
     "name": "stderr",
     "output_type": "stream",
     "text": [
      "\r",
      " 81%|█████████████████████████████████████████████████████████████████████████████████████████████████████████████████████████████▉                             | 13/16 [03:29<00:46, 15.39s/it]"
     ]
    },
    {
     "name": "stdout",
     "output_type": "stream",
     "text": [
      "page_num = 13, img_count = 1119\n",
      "https://www.menziesartbrands.com/catalogue-details/17607?page=14\n"
     ]
    },
    {
     "name": "stderr",
     "output_type": "stream",
     "text": [
      "\r",
      " 88%|███████████████████████████████████████████████████████████████████████████████████████████████████████████████████████████████████████▋                   | 14/16 [03:40<00:28, 14.07s/it]"
     ]
    },
    {
     "name": "stdout",
     "output_type": "stream",
     "text": [
      "page_num = 14, img_count = 1124\n",
      "https://www.menziesartbrands.com/catalogue-details/17607?page=15\n"
     ]
    },
    {
     "name": "stderr",
     "output_type": "stream",
     "text": [
      "\r",
      " 94%|█████████████████████████████████████████████████████████████████████████████████████████████████████████████████████████████████████████████████▎         | 15/16 [03:56<00:14, 14.69s/it]"
     ]
    },
    {
     "name": "stdout",
     "output_type": "stream",
     "text": [
      "page_num = 15, img_count = 1131\n",
      "https://www.menziesartbrands.com/catalogue-details/17607?page=16\n"
     ]
    },
    {
     "name": "stderr",
     "output_type": "stream",
     "text": [
      "100%|███████████████████████████████████████████████████████████████████████████████████████████████████████████████████████████████████████████████████████████| 16/16 [04:09<00:00, 15.61s/it]"
     ]
    },
    {
     "name": "stdout",
     "output_type": "stream",
     "text": [
      "page_num = 16, img_count = 1136\n",
      "auction_url = https://www.menziesartbrands.com/catalogue-details/17607, img_count = 1136\n"
     ]
    },
    {
     "name": "stderr",
     "output_type": "stream",
     "text": [
      "\n"
     ]
    },
    {
     "name": "stdout",
     "output_type": "stream",
     "text": [
      "https://www.menziesartbrands.com/catalogue-details/17310\n"
     ]
    },
    {
     "name": "stderr",
     "output_type": "stream",
     "text": [
      "\r",
      "  0%|                                                                                                                                                                    | 0/13 [00:00<?, ?it/s]"
     ]
    },
    {
     "name": "stdout",
     "output_type": "stream",
     "text": [
      "https://www.menziesartbrands.com/catalogue-details/17310?page=1\n"
     ]
    },
    {
     "name": "stderr",
     "output_type": "stream",
     "text": [
      "\r",
      "  8%|████████████                                                                                                                                                | 1/13 [00:19<03:55, 19.59s/it]"
     ]
    },
    {
     "name": "stdout",
     "output_type": "stream",
     "text": [
      "page_num = 1, img_count = 1145\n",
      "https://www.menziesartbrands.com/catalogue-details/17310?page=2\n"
     ]
    },
    {
     "name": "stderr",
     "output_type": "stream",
     "text": [
      "\r",
      " 15%|████████████████████████                                                                                                                                    | 2/13 [00:38<03:32, 19.34s/it]"
     ]
    },
    {
     "name": "stdout",
     "output_type": "stream",
     "text": [
      "page_num = 2, img_count = 1149\n",
      "https://www.menziesartbrands.com/catalogue-details/17310?page=3\n"
     ]
    },
    {
     "name": "stderr",
     "output_type": "stream",
     "text": [
      "\r",
      " 23%|████████████████████████████████████                                                                                                                        | 3/13 [00:55<03:01, 18.13s/it]"
     ]
    },
    {
     "name": "stdout",
     "output_type": "stream",
     "text": [
      "page_num = 3, img_count = 1156\n",
      "https://www.menziesartbrands.com/catalogue-details/17310?page=4\n"
     ]
    },
    {
     "name": "stderr",
     "output_type": "stream",
     "text": [
      "\r",
      " 31%|████████████████████████████████████████████████                                                                                                            | 4/13 [01:08<02:25, 16.18s/it]"
     ]
    },
    {
     "name": "stdout",
     "output_type": "stream",
     "text": [
      "page_num = 4, img_count = 1162\n",
      "https://www.menziesartbrands.com/catalogue-details/17310?page=5\n"
     ]
    },
    {
     "name": "stderr",
     "output_type": "stream",
     "text": [
      "\r",
      " 38%|████████████████████████████████████████████████████████████                                                                                                | 5/13 [01:22<02:01, 15.19s/it]"
     ]
    },
    {
     "name": "stdout",
     "output_type": "stream",
     "text": [
      "page_num = 5, img_count = 1168\n",
      "https://www.menziesartbrands.com/catalogue-details/17310?page=6\n"
     ]
    },
    {
     "name": "stderr",
     "output_type": "stream",
     "text": [
      "\r",
      " 46%|████████████████████████████████████████████████████████████████████████                                                                                    | 6/13 [01:39<01:51, 15.97s/it]"
     ]
    },
    {
     "name": "stdout",
     "output_type": "stream",
     "text": [
      "page_num = 6, img_count = 1176\n",
      "https://www.menziesartbrands.com/catalogue-details/17310?page=7\n"
     ]
    },
    {
     "name": "stderr",
     "output_type": "stream",
     "text": [
      "\r",
      " 54%|████████████████████████████████████████████████████████████████████████████████████                                                                        | 7/13 [01:52<01:29, 14.87s/it]"
     ]
    },
    {
     "name": "stdout",
     "output_type": "stream",
     "text": [
      "page_num = 7, img_count = 1181\n",
      "https://www.menziesartbrands.com/catalogue-details/17310?page=8\n"
     ]
    },
    {
     "name": "stderr",
     "output_type": "stream",
     "text": [
      "\r",
      " 62%|████████████████████████████████████████████████████████████████████████████████████████████████                                                            | 8/13 [02:10<01:19, 15.94s/it]"
     ]
    },
    {
     "name": "stdout",
     "output_type": "stream",
     "text": [
      "page_num = 8, img_count = 1190\n",
      "https://www.menziesartbrands.com/catalogue-details/17310?page=9\n"
     ]
    },
    {
     "name": "stderr",
     "output_type": "stream",
     "text": [
      "\r",
      " 69%|████████████████████████████████████████████████████████████████████████████████████████████████████████████                                                | 9/13 [02:27<01:05, 16.29s/it]"
     ]
    },
    {
     "name": "stdout",
     "output_type": "stream",
     "text": [
      "page_num = 9, img_count = 1198\n",
      "https://www.menziesartbrands.com/catalogue-details/17310?page=10\n"
     ]
    },
    {
     "name": "stderr",
     "output_type": "stream",
     "text": [
      "\r",
      " 77%|███████████████████████████████████████████████████████████████████████████████████████████████████████████████████████▏                                   | 10/13 [02:44<00:49, 16.43s/it]"
     ]
    },
    {
     "name": "stdout",
     "output_type": "stream",
     "text": [
      "page_num = 10, img_count = 1206\n",
      "https://www.menziesartbrands.com/catalogue-details/17310?page=11\n"
     ]
    },
    {
     "name": "stderr",
     "output_type": "stream",
     "text": [
      "\r",
      " 85%|███████████████████████████████████████████████████████████████████████████████████████████████████████████████████████████████████▏                       | 11/13 [02:59<00:31, 15.94s/it]"
     ]
    },
    {
     "name": "stdout",
     "output_type": "stream",
     "text": [
      "page_num = 11, img_count = 1213\n",
      "https://www.menziesartbrands.com/catalogue-details/17310?page=12\n"
     ]
    },
    {
     "name": "stderr",
     "output_type": "stream",
     "text": [
      "\r",
      " 92%|███████████████████████████████████████████████████████████████████████████████████████████████████████████████████████████████████████████████            | 12/13 [03:11<00:14, 14.82s/it]"
     ]
    },
    {
     "name": "stdout",
     "output_type": "stream",
     "text": [
      "page_num = 12, img_count = 1219\n",
      "https://www.menziesartbrands.com/catalogue-details/17310?page=13\n"
     ]
    },
    {
     "name": "stderr",
     "output_type": "stream",
     "text": [
      "100%|███████████████████████████████████████████████████████████████████████████████████████████████████████████████████████████████████████████████████████████| 13/13 [03:25<00:00, 15.83s/it]"
     ]
    },
    {
     "name": "stdout",
     "output_type": "stream",
     "text": [
      "page_num = 13, img_count = 1226\n",
      "auction_url = https://www.menziesartbrands.com/catalogue-details/17310, img_count = 1226\n"
     ]
    },
    {
     "name": "stderr",
     "output_type": "stream",
     "text": [
      "\n"
     ]
    },
    {
     "name": "stdout",
     "output_type": "stream",
     "text": [
      "https://www.menziesartbrands.com/catalogue-details/17164\n"
     ]
    },
    {
     "name": "stderr",
     "output_type": "stream",
     "text": [
      "\r",
      "  0%|                                                                                                                                                                    | 0/11 [00:00<?, ?it/s]"
     ]
    },
    {
     "name": "stdout",
     "output_type": "stream",
     "text": [
      "https://www.menziesartbrands.com/catalogue-details/17164?page=1\n"
     ]
    },
    {
     "name": "stderr",
     "output_type": "stream",
     "text": [
      "\r",
      "  9%|██████████████▏                                                                                                                                             | 1/11 [00:17<02:58, 17.83s/it]"
     ]
    },
    {
     "name": "stdout",
     "output_type": "stream",
     "text": [
      "page_num = 1, img_count = 1235\n",
      "https://www.menziesartbrands.com/catalogue-details/17164?page=2\n"
     ]
    },
    {
     "name": "stderr",
     "output_type": "stream",
     "text": [
      "\r",
      " 18%|████████████████████████████▎                                                                                                                               | 2/11 [00:35<02:37, 17.54s/it]"
     ]
    },
    {
     "name": "stdout",
     "output_type": "stream",
     "text": [
      "page_num = 2, img_count = 1243\n",
      "https://www.menziesartbrands.com/catalogue-details/17164?page=3\n"
     ]
    },
    {
     "name": "stderr",
     "output_type": "stream",
     "text": [
      "\r",
      " 27%|██████████████████████████████████████████▌                                                                                                                 | 3/11 [00:50<02:11, 16.44s/it]"
     ]
    },
    {
     "name": "stdout",
     "output_type": "stream",
     "text": [
      "page_num = 3, img_count = 1250\n",
      "https://www.menziesartbrands.com/catalogue-details/17164?page=4\n"
     ]
    },
    {
     "name": "stderr",
     "output_type": "stream",
     "text": [
      "\r",
      " 36%|████████████████████████████████████████████████████████▋                                                                                                   | 4/11 [01:24<02:44, 23.53s/it]"
     ]
    },
    {
     "name": "stdout",
     "output_type": "stream",
     "text": [
      "page_num = 4, img_count = 1258\n",
      "https://www.menziesartbrands.com/catalogue-details/17164?page=5\n"
     ]
    },
    {
     "name": "stderr",
     "output_type": "stream",
     "text": [
      "\r",
      " 45%|██████████████████████████████████████████████████████████████████████▉                                                                                     | 5/11 [01:37<01:58, 19.78s/it]"
     ]
    },
    {
     "name": "stdout",
     "output_type": "stream",
     "text": [
      "page_num = 5, img_count = 1263\n",
      "https://www.menziesartbrands.com/catalogue-details/17164?page=6\n"
     ]
    },
    {
     "name": "stderr",
     "output_type": "stream",
     "text": [
      "\r",
      " 55%|█████████████████████████████████████████████████████████████████████████████████████                                                                       | 6/11 [01:57<01:38, 19.68s/it]"
     ]
    },
    {
     "name": "stdout",
     "output_type": "stream",
     "text": [
      "page_num = 6, img_count = 1272\n",
      "https://www.menziesartbrands.com/catalogue-details/17164?page=7\n"
     ]
    },
    {
     "name": "stderr",
     "output_type": "stream",
     "text": [
      "\r",
      " 64%|███████████████████████████████████████████████████████████████████████████████████████████████████▎                                                        | 7/11 [02:12<01:13, 18.34s/it]"
     ]
    },
    {
     "name": "stdout",
     "output_type": "stream",
     "text": [
      "page_num = 7, img_count = 1279\n",
      "https://www.menziesartbrands.com/catalogue-details/17164?page=8\n"
     ]
    },
    {
     "name": "stderr",
     "output_type": "stream",
     "text": [
      "\r",
      " 73%|█████████████████████████████████████████████████████████████████████████████████████████████████████████████████▍                                          | 8/11 [02:26<00:50, 16.83s/it]"
     ]
    },
    {
     "name": "stdout",
     "output_type": "stream",
     "text": [
      "page_num = 8, img_count = 1286\n",
      "https://www.menziesartbrands.com/catalogue-details/17164?page=9\n"
     ]
    },
    {
     "name": "stderr",
     "output_type": "stream",
     "text": [
      "\r",
      " 82%|███████████████████████████████████████████████████████████████████████████████████████████████████████████████████████████████▋                            | 9/11 [02:43<00:33, 16.78s/it]"
     ]
    },
    {
     "name": "stdout",
     "output_type": "stream",
     "text": [
      "page_num = 9, img_count = 1295\n",
      "https://www.menziesartbrands.com/catalogue-details/17164?page=10\n"
     ]
    },
    {
     "name": "stderr",
     "output_type": "stream",
     "text": [
      "\r",
      " 91%|████████████████████████████████████████████████████████████████████████████████████████████████████████████████████████████████████████████▉              | 10/11 [02:59<00:16, 16.54s/it]"
     ]
    },
    {
     "name": "stdout",
     "output_type": "stream",
     "text": [
      "page_num = 10, img_count = 1304\n",
      "https://www.menziesartbrands.com/catalogue-details/17164?page=11\n"
     ]
    },
    {
     "name": "stderr",
     "output_type": "stream",
     "text": [
      "100%|███████████████████████████████████████████████████████████████████████████████████████████████████████████████████████████████████████████████████████████| 11/11 [03:02<00:00, 16.57s/it]"
     ]
    },
    {
     "name": "stdout",
     "output_type": "stream",
     "text": [
      "page_num = 11, img_count = 1305\n",
      "auction_url = https://www.menziesartbrands.com/catalogue-details/17164, img_count = 1305\n"
     ]
    },
    {
     "name": "stderr",
     "output_type": "stream",
     "text": [
      "\n"
     ]
    },
    {
     "name": "stdout",
     "output_type": "stream",
     "text": [
      "https://www.menziesartbrands.com/catalogue-details/16979\n"
     ]
    },
    {
     "name": "stderr",
     "output_type": "stream",
     "text": [
      "\r",
      "  0%|                                                                                                                                                                    | 0/15 [00:00<?, ?it/s]"
     ]
    },
    {
     "name": "stdout",
     "output_type": "stream",
     "text": [
      "https://www.menziesartbrands.com/catalogue-details/16979?page=1\n"
     ]
    },
    {
     "name": "stderr",
     "output_type": "stream",
     "text": [
      "\r",
      "  7%|██████████▍                                                                                                                                                 | 1/15 [00:16<03:44, 16.03s/it]"
     ]
    },
    {
     "name": "stdout",
     "output_type": "stream",
     "text": [
      "page_num = 1, img_count = 1313\n",
      "https://www.menziesartbrands.com/catalogue-details/16979?page=2\n"
     ]
    },
    {
     "name": "stderr",
     "output_type": "stream",
     "text": [
      "\r",
      " 13%|████████████████████▊                                                                                                                                       | 2/15 [00:32<03:29, 16.10s/it]"
     ]
    },
    {
     "name": "stdout",
     "output_type": "stream",
     "text": [
      "page_num = 2, img_count = 1320\n",
      "https://www.menziesartbrands.com/catalogue-details/16979?page=3\n"
     ]
    },
    {
     "name": "stderr",
     "output_type": "stream",
     "text": [
      "\r",
      " 20%|███████████████████████████████▏                                                                                                                            | 3/15 [00:42<02:41, 13.45s/it]"
     ]
    },
    {
     "name": "stdout",
     "output_type": "stream",
     "text": [
      "page_num = 3, img_count = 1324\n",
      "https://www.menziesartbrands.com/catalogue-details/16979?page=4\n"
     ]
    },
    {
     "name": "stderr",
     "output_type": "stream",
     "text": [
      "\r",
      " 27%|█████████████████████████████████████████▌                                                                                                                  | 4/15 [01:00<02:46, 15.10s/it]"
     ]
    },
    {
     "name": "stdout",
     "output_type": "stream",
     "text": [
      "page_num = 4, img_count = 1333\n",
      "https://www.menziesartbrands.com/catalogue-details/16979?page=5\n"
     ]
    },
    {
     "name": "stderr",
     "output_type": "stream",
     "text": [
      "\r",
      " 33%|████████████████████████████████████████████████████                                                                                                        | 5/15 [01:10<02:13, 13.31s/it]"
     ]
    },
    {
     "name": "stdout",
     "output_type": "stream",
     "text": [
      "page_num = 5, img_count = 1338\n",
      "https://www.menziesartbrands.com/catalogue-details/16979?page=6\n"
     ]
    },
    {
     "name": "stderr",
     "output_type": "stream",
     "text": [
      "\r",
      " 40%|██████████████████████████████████████████████████████████████▍                                                                                             | 6/15 [01:26<02:08, 14.24s/it]"
     ]
    },
    {
     "name": "stdout",
     "output_type": "stream",
     "text": [
      "page_num = 6, img_count = 1346\n",
      "https://www.menziesartbrands.com/catalogue-details/16979?page=7\n"
     ]
    },
    {
     "name": "stderr",
     "output_type": "stream",
     "text": [
      "\r",
      " 47%|████████████████████████████████████████████████████████████████████████▊                                                                                   | 7/15 [01:42<01:59, 14.95s/it]"
     ]
    },
    {
     "name": "stdout",
     "output_type": "stream",
     "text": [
      "page_num = 7, img_count = 1354\n",
      "https://www.menziesartbrands.com/catalogue-details/16979?page=8\n"
     ]
    },
    {
     "name": "stderr",
     "output_type": "stream",
     "text": [
      "\r",
      " 53%|███████████████████████████████████████████████████████████████████████████████████▏                                                                        | 8/15 [01:54<01:36, 13.86s/it]"
     ]
    },
    {
     "name": "stdout",
     "output_type": "stream",
     "text": [
      "page_num = 8, img_count = 1359\n",
      "https://www.menziesartbrands.com/catalogue-details/16979?page=9\n"
     ]
    },
    {
     "name": "stderr",
     "output_type": "stream",
     "text": [
      "\r",
      " 60%|█████████████████████████████████████████████████████████████████████████████████████████████▌                                                              | 9/15 [02:04<01:17, 12.86s/it]"
     ]
    },
    {
     "name": "stdout",
     "output_type": "stream",
     "text": [
      "page_num = 9, img_count = 1364\n",
      "https://www.menziesartbrands.com/catalogue-details/16979?page=10\n"
     ]
    },
    {
     "name": "stderr",
     "output_type": "stream",
     "text": [
      "\r",
      " 67%|███████████████████████████████████████████████████████████████████████████████████████████████████████▎                                                   | 10/15 [02:27<01:20, 16.01s/it]"
     ]
    },
    {
     "name": "stdout",
     "output_type": "stream",
     "text": [
      "page_num = 10, img_count = 1371\n",
      "https://www.menziesartbrands.com/catalogue-details/16979?page=11\n"
     ]
    },
    {
     "name": "stderr",
     "output_type": "stream",
     "text": [
      "\r",
      " 73%|█████████████████████████████████████████████████████████████████████████████████████████████████████████████████▋                                         | 11/15 [02:41<01:01, 15.35s/it]"
     ]
    },
    {
     "name": "stdout",
     "output_type": "stream",
     "text": [
      "page_num = 11, img_count = 1378\n",
      "https://www.menziesartbrands.com/catalogue-details/16979?page=12\n"
     ]
    },
    {
     "name": "stderr",
     "output_type": "stream",
     "text": [
      "\r",
      " 80%|████████████████████████████████████████████████████████████████████████████████████████████████████████████████████████████                               | 12/15 [02:52<00:41, 13.89s/it]"
     ]
    },
    {
     "name": "stdout",
     "output_type": "stream",
     "text": [
      "page_num = 12, img_count = 1384\n",
      "https://www.menziesartbrands.com/catalogue-details/16979?page=13\n"
     ]
    },
    {
     "name": "stderr",
     "output_type": "stream",
     "text": [
      "\r",
      " 87%|██████████████████████████████████████████████████████████████████████████████████████████████████████████████████████████████████████▎                    | 13/15 [03:06<00:27, 13.97s/it]"
     ]
    },
    {
     "name": "stdout",
     "output_type": "stream",
     "text": [
      "page_num = 13, img_count = 1392\n",
      "https://www.menziesartbrands.com/catalogue-details/16979?page=14\n"
     ]
    },
    {
     "name": "stderr",
     "output_type": "stream",
     "text": [
      "\r",
      " 93%|████████████████████████████████████████████████████████████████████████████████████████████████████████████████████████████████████████████████▋          | 14/15 [03:18<00:13, 13.27s/it]"
     ]
    },
    {
     "name": "stdout",
     "output_type": "stream",
     "text": [
      "page_num = 14, img_count = 1398\n",
      "https://www.menziesartbrands.com/catalogue-details/16979?page=15\n"
     ]
    },
    {
     "name": "stderr",
     "output_type": "stream",
     "text": [
      "100%|███████████████████████████████████████████████████████████████████████████████████████████████████████████████████████████████████████████████████████████| 15/15 [03:32<00:00, 14.14s/it]"
     ]
    },
    {
     "name": "stdout",
     "output_type": "stream",
     "text": [
      "page_num = 15, img_count = 1406\n",
      "auction_url = https://www.menziesartbrands.com/catalogue-details/16979, img_count = 1406\n"
     ]
    },
    {
     "name": "stderr",
     "output_type": "stream",
     "text": [
      "\n"
     ]
    },
    {
     "name": "stdout",
     "output_type": "stream",
     "text": [
      "https://www.menziesartbrands.com/catalogue-details/16815\n"
     ]
    },
    {
     "name": "stderr",
     "output_type": "stream",
     "text": [
      "\r",
      "  0%|                                                                                                                                                                    | 0/13 [00:00<?, ?it/s]"
     ]
    },
    {
     "name": "stdout",
     "output_type": "stream",
     "text": [
      "https://www.menziesartbrands.com/catalogue-details/16815?page=1\n"
     ]
    },
    {
     "name": "stderr",
     "output_type": "stream",
     "text": [
      "\r",
      "  8%|████████████                                                                                                                                                | 1/13 [00:14<02:57, 14.80s/it]"
     ]
    },
    {
     "name": "stdout",
     "output_type": "stream",
     "text": [
      "page_num = 1, img_count = 1414\n",
      "https://www.menziesartbrands.com/catalogue-details/16815?page=2\n"
     ]
    },
    {
     "name": "stderr",
     "output_type": "stream",
     "text": [
      "\r",
      " 15%|████████████████████████                                                                                                                                    | 2/13 [00:28<02:35, 14.16s/it]"
     ]
    },
    {
     "name": "stdout",
     "output_type": "stream",
     "text": [
      "page_num = 2, img_count = 1421\n",
      "https://www.menziesartbrands.com/catalogue-details/16815?page=3\n"
     ]
    },
    {
     "name": "stderr",
     "output_type": "stream",
     "text": [
      "\r",
      " 23%|████████████████████████████████████                                                                                                                        | 3/13 [00:44<02:30, 15.10s/it]"
     ]
    },
    {
     "name": "stdout",
     "output_type": "stream",
     "text": [
      "page_num = 3, img_count = 1429\n",
      "https://www.menziesartbrands.com/catalogue-details/16815?page=4\n"
     ]
    },
    {
     "name": "stderr",
     "output_type": "stream",
     "text": [
      "\r",
      " 31%|████████████████████████████████████████████████                                                                                                            | 4/13 [01:03<02:29, 16.62s/it]"
     ]
    },
    {
     "name": "stdout",
     "output_type": "stream",
     "text": [
      "page_num = 4, img_count = 1436\n",
      "https://www.menziesartbrands.com/catalogue-details/16815?page=5\n"
     ]
    },
    {
     "name": "stderr",
     "output_type": "stream",
     "text": [
      "\r",
      " 38%|████████████████████████████████████████████████████████████                                                                                                | 5/13 [01:07<01:35, 11.98s/it]"
     ]
    },
    {
     "name": "stdout",
     "output_type": "stream",
     "text": [
      "page_num = 5, img_count = 1437\n",
      "https://www.menziesartbrands.com/catalogue-details/16815?page=6\n"
     ]
    },
    {
     "name": "stderr",
     "output_type": "stream",
     "text": [
      "\r",
      " 46%|████████████████████████████████████████████████████████████████████████                                                                                    | 6/13 [01:44<02:23, 20.57s/it]"
     ]
    },
    {
     "name": "stdout",
     "output_type": "stream",
     "text": [
      "page_num = 6, img_count = 1443\n",
      "https://www.menziesartbrands.com/catalogue-details/16815?page=7\n"
     ]
    },
    {
     "name": "stderr",
     "output_type": "stream",
     "text": [
      "\r",
      " 54%|████████████████████████████████████████████████████████████████████████████████████                                                                        | 7/13 [01:58<01:50, 18.44s/it]"
     ]
    },
    {
     "name": "stdout",
     "output_type": "stream",
     "text": [
      "page_num = 7, img_count = 1448\n",
      "https://www.menziesartbrands.com/catalogue-details/16815?page=8\n"
     ]
    },
    {
     "name": "stderr",
     "output_type": "stream",
     "text": [
      "\r",
      " 62%|████████████████████████████████████████████████████████████████████████████████████████████████                                                            | 8/13 [02:12<01:24, 16.84s/it]"
     ]
    },
    {
     "name": "stdout",
     "output_type": "stream",
     "text": [
      "page_num = 8, img_count = 1454\n",
      "https://www.menziesartbrands.com/catalogue-details/16815?page=9\n"
     ]
    },
    {
     "name": "stderr",
     "output_type": "stream",
     "text": [
      "\r",
      " 69%|████████████████████████████████████████████████████████████████████████████████████████████████████████████                                                | 9/13 [02:27<01:05, 16.42s/it]"
     ]
    },
    {
     "name": "stdout",
     "output_type": "stream",
     "text": [
      "page_num = 9, img_count = 1462\n",
      "https://www.menziesartbrands.com/catalogue-details/16815?page=10\n"
     ]
    },
    {
     "name": "stderr",
     "output_type": "stream",
     "text": [
      "\r",
      " 77%|███████████████████████████████████████████████████████████████████████████████████████████████████████████████████████▏                                   | 10/13 [02:44<00:49, 16.43s/it]"
     ]
    },
    {
     "name": "stdout",
     "output_type": "stream",
     "text": [
      "page_num = 10, img_count = 1470\n",
      "https://www.menziesartbrands.com/catalogue-details/16815?page=11\n"
     ]
    },
    {
     "name": "stderr",
     "output_type": "stream",
     "text": [
      "\r",
      " 85%|███████████████████████████████████████████████████████████████████████████████████████████████████████████████████████████████████▏                       | 11/13 [02:56<00:30, 15.09s/it]"
     ]
    },
    {
     "name": "stdout",
     "output_type": "stream",
     "text": [
      "page_num = 11, img_count = 1476\n",
      "https://www.menziesartbrands.com/catalogue-details/16815?page=12\n"
     ]
    },
    {
     "name": "stderr",
     "output_type": "stream",
     "text": [
      "\r",
      " 92%|███████████████████████████████████████████████████████████████████████████████████████████████████████████████████████████████████████████████            | 12/13 [03:18<00:17, 17.35s/it]"
     ]
    },
    {
     "name": "stdout",
     "output_type": "stream",
     "text": [
      "page_num = 12, img_count = 1483\n",
      "https://www.menziesartbrands.com/catalogue-details/16815?page=13\n"
     ]
    },
    {
     "name": "stderr",
     "output_type": "stream",
     "text": [
      "100%|███████████████████████████████████████████████████████████████████████████████████████████████████████████████████████████████████████████████████████████| 13/13 [03:35<00:00, 16.55s/it]"
     ]
    },
    {
     "name": "stdout",
     "output_type": "stream",
     "text": [
      "page_num = 13, img_count = 1491\n",
      "auction_url = https://www.menziesartbrands.com/catalogue-details/16815, img_count = 1491\n"
     ]
    },
    {
     "name": "stderr",
     "output_type": "stream",
     "text": [
      "\n"
     ]
    },
    {
     "name": "stdout",
     "output_type": "stream",
     "text": [
      "https://www.menziesartbrands.com/catalogue-details/16606\n"
     ]
    },
    {
     "name": "stderr",
     "output_type": "stream",
     "text": [
      "\r",
      "  0%|                                                                                                                                                                    | 0/18 [00:00<?, ?it/s]"
     ]
    },
    {
     "name": "stdout",
     "output_type": "stream",
     "text": [
      "https://www.menziesartbrands.com/catalogue-details/16606?page=1\n"
     ]
    },
    {
     "name": "stderr",
     "output_type": "stream",
     "text": [
      "\r",
      "  6%|████████▋                                                                                                                                                   | 1/18 [00:19<05:26, 19.18s/it]"
     ]
    },
    {
     "name": "stdout",
     "output_type": "stream",
     "text": [
      "page_num = 1, img_count = 1498\n",
      "https://www.menziesartbrands.com/catalogue-details/16606?page=2\n"
     ]
    },
    {
     "name": "stderr",
     "output_type": "stream",
     "text": [
      "\r",
      " 11%|█████████████████▎                                                                                                                                          | 2/18 [00:34<04:30, 16.92s/it]"
     ]
    },
    {
     "name": "stdout",
     "output_type": "stream",
     "text": [
      "page_num = 2, img_count = 1507\n",
      "https://www.menziesartbrands.com/catalogue-details/16606?page=3\n"
     ]
    },
    {
     "name": "stderr",
     "output_type": "stream",
     "text": [
      "\r",
      " 17%|██████████████████████████                                                                                                                                  | 3/18 [00:51<04:11, 16.74s/it]"
     ]
    },
    {
     "name": "stdout",
     "output_type": "stream",
     "text": [
      "page_num = 3, img_count = 1516\n",
      "https://www.menziesartbrands.com/catalogue-details/16606?page=4\n"
     ]
    },
    {
     "name": "stderr",
     "output_type": "stream",
     "text": [
      "\r",
      " 22%|██████████████████████████████████▋                                                                                                                         | 4/18 [01:01<03:18, 14.17s/it]"
     ]
    },
    {
     "name": "stdout",
     "output_type": "stream",
     "text": [
      "page_num = 4, img_count = 1521\n",
      "https://www.menziesartbrands.com/catalogue-details/16606?page=5\n"
     ]
    },
    {
     "name": "stderr",
     "output_type": "stream",
     "text": [
      "\r",
      " 28%|███████████████████████████████████████████▎                                                                                                                | 5/18 [01:14<02:58, 13.77s/it]"
     ]
    },
    {
     "name": "stdout",
     "output_type": "stream",
     "text": [
      "page_num = 5, img_count = 1528\n",
      "https://www.menziesartbrands.com/catalogue-details/16606?page=6\n"
     ]
    },
    {
     "name": "stderr",
     "output_type": "stream",
     "text": [
      "\r",
      " 33%|████████████████████████████████████████████████████                                                                                                        | 6/18 [01:29<02:52, 14.38s/it]"
     ]
    },
    {
     "name": "stdout",
     "output_type": "stream",
     "text": [
      "page_num = 6, img_count = 1537\n",
      "https://www.menziesartbrands.com/catalogue-details/16606?page=7\n"
     ]
    },
    {
     "name": "stderr",
     "output_type": "stream",
     "text": [
      "\r",
      " 39%|████████████████████████████████████████████████████████████▋                                                                                               | 7/18 [01:47<02:48, 15.32s/it]"
     ]
    },
    {
     "name": "stdout",
     "output_type": "stream",
     "text": [
      "page_num = 7, img_count = 1546\n",
      "https://www.menziesartbrands.com/catalogue-details/16606?page=8\n"
     ]
    },
    {
     "name": "stderr",
     "output_type": "stream",
     "text": [
      "\r",
      " 44%|█████████████████████████████████████████████████████████████████████▎                                                                                      | 8/18 [01:54<02:09, 12.93s/it]"
     ]
    },
    {
     "name": "stdout",
     "output_type": "stream",
     "text": [
      "page_num = 8, img_count = 1550\n",
      "https://www.menziesartbrands.com/catalogue-details/16606?page=9\n"
     ]
    },
    {
     "name": "stderr",
     "output_type": "stream",
     "text": [
      "\r",
      " 50%|██████████████████████████████████████████████████████████████████████████████                                                                              | 9/18 [02:01<01:38, 10.92s/it]"
     ]
    },
    {
     "name": "stdout",
     "output_type": "stream",
     "text": [
      "page_num = 9, img_count = 1553\n",
      "https://www.menziesartbrands.com/catalogue-details/16606?page=10\n"
     ]
    },
    {
     "name": "stderr",
     "output_type": "stream",
     "text": [
      "\r",
      " 56%|██████████████████████████████████████████████████████████████████████████████████████                                                                     | 10/18 [02:10<01:21, 10.22s/it]"
     ]
    },
    {
     "name": "stdout",
     "output_type": "stream",
     "text": [
      "page_num = 10, img_count = 1557\n",
      "https://www.menziesartbrands.com/catalogue-details/16606?page=11\n"
     ]
    },
    {
     "name": "stderr",
     "output_type": "stream",
     "text": [
      "\r",
      " 61%|██████████████████████████████████████████████████████████████████████████████████████████████▋                                                            | 11/18 [02:23<01:18, 11.19s/it]"
     ]
    },
    {
     "name": "stdout",
     "output_type": "stream",
     "text": [
      "page_num = 11, img_count = 1564\n",
      "https://www.menziesartbrands.com/catalogue-details/16606?page=12\n"
     ]
    },
    {
     "name": "stderr",
     "output_type": "stream",
     "text": [
      "\r",
      " 67%|███████████████████████████████████████████████████████████████████████████████████████████████████████▎                                                   | 12/18 [02:31<01:00, 10.12s/it]"
     ]
    },
    {
     "name": "stdout",
     "output_type": "stream",
     "text": [
      "page_num = 12, img_count = 1567\n",
      "https://www.menziesartbrands.com/catalogue-details/16606?page=13\n"
     ]
    },
    {
     "name": "stderr",
     "output_type": "stream",
     "text": [
      "\r",
      " 72%|███████████████████████████████████████████████████████████████████████████████████████████████████████████████▉                                           | 13/18 [02:44<00:54, 10.97s/it]"
     ]
    },
    {
     "name": "stdout",
     "output_type": "stream",
     "text": [
      "page_num = 13, img_count = 1572\n",
      "https://www.menziesartbrands.com/catalogue-details/16606?page=14\n"
     ]
    },
    {
     "name": "stderr",
     "output_type": "stream",
     "text": [
      "\r",
      " 78%|████████████████████████████████████████████████████████████████████████████████████████████████████████████████████████▌                                  | 14/18 [02:55<00:44, 11.12s/it]"
     ]
    },
    {
     "name": "stdout",
     "output_type": "stream",
     "text": [
      "page_num = 14, img_count = 1578\n",
      "https://www.menziesartbrands.com/catalogue-details/16606?page=15\n"
     ]
    },
    {
     "name": "stderr",
     "output_type": "stream",
     "text": [
      "\r",
      " 83%|█████████████████████████████████████████████████████████████████████████████████████████████████████████████████████████████████▏                         | 15/18 [03:11<00:37, 12.51s/it]"
     ]
    },
    {
     "name": "stdout",
     "output_type": "stream",
     "text": [
      "page_num = 15, img_count = 1586\n",
      "https://www.menziesartbrands.com/catalogue-details/16606?page=16\n"
     ]
    },
    {
     "name": "stderr",
     "output_type": "stream",
     "text": [
      "\r",
      " 89%|█████████████████████████████████████████████████████████████████████████████████████████████████████████████████████████████████████████▊                 | 16/18 [03:27<00:26, 13.49s/it]"
     ]
    },
    {
     "name": "stdout",
     "output_type": "stream",
     "text": [
      "page_num = 16, img_count = 1594\n",
      "https://www.menziesartbrands.com/catalogue-details/16606?page=17\n"
     ]
    },
    {
     "name": "stderr",
     "output_type": "stream",
     "text": [
      "\r",
      " 94%|██████████████████████████████████████████████████████████████████████████████████████████████████████████████████████████████████████████████████▍        | 17/18 [03:55<00:17, 17.87s/it]"
     ]
    },
    {
     "name": "stdout",
     "output_type": "stream",
     "text": [
      "page_num = 17, img_count = 1603\n",
      "https://www.menziesartbrands.com/catalogue-details/16606?page=18\n"
     ]
    },
    {
     "name": "stderr",
     "output_type": "stream",
     "text": [
      "100%|███████████████████████████████████████████████████████████████████████████████████████████████████████████████████████████████████████████████████████████| 18/18 [04:02<00:00, 13.48s/it]"
     ]
    },
    {
     "name": "stdout",
     "output_type": "stream",
     "text": [
      "page_num = 18, img_count = 1607\n",
      "auction_url = https://www.menziesartbrands.com/catalogue-details/16606, img_count = 1607\n"
     ]
    },
    {
     "name": "stderr",
     "output_type": "stream",
     "text": [
      "\n"
     ]
    },
    {
     "name": "stdout",
     "output_type": "stream",
     "text": [
      "https://www.menziesartbrands.com/catalogue-details/16419\n"
     ]
    },
    {
     "name": "stderr",
     "output_type": "stream",
     "text": [
      "\r",
      "  0%|                                                                                                                                                                    | 0/15 [00:00<?, ?it/s]"
     ]
    },
    {
     "name": "stdout",
     "output_type": "stream",
     "text": [
      "https://www.menziesartbrands.com/catalogue-details/16419?page=1\n"
     ]
    },
    {
     "name": "stderr",
     "output_type": "stream",
     "text": [
      "\r",
      "  7%|██████████▍                                                                                                                                                 | 1/15 [00:16<03:47, 16.26s/it]"
     ]
    },
    {
     "name": "stdout",
     "output_type": "stream",
     "text": [
      "page_num = 1, img_count = 1616\n",
      "https://www.menziesartbrands.com/catalogue-details/16419?page=2\n"
     ]
    },
    {
     "name": "stderr",
     "output_type": "stream",
     "text": [
      "\r",
      " 13%|████████████████████▊                                                                                                                                       | 2/15 [00:33<03:37, 16.76s/it]"
     ]
    },
    {
     "name": "stdout",
     "output_type": "stream",
     "text": [
      "page_num = 2, img_count = 1625\n",
      "https://www.menziesartbrands.com/catalogue-details/16419?page=3\n"
     ]
    },
    {
     "name": "stderr",
     "output_type": "stream",
     "text": [
      "\r",
      " 20%|███████████████████████████████▏                                                                                                                            | 3/15 [00:45<02:57, 14.76s/it]"
     ]
    },
    {
     "name": "stdout",
     "output_type": "stream",
     "text": [
      "page_num = 3, img_count = 1631\n",
      "https://www.menziesartbrands.com/catalogue-details/16419?page=4\n"
     ]
    },
    {
     "name": "stderr",
     "output_type": "stream",
     "text": [
      "\r",
      " 27%|█████████████████████████████████████████▌                                                                                                                  | 4/15 [00:59<02:39, 14.55s/it]"
     ]
    },
    {
     "name": "stdout",
     "output_type": "stream",
     "text": [
      "page_num = 4, img_count = 1639\n",
      "https://www.menziesartbrands.com/catalogue-details/16419?page=5\n"
     ]
    },
    {
     "name": "stderr",
     "output_type": "stream",
     "text": [
      "\r",
      " 33%|████████████████████████████████████████████████████                                                                                                        | 5/15 [01:13<02:21, 14.15s/it]"
     ]
    },
    {
     "name": "stdout",
     "output_type": "stream",
     "text": [
      "page_num = 5, img_count = 1647\n",
      "https://www.menziesartbrands.com/catalogue-details/16419?page=6\n"
     ]
    },
    {
     "name": "stderr",
     "output_type": "stream",
     "text": [
      "\r",
      " 40%|██████████████████████████████████████████████████████████████▍                                                                                             | 6/15 [01:26<02:03, 13.72s/it]"
     ]
    },
    {
     "name": "stdout",
     "output_type": "stream",
     "text": [
      "page_num = 6, img_count = 1653\n",
      "https://www.menziesartbrands.com/catalogue-details/16419?page=7\n"
     ]
    },
    {
     "name": "stderr",
     "output_type": "stream",
     "text": [
      "\r",
      " 47%|████████████████████████████████████████████████████████████████████████▊                                                                                   | 7/15 [01:38<01:46, 13.33s/it]"
     ]
    },
    {
     "name": "stdout",
     "output_type": "stream",
     "text": [
      "page_num = 7, img_count = 1660\n",
      "https://www.menziesartbrands.com/catalogue-details/16419?page=8\n"
     ]
    },
    {
     "name": "stderr",
     "output_type": "stream",
     "text": [
      "\r",
      " 53%|███████████████████████████████████████████████████████████████████████████████████▏                                                                        | 8/15 [01:53<01:35, 13.64s/it]"
     ]
    },
    {
     "name": "stdout",
     "output_type": "stream",
     "text": [
      "page_num = 8, img_count = 1667\n",
      "https://www.menziesartbrands.com/catalogue-details/16419?page=9\n"
     ]
    },
    {
     "name": "stderr",
     "output_type": "stream",
     "text": [
      "\r",
      " 60%|█████████████████████████████████████████████████████████████████████████████████████████████▌                                                              | 9/15 [02:07<01:23, 13.88s/it]"
     ]
    },
    {
     "name": "stdout",
     "output_type": "stream",
     "text": [
      "page_num = 9, img_count = 1675\n",
      "https://www.menziesartbrands.com/catalogue-details/16419?page=10\n"
     ]
    },
    {
     "name": "stderr",
     "output_type": "stream",
     "text": [
      "\r",
      " 67%|███████████████████████████████████████████████████████████████████████████████████████████████████████▎                                                   | 10/15 [02:24<01:13, 14.75s/it]"
     ]
    },
    {
     "name": "stdout",
     "output_type": "stream",
     "text": [
      "page_num = 10, img_count = 1684\n",
      "https://www.menziesartbrands.com/catalogue-details/16419?page=11\n"
     ]
    },
    {
     "name": "stderr",
     "output_type": "stream",
     "text": [
      "\r",
      " 73%|█████████████████████████████████████████████████████████████████████████████████████████████████████████████████▋                                         | 11/15 [02:42<01:03, 15.79s/it]"
     ]
    },
    {
     "name": "stdout",
     "output_type": "stream",
     "text": [
      "page_num = 11, img_count = 1693\n",
      "https://www.menziesartbrands.com/catalogue-details/16419?page=12\n"
     ]
    },
    {
     "name": "stderr",
     "output_type": "stream",
     "text": [
      "\r",
      " 80%|████████████████████████████████████████████████████████████████████████████████████████████████████████████████████████████                               | 12/15 [02:54<00:43, 14.62s/it]"
     ]
    },
    {
     "name": "stdout",
     "output_type": "stream",
     "text": [
      "page_num = 12, img_count = 1699\n",
      "https://www.menziesartbrands.com/catalogue-details/16419?page=13\n"
     ]
    },
    {
     "name": "stderr",
     "output_type": "stream",
     "text": [
      "\r",
      " 87%|██████████████████████████████████████████████████████████████████████████████████████████████████████████████████████████████████████▎                    | 13/15 [03:07<00:28, 14.11s/it]"
     ]
    },
    {
     "name": "stdout",
     "output_type": "stream",
     "text": [
      "page_num = 13, img_count = 1705\n",
      "https://www.menziesartbrands.com/catalogue-details/16419?page=14\n"
     ]
    },
    {
     "name": "stderr",
     "output_type": "stream",
     "text": [
      "\r",
      " 93%|████████████████████████████████████████████████████████████████████████████████████████████████████████████████████████████████████████████████▋          | 14/15 [03:20<00:13, 13.94s/it]"
     ]
    },
    {
     "name": "stdout",
     "output_type": "stream",
     "text": [
      "page_num = 14, img_count = 1712\n",
      "https://www.menziesartbrands.com/catalogue-details/16419?page=15\n"
     ]
    },
    {
     "name": "stderr",
     "output_type": "stream",
     "text": [
      "100%|███████████████████████████████████████████████████████████████████████████████████████████████████████████████████████████████████████████████████████████| 15/15 [03:32<00:00, 14.20s/it]"
     ]
    },
    {
     "name": "stdout",
     "output_type": "stream",
     "text": [
      "page_num = 15, img_count = 1718\n",
      "auction_url = https://www.menziesartbrands.com/catalogue-details/16419, img_count = 1718\n"
     ]
    },
    {
     "name": "stderr",
     "output_type": "stream",
     "text": [
      "\n"
     ]
    },
    {
     "name": "stdout",
     "output_type": "stream",
     "text": [
      "https://www.menziesartbrands.com/catalogue-details/16074\n"
     ]
    },
    {
     "name": "stderr",
     "output_type": "stream",
     "text": [
      "\r",
      "  0%|                                                                                                                                                                    | 0/20 [00:00<?, ?it/s]"
     ]
    },
    {
     "name": "stdout",
     "output_type": "stream",
     "text": [
      "https://www.menziesartbrands.com/catalogue-details/16074?page=1\n"
     ]
    },
    {
     "name": "stderr",
     "output_type": "stream",
     "text": [
      "\r",
      "  5%|███████▊                                                                                                                                                    | 1/20 [00:26<08:23, 26.49s/it]"
     ]
    },
    {
     "name": "stdout",
     "output_type": "stream",
     "text": [
      "page_num = 1, img_count = 1726\n",
      "https://www.menziesartbrands.com/catalogue-details/16074?page=2\n"
     ]
    },
    {
     "name": "stderr",
     "output_type": "stream",
     "text": [
      "\r",
      " 10%|███████████████▌                                                                                                                                            | 2/20 [00:37<05:18, 17.67s/it]"
     ]
    },
    {
     "name": "stdout",
     "output_type": "stream",
     "text": [
      "page_num = 2, img_count = 1731\n",
      "https://www.menziesartbrands.com/catalogue-details/16074?page=3\n"
     ]
    },
    {
     "name": "stderr",
     "output_type": "stream",
     "text": [
      "\r",
      " 15%|███████████████████████▍                                                                                                                                    | 3/20 [00:51<04:28, 15.82s/it]"
     ]
    },
    {
     "name": "stdout",
     "output_type": "stream",
     "text": [
      "page_num = 3, img_count = 1738\n",
      "https://www.menziesartbrands.com/catalogue-details/16074?page=4\n"
     ]
    },
    {
     "name": "stderr",
     "output_type": "stream",
     "text": [
      "\r",
      " 20%|███████████████████████████████▏                                                                                                                            | 4/20 [01:02<03:43, 13.94s/it]"
     ]
    },
    {
     "name": "stdout",
     "output_type": "stream",
     "text": [
      "page_num = 4, img_count = 1744\n",
      "https://www.menziesartbrands.com/catalogue-details/16074?page=5\n"
     ]
    },
    {
     "name": "stderr",
     "output_type": "stream",
     "text": [
      "\r",
      " 25%|███████████████████████████████████████                                                                                                                     | 5/20 [01:13<03:13, 12.91s/it]"
     ]
    },
    {
     "name": "stdout",
     "output_type": "stream",
     "text": [
      "page_num = 5, img_count = 1749\n",
      "https://www.menziesartbrands.com/catalogue-details/16074?page=6\n"
     ]
    },
    {
     "name": "stderr",
     "output_type": "stream",
     "text": [
      "\r",
      " 30%|██████████████████████████████████████████████▊                                                                                                             | 6/20 [01:28<03:10, 13.59s/it]"
     ]
    },
    {
     "name": "stdout",
     "output_type": "stream",
     "text": [
      "page_num = 6, img_count = 1757\n",
      "https://www.menziesartbrands.com/catalogue-details/16074?page=7\n"
     ]
    },
    {
     "name": "stderr",
     "output_type": "stream",
     "text": [
      "\r",
      " 35%|██████████████████████████████████████████████████████▌                                                                                                     | 7/20 [01:36<02:32, 11.76s/it]"
     ]
    },
    {
     "name": "stdout",
     "output_type": "stream",
     "text": [
      "page_num = 7, img_count = 1761\n",
      "https://www.menziesartbrands.com/catalogue-details/16074?page=8\n"
     ]
    },
    {
     "name": "stderr",
     "output_type": "stream",
     "text": [
      "\r",
      " 40%|██████████████████████████████████████████████████████████████▍                                                                                             | 8/20 [01:46<02:12, 11.03s/it]"
     ]
    },
    {
     "name": "stdout",
     "output_type": "stream",
     "text": [
      "page_num = 8, img_count = 1766\n",
      "https://www.menziesartbrands.com/catalogue-details/16074?page=9\n"
     ]
    },
    {
     "name": "stderr",
     "output_type": "stream",
     "text": [
      "\r",
      " 45%|██████████████████████████████████████████████████████████████████████▏                                                                                     | 9/20 [02:00<02:12, 12.07s/it]"
     ]
    },
    {
     "name": "stdout",
     "output_type": "stream",
     "text": [
      "page_num = 9, img_count = 1772\n",
      "https://www.menziesartbrands.com/catalogue-details/16074?page=10\n"
     ]
    },
    {
     "name": "stderr",
     "output_type": "stream",
     "text": [
      "\r",
      " 50%|█████████████████████████████████████████████████████████████████████████████▌                                                                             | 10/20 [02:12<01:59, 11.94s/it]"
     ]
    },
    {
     "name": "stdout",
     "output_type": "stream",
     "text": [
      "page_num = 10, img_count = 1778\n",
      "https://www.menziesartbrands.com/catalogue-details/16074?page=11\n"
     ]
    },
    {
     "name": "stderr",
     "output_type": "stream",
     "text": [
      "\r",
      " 55%|█████████████████████████████████████████████████████████████████████████████████████▎                                                                     | 11/20 [02:23<01:45, 11.72s/it]"
     ]
    },
    {
     "name": "stdout",
     "output_type": "stream",
     "text": [
      "page_num = 11, img_count = 1783\n",
      "https://www.menziesartbrands.com/catalogue-details/16074?page=12\n"
     ]
    },
    {
     "name": "stderr",
     "output_type": "stream",
     "text": [
      "\r",
      " 60%|█████████████████████████████████████████████████████████████████████████████████████████████                                                              | 12/20 [02:32<01:26, 10.85s/it]"
     ]
    },
    {
     "name": "stdout",
     "output_type": "stream",
     "text": [
      "page_num = 12, img_count = 1787\n",
      "https://www.menziesartbrands.com/catalogue-details/16074?page=13\n"
     ]
    },
    {
     "name": "stderr",
     "output_type": "stream",
     "text": [
      "\r",
      " 65%|████████████████████████████████████████████████████████████████████████████████████████████████████▊                                                      | 13/20 [02:44<01:18, 11.29s/it]"
     ]
    },
    {
     "name": "stdout",
     "output_type": "stream",
     "text": [
      "page_num = 13, img_count = 1793\n",
      "https://www.menziesartbrands.com/catalogue-details/16074?page=14\n"
     ]
    },
    {
     "name": "stderr",
     "output_type": "stream",
     "text": [
      "\r",
      " 70%|████████████████████████████████████████████████████████████████████████████████████████████████████████████▌                                              | 14/20 [02:53<01:03, 10.65s/it]"
     ]
    },
    {
     "name": "stdout",
     "output_type": "stream",
     "text": [
      "page_num = 14, img_count = 1797\n",
      "https://www.menziesartbrands.com/catalogue-details/16074?page=15\n"
     ]
    },
    {
     "name": "stderr",
     "output_type": "stream",
     "text": [
      "\r",
      " 75%|████████████████████████████████████████████████████████████████████████████████████████████████████████████████████▎                                      | 15/20 [03:07<00:58, 11.71s/it]"
     ]
    },
    {
     "name": "stdout",
     "output_type": "stream",
     "text": [
      "page_num = 15, img_count = 1804\n",
      "https://www.menziesartbrands.com/catalogue-details/16074?page=16\n"
     ]
    },
    {
     "name": "stderr",
     "output_type": "stream",
     "text": [
      "\r",
      " 80%|████████████████████████████████████████████████████████████████████████████████████████████████████████████████████████████                               | 16/20 [03:20<00:48, 12.12s/it]"
     ]
    },
    {
     "name": "stdout",
     "output_type": "stream",
     "text": [
      "page_num = 16, img_count = 1811\n",
      "https://www.menziesartbrands.com/catalogue-details/16074?page=17\n"
     ]
    },
    {
     "name": "stderr",
     "output_type": "stream",
     "text": [
      "\r",
      " 85%|███████████████████████████████████████████████████████████████████████████████████████████████████████████████████████████████████▊                       | 17/20 [03:28<00:32, 10.68s/it]"
     ]
    },
    {
     "name": "stdout",
     "output_type": "stream",
     "text": [
      "page_num = 17, img_count = 1814\n",
      "https://www.menziesartbrands.com/catalogue-details/16074?page=18\n"
     ]
    },
    {
     "name": "stderr",
     "output_type": "stream",
     "text": [
      "\r",
      " 90%|███████████████████████████████████████████████████████████████████████████████████████████████████████████████████████████████████████████▌               | 18/20 [03:35<00:19,  9.65s/it]"
     ]
    },
    {
     "name": "stdout",
     "output_type": "stream",
     "text": [
      "page_num = 18, img_count = 1817\n",
      "https://www.menziesartbrands.com/catalogue-details/16074?page=19\n"
     ]
    },
    {
     "name": "stderr",
     "output_type": "stream",
     "text": [
      "\r",
      " 95%|███████████████████████████████████████████████████████████████████████████████████████████████████████████████████████████████████████████████████▎       | 19/20 [03:51<00:11, 11.47s/it]"
     ]
    },
    {
     "name": "stdout",
     "output_type": "stream",
     "text": [
      "page_num = 19, img_count = 1826\n",
      "https://www.menziesartbrands.com/catalogue-details/16074?page=20\n"
     ]
    },
    {
     "name": "stderr",
     "output_type": "stream",
     "text": [
      "100%|███████████████████████████████████████████████████████████████████████████████████████████████████████████████████████████████████████████████████████████| 20/20 [03:58<00:00, 11.95s/it]"
     ]
    },
    {
     "name": "stdout",
     "output_type": "stream",
     "text": [
      "page_num = 20, img_count = 1830\n",
      "auction_url = https://www.menziesartbrands.com/catalogue-details/16074, img_count = 1830\n"
     ]
    },
    {
     "name": "stderr",
     "output_type": "stream",
     "text": [
      "\n"
     ]
    },
    {
     "name": "stdout",
     "output_type": "stream",
     "text": [
      "https://www.menziesartbrands.com/catalogue-details/15881\n"
     ]
    },
    {
     "name": "stderr",
     "output_type": "stream",
     "text": [
      "\r",
      "  0%|                                                                                                                                                                    | 0/17 [00:00<?, ?it/s]"
     ]
    },
    {
     "name": "stdout",
     "output_type": "stream",
     "text": [
      "https://www.menziesartbrands.com/catalogue-details/15881?page=1\n"
     ]
    },
    {
     "name": "stderr",
     "output_type": "stream",
     "text": [
      "\r",
      "  6%|█████████▏                                                                                                                                                  | 1/17 [00:16<04:25, 16.58s/it]"
     ]
    },
    {
     "name": "stdout",
     "output_type": "stream",
     "text": [
      "page_num = 1, img_count = 1838\n",
      "https://www.menziesartbrands.com/catalogue-details/15881?page=2\n"
     ]
    },
    {
     "name": "stderr",
     "output_type": "stream",
     "text": [
      "\r",
      " 12%|██████████████████▎                                                                                                                                         | 2/17 [00:31<03:55, 15.68s/it]"
     ]
    },
    {
     "name": "stdout",
     "output_type": "stream",
     "text": [
      "page_num = 2, img_count = 1846\n",
      "https://www.menziesartbrands.com/catalogue-details/15881?page=3\n"
     ]
    },
    {
     "name": "stderr",
     "output_type": "stream",
     "text": [
      "\r",
      " 18%|███████████████████████████▌                                                                                                                                | 3/17 [01:00<05:03, 21.70s/it]"
     ]
    },
    {
     "name": "stdout",
     "output_type": "stream",
     "text": [
      "page_num = 3, img_count = 1855\n",
      "https://www.menziesartbrands.com/catalogue-details/15881?page=4\n"
     ]
    },
    {
     "name": "stderr",
     "output_type": "stream",
     "text": [
      "\r",
      " 24%|████████████████████████████████████▋                                                                                                                       | 4/17 [01:14<04:01, 18.61s/it]"
     ]
    },
    {
     "name": "stdout",
     "output_type": "stream",
     "text": [
      "page_num = 4, img_count = 1862\n",
      "https://www.menziesartbrands.com/catalogue-details/15881?page=5\n"
     ]
    },
    {
     "name": "stderr",
     "output_type": "stream",
     "text": [
      "\r",
      " 29%|█████████████████████████████████████████████▉                                                                                                              | 5/17 [01:29<03:28, 17.38s/it]"
     ]
    },
    {
     "name": "stdout",
     "output_type": "stream",
     "text": [
      "page_num = 5, img_count = 1870\n",
      "https://www.menziesartbrands.com/catalogue-details/15881?page=6\n"
     ]
    },
    {
     "name": "stderr",
     "output_type": "stream",
     "text": [
      "\r",
      " 35%|███████████████████████████████████████████████████████                                                                                                     | 6/17 [01:39<02:41, 14.69s/it]"
     ]
    },
    {
     "name": "stdout",
     "output_type": "stream",
     "text": [
      "page_num = 6, img_count = 1875\n",
      "https://www.menziesartbrands.com/catalogue-details/15881?page=7\n"
     ]
    },
    {
     "name": "stderr",
     "output_type": "stream",
     "text": [
      "\r",
      " 41%|████████████████████████████████████████████████████████████████▏                                                                                           | 7/17 [01:50<02:17, 13.72s/it]"
     ]
    },
    {
     "name": "stdout",
     "output_type": "stream",
     "text": [
      "page_num = 7, img_count = 1881\n",
      "https://www.menziesartbrands.com/catalogue-details/15881?page=8\n"
     ]
    },
    {
     "name": "stderr",
     "output_type": "stream",
     "text": [
      "\r",
      " 47%|█████████████████████████████████████████████████████████████████████████▍                                                                                  | 8/17 [02:03<02:01, 13.44s/it]"
     ]
    },
    {
     "name": "stdout",
     "output_type": "stream",
     "text": [
      "page_num = 8, img_count = 1888\n",
      "https://www.menziesartbrands.com/catalogue-details/15881?page=9\n"
     ]
    },
    {
     "name": "stderr",
     "output_type": "stream",
     "text": [
      "\r",
      " 53%|██████████████████████████████████████████████████████████████████████████████████▌                                                                         | 9/17 [02:16<01:45, 13.18s/it]"
     ]
    },
    {
     "name": "stdout",
     "output_type": "stream",
     "text": [
      "page_num = 9, img_count = 1895\n",
      "https://www.menziesartbrands.com/catalogue-details/15881?page=10\n"
     ]
    },
    {
     "name": "stderr",
     "output_type": "stream",
     "text": [
      "\r",
      " 59%|███████████████████████████████████████████████████████████████████████████████████████████▏                                                               | 10/17 [02:29<01:31, 13.11s/it]"
     ]
    },
    {
     "name": "stdout",
     "output_type": "stream",
     "text": [
      "page_num = 10, img_count = 1902\n",
      "https://www.menziesartbrands.com/catalogue-details/15881?page=11\n"
     ]
    },
    {
     "name": "stderr",
     "output_type": "stream",
     "text": [
      "\r",
      " 65%|████████████████████████████████████████████████████████████████████████████████████████████████████▎                                                      | 11/17 [02:39<01:12, 12.16s/it]"
     ]
    },
    {
     "name": "stdout",
     "output_type": "stream",
     "text": [
      "page_num = 11, img_count = 1907\n",
      "https://www.menziesartbrands.com/catalogue-details/15881?page=12\n"
     ]
    },
    {
     "name": "stderr",
     "output_type": "stream",
     "text": [
      "\r",
      " 71%|█████████████████████████████████████████████████████████████████████████████████████████████████████████████▍                                             | 12/17 [02:55<01:07, 13.45s/it]"
     ]
    },
    {
     "name": "stdout",
     "output_type": "stream",
     "text": [
      "page_num = 12, img_count = 1916\n",
      "https://www.menziesartbrands.com/catalogue-details/15881?page=13\n"
     ]
    },
    {
     "name": "stderr",
     "output_type": "stream",
     "text": [
      "\r",
      " 76%|██████████████████████████████████████████████████████████████████████████████████████████████████████████████████████▌                                    | 13/17 [03:19<01:06, 16.54s/it]"
     ]
    },
    {
     "name": "stdout",
     "output_type": "stream",
     "text": [
      "page_num = 13, img_count = 1920\n",
      "https://www.menziesartbrands.com/catalogue-details/15881?page=14\n"
     ]
    },
    {
     "name": "stderr",
     "output_type": "stream",
     "text": [
      "\r",
      " 82%|███████████████████████████████████████████████████████████████████████████████████████████████████████████████████████████████▋                           | 14/17 [03:26<00:40, 13.65s/it]"
     ]
    },
    {
     "name": "stdout",
     "output_type": "stream",
     "text": [
      "page_num = 14, img_count = 1923\n",
      "https://www.menziesartbrands.com/catalogue-details/15881?page=15\n"
     ]
    },
    {
     "name": "stderr",
     "output_type": "stream",
     "text": [
      "\r",
      " 88%|████████████████████████████████████████████████████████████████████████████████████████████████████████████████████████████████████████▊                  | 15/17 [03:41<00:28, 14.18s/it]"
     ]
    },
    {
     "name": "stdout",
     "output_type": "stream",
     "text": [
      "page_num = 15, img_count = 1929\n",
      "https://www.menziesartbrands.com/catalogue-details/15881?page=16\n"
     ]
    },
    {
     "name": "stderr",
     "output_type": "stream",
     "text": [
      "\r",
      " 94%|█████████████████████████████████████████████████████████████████████████████████████████████████████████████████████████████████████████████████▉         | 16/17 [04:03<00:16, 16.46s/it]"
     ]
    },
    {
     "name": "stdout",
     "output_type": "stream",
     "text": [
      "page_num = 16, img_count = 1938\n"
     ]
    },
    {
     "name": "stderr",
     "output_type": "stream",
     "text": [
      "100%|███████████████████████████████████████████████████████████████████████████████████████████████████████████████████████████████████████████████████████████| 17/17 [04:04<00:00, 14.39s/it]"
     ]
    },
    {
     "name": "stdout",
     "output_type": "stream",
     "text": [
      "https://www.menziesartbrands.com/catalogue-details/15881?page=17\n",
      "page_num = 17, img_count = 1938\n"
     ]
    },
    {
     "name": "stderr",
     "output_type": "stream",
     "text": [
      "\n"
     ]
    },
    {
     "name": "stdout",
     "output_type": "stream",
     "text": [
      "auction_url = https://www.menziesartbrands.com/catalogue-details/15881, img_count = 1938\n",
      "https://www.menziesartbrands.com/catalogue-details/15693\n"
     ]
    },
    {
     "name": "stderr",
     "output_type": "stream",
     "text": [
      "\r",
      "  0%|                                                                                                                                                                    | 0/14 [00:00<?, ?it/s]"
     ]
    },
    {
     "name": "stdout",
     "output_type": "stream",
     "text": [
      "https://www.menziesartbrands.com/catalogue-details/15693?page=1\n"
     ]
    },
    {
     "name": "stderr",
     "output_type": "stream",
     "text": [
      "\r",
      "  7%|███████████▏                                                                                                                                                | 1/14 [00:12<02:44, 12.62s/it]"
     ]
    },
    {
     "name": "stdout",
     "output_type": "stream",
     "text": [
      "page_num = 1, img_count = 1945\n",
      "https://www.menziesartbrands.com/catalogue-details/15693?page=2\n"
     ]
    },
    {
     "name": "stderr",
     "output_type": "stream",
     "text": [
      "\r",
      " 14%|██████████████████████▎                                                                                                                                     | 2/14 [00:29<03:04, 15.37s/it]"
     ]
    },
    {
     "name": "stdout",
     "output_type": "stream",
     "text": [
      "page_num = 2, img_count = 1953\n",
      "https://www.menziesartbrands.com/catalogue-details/15693?page=3\n"
     ]
    },
    {
     "name": "stderr",
     "output_type": "stream",
     "text": [
      "\r",
      " 21%|█████████████████████████████████▍                                                                                                                          | 3/14 [00:49<03:12, 17.50s/it]"
     ]
    },
    {
     "name": "stdout",
     "output_type": "stream",
     "text": [
      "page_num = 3, img_count = 1962\n",
      "https://www.menziesartbrands.com/catalogue-details/15693?page=4\n"
     ]
    },
    {
     "name": "stderr",
     "output_type": "stream",
     "text": [
      "\r",
      " 29%|████████████████████████████████████████████▌                                                                                                               | 4/14 [01:03<02:38, 15.86s/it]"
     ]
    },
    {
     "name": "stdout",
     "output_type": "stream",
     "text": [
      "page_num = 4, img_count = 1968\n",
      "https://www.menziesartbrands.com/catalogue-details/15693?page=5\n"
     ]
    },
    {
     "name": "stderr",
     "output_type": "stream",
     "text": [
      "\r",
      " 36%|███████████████████████████████████████████████████████▋                                                                                                    | 5/14 [01:30<02:59, 19.94s/it]"
     ]
    },
    {
     "name": "stdout",
     "output_type": "stream",
     "text": [
      "page_num = 5, img_count = 1977\n",
      "https://www.menziesartbrands.com/catalogue-details/15693?page=6\n"
     ]
    },
    {
     "name": "stderr",
     "output_type": "stream",
     "text": [
      "\r",
      " 43%|██████████████████████████████████████████████████████████████████▊                                                                                         | 6/14 [01:42<02:17, 17.21s/it]"
     ]
    },
    {
     "name": "stdout",
     "output_type": "stream",
     "text": [
      "page_num = 6, img_count = 1983\n",
      "https://www.menziesartbrands.com/catalogue-details/15693?page=7\n"
     ]
    },
    {
     "name": "stderr",
     "output_type": "stream",
     "text": [
      "\r",
      " 50%|██████████████████████████████████████████████████████████████████████████████                                                                              | 7/14 [01:53<01:45, 15.12s/it]"
     ]
    },
    {
     "name": "stdout",
     "output_type": "stream",
     "text": [
      "page_num = 7, img_count = 1989\n",
      "https://www.menziesartbrands.com/catalogue-details/15693?page=8\n"
     ]
    },
    {
     "name": "stderr",
     "output_type": "stream",
     "text": [
      "\r",
      " 57%|█████████████████████████████████████████████████████████████████████████████████████████▏                                                                  | 8/14 [02:07<01:29, 15.00s/it]"
     ]
    },
    {
     "name": "stdout",
     "output_type": "stream",
     "text": [
      "page_num = 8, img_count = 1997\n",
      "https://www.menziesartbrands.com/catalogue-details/15693?page=9\n"
     ]
    },
    {
     "name": "stderr",
     "output_type": "stream",
     "text": [
      "\r",
      " 64%|████████████████████████████████████████████████████████████████████████████████████████████████████▎                                                       | 9/14 [02:22<01:14, 14.94s/it]"
     ]
    },
    {
     "name": "stdout",
     "output_type": "stream",
     "text": [
      "page_num = 9, img_count = 2005\n",
      "https://www.menziesartbrands.com/catalogue-details/15693?page=10\n"
     ]
    },
    {
     "name": "stderr",
     "output_type": "stream",
     "text": [
      "\r",
      " 71%|██████████████████████████████████████████████████████████████████████████████████████████████████████████████▋                                            | 10/14 [02:37<01:00, 15.00s/it]"
     ]
    },
    {
     "name": "stdout",
     "output_type": "stream",
     "text": [
      "page_num = 10, img_count = 2013\n",
      "https://www.menziesartbrands.com/catalogue-details/15693?page=11\n"
     ]
    },
    {
     "name": "stderr",
     "output_type": "stream",
     "text": [
      "\r",
      " 79%|█████████████████████████████████████████████████████████████████████████████████████████████████████████████████████████▊                                 | 11/14 [02:52<00:44, 14.75s/it]"
     ]
    },
    {
     "name": "stdout",
     "output_type": "stream",
     "text": [
      "page_num = 11, img_count = 2020\n",
      "https://www.menziesartbrands.com/catalogue-details/15693?page=12\n"
     ]
    },
    {
     "name": "stderr",
     "output_type": "stream",
     "text": [
      "\r",
      " 86%|████████████████████████████████████████████████████████████████████████████████████████████████████████████████████████████████████▊                      | 12/14 [03:05<00:28, 14.45s/it]"
     ]
    },
    {
     "name": "stdout",
     "output_type": "stream",
     "text": [
      "page_num = 12, img_count = 2028\n",
      "https://www.menziesartbrands.com/catalogue-details/15693?page=13\n"
     ]
    },
    {
     "name": "stderr",
     "output_type": "stream",
     "text": [
      "\r",
      " 93%|███████████████████████████████████████████████████████████████████████████████████████████████████████████████████████████████████████████████▉           | 13/14 [03:22<00:15, 15.22s/it]"
     ]
    },
    {
     "name": "stdout",
     "output_type": "stream",
     "text": [
      "page_num = 13, img_count = 2037\n",
      "https://www.menziesartbrands.com/catalogue-details/15693?page=14\n"
     ]
    },
    {
     "name": "stderr",
     "output_type": "stream",
     "text": [
      "100%|███████████████████████████████████████████████████████████████████████████████████████████████████████████████████████████████████████████████████████████| 14/14 [03:37<00:00, 15.55s/it]"
     ]
    },
    {
     "name": "stdout",
     "output_type": "stream",
     "text": [
      "page_num = 14, img_count = 2045\n",
      "auction_url = https://www.menziesartbrands.com/catalogue-details/15693, img_count = 2045\n"
     ]
    },
    {
     "name": "stderr",
     "output_type": "stream",
     "text": [
      "\n"
     ]
    },
    {
     "name": "stdout",
     "output_type": "stream",
     "text": [
      "https://www.menziesartbrands.com/catalogue-details/15509\n"
     ]
    },
    {
     "name": "stderr",
     "output_type": "stream",
     "text": [
      "\r",
      "  0%|                                                                                                                                                                    | 0/16 [00:00<?, ?it/s]"
     ]
    },
    {
     "name": "stdout",
     "output_type": "stream",
     "text": [
      "https://www.menziesartbrands.com/catalogue-details/15509?page=1\n"
     ]
    },
    {
     "name": "stderr",
     "output_type": "stream",
     "text": [
      "\r",
      "  6%|█████████▊                                                                                                                                                  | 1/16 [00:16<04:13, 16.90s/it]"
     ]
    },
    {
     "name": "stdout",
     "output_type": "stream",
     "text": [
      "page_num = 1, img_count = 2054\n",
      "https://www.menziesartbrands.com/catalogue-details/15509?page=2\n"
     ]
    },
    {
     "name": "stderr",
     "output_type": "stream",
     "text": [
      "\r",
      " 12%|███████████████████▌                                                                                                                                        | 2/16 [00:33<03:54, 16.73s/it]"
     ]
    },
    {
     "name": "stdout",
     "output_type": "stream",
     "text": [
      "page_num = 2, img_count = 2062\n",
      "https://www.menziesartbrands.com/catalogue-details/15509?page=3\n"
     ]
    },
    {
     "name": "stderr",
     "output_type": "stream",
     "text": [
      "\r",
      " 19%|█████████████████████████████▎                                                                                                                              | 3/16 [00:49<03:30, 16.18s/it]"
     ]
    },
    {
     "name": "stdout",
     "output_type": "stream",
     "text": [
      "page_num = 3, img_count = 2069\n",
      "https://www.menziesartbrands.com/catalogue-details/15509?page=4\n"
     ]
    },
    {
     "name": "stderr",
     "output_type": "stream",
     "text": [
      "\r",
      " 25%|███████████████████████████████████████                                                                                                                     | 4/16 [01:05<03:15, 16.31s/it]"
     ]
    },
    {
     "name": "stdout",
     "output_type": "stream",
     "text": [
      "page_num = 4, img_count = 2076\n",
      "https://www.menziesartbrands.com/catalogue-details/15509?page=5\n"
     ]
    },
    {
     "name": "stderr",
     "output_type": "stream",
     "text": [
      "\r",
      " 31%|████████████████████████████████████████████████▊                                                                                                           | 5/16 [01:19<02:50, 15.48s/it]"
     ]
    },
    {
     "name": "stdout",
     "output_type": "stream",
     "text": [
      "page_num = 5, img_count = 2082\n",
      "https://www.menziesartbrands.com/catalogue-details/15509?page=6\n"
     ]
    },
    {
     "name": "stderr",
     "output_type": "stream",
     "text": [
      "\r",
      " 38%|██████████████████████████████████████████████████████████▌                                                                                                 | 6/16 [01:38<02:45, 16.58s/it]"
     ]
    },
    {
     "name": "stdout",
     "output_type": "stream",
     "text": [
      "page_num = 6, img_count = 2091\n",
      "https://www.menziesartbrands.com/catalogue-details/15509?page=7\n"
     ]
    },
    {
     "name": "stderr",
     "output_type": "stream",
     "text": [
      "\r",
      " 44%|████████████████████████████████████████████████████████████████████▎                                                                                       | 7/16 [02:01<02:49, 18.83s/it]"
     ]
    },
    {
     "name": "stdout",
     "output_type": "stream",
     "text": [
      "page_num = 7, img_count = 2098\n",
      "https://www.menziesartbrands.com/catalogue-details/15509?page=8\n"
     ]
    },
    {
     "name": "stderr",
     "output_type": "stream",
     "text": [
      "\r",
      " 50%|██████████████████████████████████████████████████████████████████████████████                                                                              | 8/16 [02:10<02:03, 15.49s/it]"
     ]
    },
    {
     "name": "stdout",
     "output_type": "stream",
     "text": [
      "page_num = 8, img_count = 2102\n",
      "https://www.menziesartbrands.com/catalogue-details/15509?page=9\n"
     ]
    },
    {
     "name": "stderr",
     "output_type": "stream",
     "text": [
      "\r",
      " 56%|███████████████████████████████████████████████████████████████████████████████████████▊                                                                    | 9/16 [02:23<01:44, 14.98s/it]"
     ]
    },
    {
     "name": "stdout",
     "output_type": "stream",
     "text": [
      "page_num = 9, img_count = 2110\n",
      "https://www.menziesartbrands.com/catalogue-details/15509?page=10\n"
     ]
    },
    {
     "name": "stderr",
     "output_type": "stream",
     "text": [
      "\r",
      " 62%|████████████████████████████████████████████████████████████████████████████████████████████████▉                                                          | 10/16 [02:33<01:20, 13.41s/it]"
     ]
    },
    {
     "name": "stdout",
     "output_type": "stream",
     "text": [
      "page_num = 10, img_count = 2115\n",
      "https://www.menziesartbrands.com/catalogue-details/15509?page=11\n"
     ]
    },
    {
     "name": "stderr",
     "output_type": "stream",
     "text": [
      "\r",
      " 69%|██████████████████████████████████████████████████████████████████████████████████████████████████████████▌                                                | 11/16 [02:48<01:08, 13.75s/it]"
     ]
    },
    {
     "name": "stdout",
     "output_type": "stream",
     "text": [
      "page_num = 11, img_count = 2123\n",
      "https://www.menziesartbrands.com/catalogue-details/15509?page=12\n"
     ]
    },
    {
     "name": "stderr",
     "output_type": "stream",
     "text": [
      "\r",
      " 75%|████████████████████████████████████████████████████████████████████████████████████████████████████████████████████▎                                      | 12/16 [03:04<00:57, 14.44s/it]"
     ]
    },
    {
     "name": "stdout",
     "output_type": "stream",
     "text": [
      "page_num = 12, img_count = 2131\n",
      "https://www.menziesartbrands.com/catalogue-details/15509?page=13\n"
     ]
    },
    {
     "name": "stderr",
     "output_type": "stream",
     "text": [
      "\r",
      " 81%|█████████████████████████████████████████████████████████████████████████████████████████████████████████████████████████████▉                             | 13/16 [03:18<00:42, 14.29s/it]"
     ]
    },
    {
     "name": "stdout",
     "output_type": "stream",
     "text": [
      "page_num = 13, img_count = 2139\n",
      "https://www.menziesartbrands.com/catalogue-details/15509?page=14\n"
     ]
    },
    {
     "name": "stderr",
     "output_type": "stream",
     "text": [
      "\r",
      " 88%|███████████████████████████████████████████████████████████████████████████████████████████████████████████████████████████████████████▋                   | 14/16 [03:35<00:30, 15.09s/it]"
     ]
    },
    {
     "name": "stdout",
     "output_type": "stream",
     "text": [
      "page_num = 14, img_count = 2148\n",
      "https://www.menziesartbrands.com/catalogue-details/15509?page=15\n"
     ]
    },
    {
     "name": "stderr",
     "output_type": "stream",
     "text": [
      "\r",
      " 94%|█████████████████████████████████████████████████████████████████████████████████████████████████████████████████████████████████████████████████▎         | 15/16 [03:50<00:15, 15.25s/it]"
     ]
    },
    {
     "name": "stdout",
     "output_type": "stream",
     "text": [
      "page_num = 15, img_count = 2157\n",
      "https://www.menziesartbrands.com/catalogue-details/15509?page=16\n"
     ]
    },
    {
     "name": "stderr",
     "output_type": "stream",
     "text": [
      "100%|███████████████████████████████████████████████████████████████████████████████████████████████████████████████████████████████████████████████████████████| 16/16 [03:56<00:00, 14.79s/it]"
     ]
    },
    {
     "name": "stdout",
     "output_type": "stream",
     "text": [
      "page_num = 16, img_count = 2160\n",
      "auction_url = https://www.menziesartbrands.com/catalogue-details/15509, img_count = 2160\n"
     ]
    },
    {
     "name": "stderr",
     "output_type": "stream",
     "text": [
      "\n"
     ]
    },
    {
     "name": "stdout",
     "output_type": "stream",
     "text": [
      "https://www.menziesartbrands.com/catalogue-details/15175\n"
     ]
    },
    {
     "name": "stderr",
     "output_type": "stream",
     "text": [
      "\r",
      "  0%|                                                                                                                                                                    | 0/13 [00:00<?, ?it/s]"
     ]
    },
    {
     "name": "stdout",
     "output_type": "stream",
     "text": [
      "https://www.menziesartbrands.com/catalogue-details/15175?page=1\n"
     ]
    },
    {
     "name": "stderr",
     "output_type": "stream",
     "text": [
      "\r",
      "  8%|████████████                                                                                                                                                | 1/13 [00:17<03:27, 17.30s/it]"
     ]
    },
    {
     "name": "stdout",
     "output_type": "stream",
     "text": [
      "page_num = 1, img_count = 2169\n",
      "https://www.menziesartbrands.com/catalogue-details/15175?page=2\n"
     ]
    },
    {
     "name": "stderr",
     "output_type": "stream",
     "text": [
      "\r",
      " 15%|████████████████████████                                                                                                                                    | 2/13 [00:33<03:05, 16.89s/it]"
     ]
    },
    {
     "name": "stdout",
     "output_type": "stream",
     "text": [
      "page_num = 2, img_count = 2176\n",
      "https://www.menziesartbrands.com/catalogue-details/15175?page=3\n"
     ]
    },
    {
     "name": "stderr",
     "output_type": "stream",
     "text": [
      "\r",
      " 23%|████████████████████████████████████                                                                                                                        | 3/13 [00:48<02:40, 16.00s/it]"
     ]
    },
    {
     "name": "stdout",
     "output_type": "stream",
     "text": [
      "page_num = 3, img_count = 2184\n",
      "https://www.menziesartbrands.com/catalogue-details/15175?page=4\n"
     ]
    },
    {
     "name": "stderr",
     "output_type": "stream",
     "text": [
      "\r",
      " 31%|████████████████████████████████████████████████                                                                                                            | 4/13 [01:02<02:16, 15.18s/it]"
     ]
    },
    {
     "name": "stdout",
     "output_type": "stream",
     "text": [
      "page_num = 4, img_count = 2191\n",
      "https://www.menziesartbrands.com/catalogue-details/15175?page=5\n"
     ]
    },
    {
     "name": "stderr",
     "output_type": "stream",
     "text": [
      "\r",
      " 38%|████████████████████████████████████████████████████████████                                                                                                | 5/13 [01:14<01:50, 13.78s/it]"
     ]
    },
    {
     "name": "stdout",
     "output_type": "stream",
     "text": [
      "page_num = 5, img_count = 2196\n",
      "https://www.menziesartbrands.com/catalogue-details/15175?page=6\n"
     ]
    },
    {
     "name": "stderr",
     "output_type": "stream",
     "text": [
      "\r",
      " 46%|████████████████████████████████████████████████████████████████████████                                                                                    | 6/13 [01:29<01:40, 14.39s/it]"
     ]
    },
    {
     "name": "stdout",
     "output_type": "stream",
     "text": [
      "page_num = 6, img_count = 2203\n",
      "https://www.menziesartbrands.com/catalogue-details/15175?page=7\n"
     ]
    },
    {
     "name": "stderr",
     "output_type": "stream",
     "text": [
      "\r",
      " 54%|████████████████████████████████████████████████████████████████████████████████████                                                                        | 7/13 [01:41<01:21, 13.54s/it]"
     ]
    },
    {
     "name": "stdout",
     "output_type": "stream",
     "text": [
      "page_num = 7, img_count = 2208\n",
      "https://www.menziesartbrands.com/catalogue-details/15175?page=8\n"
     ]
    },
    {
     "name": "stderr",
     "output_type": "stream",
     "text": [
      "\r",
      " 62%|████████████████████████████████████████████████████████████████████████████████████████████████                                                            | 8/13 [01:58<01:13, 14.66s/it]"
     ]
    },
    {
     "name": "stdout",
     "output_type": "stream",
     "text": [
      "page_num = 8, img_count = 2216\n",
      "https://www.menziesartbrands.com/catalogue-details/15175?page=9\n"
     ]
    },
    {
     "name": "stderr",
     "output_type": "stream",
     "text": [
      "\r",
      " 69%|████████████████████████████████████████████████████████████████████████████████████████████████████████████                                                | 9/13 [02:18<01:05, 16.36s/it]"
     ]
    },
    {
     "name": "stdout",
     "output_type": "stream",
     "text": [
      "page_num = 9, img_count = 2225\n",
      "https://www.menziesartbrands.com/catalogue-details/15175?page=10\n"
     ]
    },
    {
     "name": "stderr",
     "output_type": "stream",
     "text": [
      "\r",
      " 77%|███████████████████████████████████████████████████████████████████████████████████████████████████████████████████████▏                                   | 10/13 [02:32<00:46, 15.57s/it]"
     ]
    },
    {
     "name": "stdout",
     "output_type": "stream",
     "text": [
      "page_num = 10, img_count = 2229\n",
      "https://www.menziesartbrands.com/catalogue-details/15175?page=11\n"
     ]
    },
    {
     "name": "stderr",
     "output_type": "stream",
     "text": [
      "\r",
      " 85%|███████████████████████████████████████████████████████████████████████████████████████████████████████████████████████████████████▏                       | 11/13 [02:42<00:27, 13.74s/it]"
     ]
    },
    {
     "name": "stdout",
     "output_type": "stream",
     "text": [
      "page_num = 11, img_count = 2234\n",
      "https://www.menziesartbrands.com/catalogue-details/15175?page=12\n"
     ]
    },
    {
     "name": "stderr",
     "output_type": "stream",
     "text": [
      "\r",
      " 92%|███████████████████████████████████████████████████████████████████████████████████████████████████████████████████████████████████████████████            | 12/13 [02:51<00:12, 12.43s/it]"
     ]
    },
    {
     "name": "stdout",
     "output_type": "stream",
     "text": [
      "page_num = 12, img_count = 2239\n",
      "https://www.menziesartbrands.com/catalogue-details/15175?page=13\n"
     ]
    },
    {
     "name": "stderr",
     "output_type": "stream",
     "text": [
      "100%|███████████████████████████████████████████████████████████████████████████████████████████████████████████████████████████████████████████████████████████| 13/13 [03:04<00:00, 14.19s/it]"
     ]
    },
    {
     "name": "stdout",
     "output_type": "stream",
     "text": [
      "page_num = 13, img_count = 2246\n",
      "auction_url = https://www.menziesartbrands.com/catalogue-details/15175, img_count = 2246\n"
     ]
    },
    {
     "name": "stderr",
     "output_type": "stream",
     "text": [
      "\n"
     ]
    },
    {
     "name": "stdout",
     "output_type": "stream",
     "text": [
      "https://www.menziesartbrands.com/catalogue-details/12952\n"
     ]
    },
    {
     "name": "stderr",
     "output_type": "stream",
     "text": [
      "\r",
      "  0%|                                                                                                                                                                    | 0/26 [00:00<?, ?it/s]"
     ]
    },
    {
     "name": "stdout",
     "output_type": "stream",
     "text": [
      "https://www.menziesartbrands.com/catalogue-details/12952?page=1\n"
     ]
    },
    {
     "name": "stderr",
     "output_type": "stream",
     "text": [
      "\r",
      "  4%|██████                                                                                                                                                      | 1/26 [00:11<04:55, 11.80s/it]"
     ]
    },
    {
     "name": "stdout",
     "output_type": "stream",
     "text": [
      "page_num = 1, img_count = 2252\n",
      "https://www.menziesartbrands.com/catalogue-details/12952?page=2\n"
     ]
    },
    {
     "name": "stderr",
     "output_type": "stream",
     "text": [
      "\r",
      "  8%|████████████                                                                                                                                                | 2/26 [00:29<06:11, 15.49s/it]"
     ]
    },
    {
     "name": "stdout",
     "output_type": "stream",
     "text": [
      "page_num = 2, img_count = 2261\n",
      "https://www.menziesartbrands.com/catalogue-details/12952?page=3\n"
     ]
    },
    {
     "name": "stderr",
     "output_type": "stream",
     "text": [
      "\r",
      " 12%|██████████████████                                                                                                                                          | 3/26 [00:47<06:13, 16.25s/it]"
     ]
    },
    {
     "name": "stdout",
     "output_type": "stream",
     "text": [
      "page_num = 3, img_count = 2270\n",
      "https://www.menziesartbrands.com/catalogue-details/12952?page=4\n"
     ]
    },
    {
     "name": "stderr",
     "output_type": "stream",
     "text": [
      "\r",
      " 15%|████████████████████████                                                                                                                                    | 4/26 [01:03<06:00, 16.40s/it]"
     ]
    },
    {
     "name": "stdout",
     "output_type": "stream",
     "text": [
      "page_num = 4, img_count = 2278\n",
      "https://www.menziesartbrands.com/catalogue-details/12952?page=5\n"
     ]
    },
    {
     "name": "stderr",
     "output_type": "stream",
     "text": [
      "\r",
      " 19%|██████████████████████████████                                                                                                                              | 5/26 [01:15<05:13, 14.91s/it]"
     ]
    },
    {
     "name": "stdout",
     "output_type": "stream",
     "text": [
      "page_num = 5, img_count = 2284\n",
      "https://www.menziesartbrands.com/catalogue-details/12952?page=6\n"
     ]
    },
    {
     "name": "stderr",
     "output_type": "stream",
     "text": [
      "\r",
      " 23%|████████████████████████████████████                                                                                                                        | 6/26 [01:27<04:37, 13.86s/it]"
     ]
    },
    {
     "name": "stdout",
     "output_type": "stream",
     "text": [
      "page_num = 6, img_count = 2289\n",
      "https://www.menziesartbrands.com/catalogue-details/12952?page=7\n"
     ]
    },
    {
     "name": "stderr",
     "output_type": "stream",
     "text": [
      "\r",
      " 27%|██████████████████████████████████████████                                                                                                                  | 7/26 [01:39<04:12, 13.28s/it]"
     ]
    },
    {
     "name": "stdout",
     "output_type": "stream",
     "text": [
      "page_num = 7, img_count = 2295\n",
      "https://www.menziesartbrands.com/catalogue-details/12952?page=8\n"
     ]
    },
    {
     "name": "stderr",
     "output_type": "stream",
     "text": [
      "\r",
      " 31%|████████████████████████████████████████████████                                                                                                            | 8/26 [01:52<03:55, 13.09s/it]"
     ]
    },
    {
     "name": "stdout",
     "output_type": "stream",
     "text": [
      "page_num = 8, img_count = 2302\n",
      "https://www.menziesartbrands.com/catalogue-details/12952?page=9\n"
     ]
    },
    {
     "name": "stderr",
     "output_type": "stream",
     "text": [
      "\r",
      " 35%|██████████████████████████████████████████████████████                                                                                                      | 9/26 [02:01<03:22, 11.94s/it]"
     ]
    },
    {
     "name": "stdout",
     "output_type": "stream",
     "text": [
      "page_num = 9, img_count = 2306\n",
      "https://www.menziesartbrands.com/catalogue-details/12952?page=10\n"
     ]
    },
    {
     "name": "stderr",
     "output_type": "stream",
     "text": [
      "\r",
      " 38%|███████████████████████████████████████████████████████████▌                                                                                               | 10/26 [02:17<03:29, 13.08s/it]"
     ]
    },
    {
     "name": "stdout",
     "output_type": "stream",
     "text": [
      "page_num = 10, img_count = 2314\n",
      "https://www.menziesartbrands.com/catalogue-details/12952?page=11\n"
     ]
    },
    {
     "name": "stderr",
     "output_type": "stream",
     "text": [
      "\r",
      " 42%|█████████████████████████████████████████████████████████████████▌                                                                                         | 11/26 [02:31<03:22, 13.47s/it]"
     ]
    },
    {
     "name": "stdout",
     "output_type": "stream",
     "text": [
      "page_num = 11, img_count = 2321\n",
      "https://www.menziesartbrands.com/catalogue-details/12952?page=12\n"
     ]
    },
    {
     "name": "stderr",
     "output_type": "stream",
     "text": [
      "\r",
      " 46%|███████████████████████████████████████████████████████████████████████▌                                                                                   | 12/26 [02:43<03:01, 12.97s/it]"
     ]
    },
    {
     "name": "stdout",
     "output_type": "stream",
     "text": [
      "page_num = 12, img_count = 2326\n",
      "https://www.menziesartbrands.com/catalogue-details/12952?page=13\n"
     ]
    },
    {
     "name": "stderr",
     "output_type": "stream",
     "text": [
      "\r",
      " 50%|█████████████████████████████████████████████████████████████████████████████▌                                                                             | 13/26 [02:59<02:59, 13.77s/it]"
     ]
    },
    {
     "name": "stdout",
     "output_type": "stream",
     "text": [
      "page_num = 13, img_count = 2334\n",
      "https://www.menziesartbrands.com/catalogue-details/12952?page=14\n"
     ]
    },
    {
     "name": "stderr",
     "output_type": "stream",
     "text": [
      "\r",
      " 54%|███████████████████████████████████████████████████████████████████████████████████▍                                                                       | 14/26 [03:15<02:55, 14.59s/it]"
     ]
    },
    {
     "name": "stdout",
     "output_type": "stream",
     "text": [
      "page_num = 14, img_count = 2342\n",
      "https://www.menziesartbrands.com/catalogue-details/12952?page=15\n"
     ]
    },
    {
     "name": "stderr",
     "output_type": "stream",
     "text": [
      "\r",
      " 58%|█████████████████████████████████████████████████████████████████████████████████████████▍                                                                 | 15/26 [03:41<03:17, 17.93s/it]"
     ]
    },
    {
     "name": "stdout",
     "output_type": "stream",
     "text": [
      "page_num = 15, img_count = 2349\n",
      "https://www.menziesartbrands.com/catalogue-details/12952?page=16\n"
     ]
    },
    {
     "name": "stderr",
     "output_type": "stream",
     "text": [
      "\r",
      " 62%|███████████████████████████████████████████████████████████████████████████████████████████████▍                                                           | 16/26 [03:57<02:53, 17.35s/it]"
     ]
    },
    {
     "name": "stdout",
     "output_type": "stream",
     "text": [
      "page_num = 16, img_count = 2358\n",
      "https://www.menziesartbrands.com/catalogue-details/12952?page=17\n"
     ]
    },
    {
     "name": "stderr",
     "output_type": "stream",
     "text": [
      "\r",
      " 65%|█████████████████████████████████████████████████████████████████████████████████████████████████████▎                                                     | 17/26 [04:13<02:32, 16.95s/it]"
     ]
    },
    {
     "name": "stdout",
     "output_type": "stream",
     "text": [
      "page_num = 17, img_count = 2367\n",
      "https://www.menziesartbrands.com/catalogue-details/12952?page=18\n"
     ]
    },
    {
     "name": "stderr",
     "output_type": "stream",
     "text": [
      "\r",
      " 69%|███████████████████████████████████████████████████████████████████████████████████████████████████████████▎                                               | 18/26 [04:31<02:17, 17.13s/it]"
     ]
    },
    {
     "name": "stdout",
     "output_type": "stream",
     "text": [
      "page_num = 18, img_count = 2376\n",
      "https://www.menziesartbrands.com/catalogue-details/12952?page=19\n"
     ]
    },
    {
     "name": "stderr",
     "output_type": "stream",
     "text": [
      "\r",
      " 73%|████████████████████████████████████████████████████████████████████████████████████████████████████████████████▌                                         | 19/26 [12:11<17:32, 150.31s/it]"
     ]
    },
    {
     "name": "stdout",
     "output_type": "stream",
     "text": [
      "page_num = 19, img_count = 2384\n",
      "https://www.menziesartbrands.com/catalogue-details/12952?page=20\n"
     ]
    },
    {
     "name": "stderr",
     "output_type": "stream",
     "text": [
      "\r",
      " 77%|██████████████████████████████████████████████████████████████████████████████████████████████████████████████████████▍                                   | 20/26 [12:42<11:26, 114.39s/it]"
     ]
    },
    {
     "name": "stdout",
     "output_type": "stream",
     "text": [
      "page_num = 20, img_count = 2393\n",
      "https://www.menziesartbrands.com/catalogue-details/12952?page=21\n"
     ]
    },
    {
     "name": "stderr",
     "output_type": "stream",
     "text": [
      "\r",
      " 81%|█████████████████████████████████████████████████████████████████████████████████████████████████████████████████████████████▏                             | 21/26 [13:00<07:07, 85.47s/it]"
     ]
    },
    {
     "name": "stdout",
     "output_type": "stream",
     "text": [
      "page_num = 21, img_count = 2399\n",
      "https://www.menziesartbrands.com/catalogue-details/12952?page=22\n"
     ]
    },
    {
     "name": "stderr",
     "output_type": "stream",
     "text": [
      "\r",
      " 85%|███████████████████████████████████████████████████████████████████████████████████████████████████████████████████████████████████▏                       | 22/26 [13:22<04:26, 66.54s/it]"
     ]
    },
    {
     "name": "stdout",
     "output_type": "stream",
     "text": [
      "page_num = 22, img_count = 2408\n",
      "https://www.menziesartbrands.com/catalogue-details/12952?page=23\n"
     ]
    },
    {
     "name": "stderr",
     "output_type": "stream",
     "text": [
      "\r",
      " 88%|█████████████████████████████████████████████████████████████████████████████████████████████████████████████████████████████████████████                  | 23/26 [13:39<02:34, 51.46s/it]"
     ]
    },
    {
     "name": "stdout",
     "output_type": "stream",
     "text": [
      "page_num = 23, img_count = 2414\n",
      "https://www.menziesartbrands.com/catalogue-details/12952?page=24\n"
     ]
    },
    {
     "name": "stderr",
     "output_type": "stream",
     "text": [
      "\r",
      " 92%|███████████████████████████████████████████████████████████████████████████████████████████████████████████████████████████████████████████████            | 24/26 [14:01<01:25, 42.81s/it]"
     ]
    },
    {
     "name": "stdout",
     "output_type": "stream",
     "text": [
      "page_num = 24, img_count = 2423\n",
      "https://www.menziesartbrands.com/catalogue-details/12952?page=25\n"
     ]
    },
    {
     "name": "stderr",
     "output_type": "stream",
     "text": [
      "\r",
      " 96%|█████████████████████████████████████████████████████████████████████████████████████████████████████████████████████████████████████████████████████      | 25/26 [14:15<00:34, 34.23s/it]"
     ]
    },
    {
     "name": "stdout",
     "output_type": "stream",
     "text": [
      "page_num = 25, img_count = 2428\n",
      "https://www.menziesartbrands.com/catalogue-details/12952?page=26\n"
     ]
    },
    {
     "name": "stderr",
     "output_type": "stream",
     "text": [
      "100%|███████████████████████████████████████████████████████████████████████████████████████████████████████████████████████████████████████████████████████████| 26/26 [14:28<00:00, 33.41s/it]"
     ]
    },
    {
     "name": "stdout",
     "output_type": "stream",
     "text": [
      "page_num = 26, img_count = 2431\n",
      "auction_url = https://www.menziesartbrands.com/catalogue-details/12952, img_count = 2431\n"
     ]
    },
    {
     "name": "stderr",
     "output_type": "stream",
     "text": [
      "\n"
     ]
    },
    {
     "name": "stdout",
     "output_type": "stream",
     "text": [
      "https://www.menziesartbrands.com/catalogue-details/11205\n"
     ]
    },
    {
     "name": "stderr",
     "output_type": "stream",
     "text": [
      "\r",
      "  0%|                                                                                                                                                                    | 0/18 [00:00<?, ?it/s]"
     ]
    },
    {
     "name": "stdout",
     "output_type": "stream",
     "text": [
      "https://www.menziesartbrands.com/catalogue-details/11205?page=1\n"
     ]
    },
    {
     "name": "stderr",
     "output_type": "stream",
     "text": [
      "\r",
      "  6%|████████▋                                                                                                                                                   | 1/18 [00:25<07:19, 25.83s/it]"
     ]
    },
    {
     "name": "stdout",
     "output_type": "stream",
     "text": [
      "page_num = 1, img_count = 2440\n",
      "https://www.menziesartbrands.com/catalogue-details/11205?page=2\n"
     ]
    },
    {
     "name": "stderr",
     "output_type": "stream",
     "text": [
      "\r",
      " 11%|█████████████████▎                                                                                                                                          | 2/18 [00:47<06:18, 23.65s/it]"
     ]
    },
    {
     "name": "stdout",
     "output_type": "stream",
     "text": [
      "page_num = 2, img_count = 2448\n",
      "https://www.menziesartbrands.com/catalogue-details/11205?page=3\n"
     ]
    },
    {
     "name": "stderr",
     "output_type": "stream",
     "text": [
      "\r",
      " 17%|██████████████████████████                                                                                                                                  | 3/18 [01:14<06:15, 25.07s/it]"
     ]
    },
    {
     "name": "stdout",
     "output_type": "stream",
     "text": [
      "page_num = 3, img_count = 2456\n",
      "https://www.menziesartbrands.com/catalogue-details/11205?page=4\n"
     ]
    },
    {
     "name": "stderr",
     "output_type": "stream",
     "text": [
      "\r",
      " 22%|██████████████████████████████████▋                                                                                                                         | 4/18 [01:42<06:07, 26.25s/it]"
     ]
    },
    {
     "name": "stdout",
     "output_type": "stream",
     "text": [
      "page_num = 4, img_count = 2462\n",
      "https://www.menziesartbrands.com/catalogue-details/11205?page=5\n"
     ]
    },
    {
     "name": "stderr",
     "output_type": "stream",
     "text": [
      "\r",
      " 28%|███████████████████████████████████████████▎                                                                                                                | 5/18 [02:02<05:09, 23.84s/it]"
     ]
    },
    {
     "name": "stdout",
     "output_type": "stream",
     "text": [
      "page_num = 5, img_count = 2470\n",
      "https://www.menziesartbrands.com/catalogue-details/11205?page=6\n"
     ]
    },
    {
     "name": "stderr",
     "output_type": "stream",
     "text": [
      "\r",
      " 33%|████████████████████████████████████████████████████                                                                                                        | 6/18 [02:22<04:30, 22.57s/it]"
     ]
    },
    {
     "name": "stdout",
     "output_type": "stream",
     "text": [
      "page_num = 6, img_count = 2478\n",
      "https://www.menziesartbrands.com/catalogue-details/11205?page=7\n"
     ]
    },
    {
     "name": "stderr",
     "output_type": "stream",
     "text": [
      "\r",
      " 39%|████████████████████████████████████████████████████████████▋                                                                                               | 7/18 [02:41<03:56, 21.53s/it]"
     ]
    },
    {
     "name": "stdout",
     "output_type": "stream",
     "text": [
      "page_num = 7, img_count = 2487\n",
      "https://www.menziesartbrands.com/catalogue-details/11205?page=8\n"
     ]
    },
    {
     "name": "stderr",
     "output_type": "stream",
     "text": [
      "\r",
      " 44%|█████████████████████████████████████████████████████████████████████▎                                                                                      | 8/18 [03:01<03:29, 20.97s/it]"
     ]
    },
    {
     "name": "stdout",
     "output_type": "stream",
     "text": [
      "page_num = 8, img_count = 2495\n",
      "https://www.menziesartbrands.com/catalogue-details/11205?page=9\n"
     ]
    },
    {
     "name": "stderr",
     "output_type": "stream",
     "text": [
      "\r",
      " 50%|██████████████████████████████████████████████████████████████████████████████                                                                              | 9/18 [03:15<02:48, 18.68s/it]"
     ]
    },
    {
     "name": "stdout",
     "output_type": "stream",
     "text": [
      "page_num = 9, img_count = 2502\n",
      "https://www.menziesartbrands.com/catalogue-details/11205?page=10\n"
     ]
    },
    {
     "name": "stderr",
     "output_type": "stream",
     "text": [
      "\r",
      " 56%|██████████████████████████████████████████████████████████████████████████████████████                                                                     | 10/18 [03:29<02:19, 17.45s/it]"
     ]
    },
    {
     "name": "stdout",
     "output_type": "stream",
     "text": [
      "page_num = 10, img_count = 2509\n",
      "https://www.menziesartbrands.com/catalogue-details/11205?page=11\n"
     ]
    },
    {
     "name": "stderr",
     "output_type": "stream",
     "text": [
      "\r",
      " 61%|██████████████████████████████████████████████████████████████████████████████████████████████▋                                                            | 11/18 [03:44<01:55, 16.52s/it]"
     ]
    },
    {
     "name": "stdout",
     "output_type": "stream",
     "text": [
      "page_num = 11, img_count = 2516\n",
      "https://www.menziesartbrands.com/catalogue-details/11205?page=12\n"
     ]
    },
    {
     "name": "stderr",
     "output_type": "stream",
     "text": [
      "\r",
      " 67%|███████████████████████████████████████████████████████████████████████████████████████████████████████▎                                                   | 12/18 [03:54<01:27, 14.57s/it]"
     ]
    },
    {
     "name": "stdout",
     "output_type": "stream",
     "text": [
      "page_num = 12, img_count = 2521\n",
      "https://www.menziesartbrands.com/catalogue-details/11205?page=13\n"
     ]
    },
    {
     "name": "stderr",
     "output_type": "stream",
     "text": [
      "\r",
      " 72%|███████████████████████████████████████████████████████████████████████████████████████████████████████████████▉                                           | 13/18 [04:11<01:15, 15.18s/it]"
     ]
    },
    {
     "name": "stdout",
     "output_type": "stream",
     "text": [
      "page_num = 13, img_count = 2530\n",
      "https://www.menziesartbrands.com/catalogue-details/11205?page=14\n"
     ]
    },
    {
     "name": "stderr",
     "output_type": "stream",
     "text": [
      "\r",
      " 78%|████████████████████████████████████████████████████████████████████████████████████████████████████████████████████████▌                                  | 14/18 [04:29<01:05, 16.28s/it]"
     ]
    },
    {
     "name": "stdout",
     "output_type": "stream",
     "text": [
      "page_num = 14, img_count = 2539\n",
      "https://www.menziesartbrands.com/catalogue-details/11205?page=15\n"
     ]
    },
    {
     "name": "stderr",
     "output_type": "stream",
     "text": [
      "\r",
      " 83%|█████████████████████████████████████████████████████████████████████████████████████████████████████████████████████████████████▏                         | 15/18 [04:42<00:45, 15.31s/it]"
     ]
    },
    {
     "name": "stdout",
     "output_type": "stream",
     "text": [
      "page_num = 15, img_count = 2545\n",
      "https://www.menziesartbrands.com/catalogue-details/11205?page=16\n"
     ]
    },
    {
     "name": "stderr",
     "output_type": "stream",
     "text": [
      "\r",
      " 89%|█████████████████████████████████████████████████████████████████████████████████████████████████████████████████████████████████████████▊                 | 16/18 [04:56<00:29, 14.64s/it]"
     ]
    },
    {
     "name": "stdout",
     "output_type": "stream",
     "text": [
      "page_num = 16, img_count = 2551\n",
      "https://www.menziesartbrands.com/catalogue-details/11205?page=17\n"
     ]
    },
    {
     "name": "stderr",
     "output_type": "stream",
     "text": [
      "\r",
      " 94%|██████████████████████████████████████████████████████████████████████████████████████████████████████████████████████████████████████████████████▍        | 17/18 [05:11<00:14, 14.80s/it]"
     ]
    },
    {
     "name": "stdout",
     "output_type": "stream",
     "text": [
      "page_num = 17, img_count = 2558\n",
      "https://www.menziesartbrands.com/catalogue-details/11205?page=18\n"
     ]
    },
    {
     "name": "stderr",
     "output_type": "stream",
     "text": [
      "100%|███████████████████████████████████████████████████████████████████████████████████████████████████████████████████████████████████████████████████████████| 18/18 [05:28<00:00, 18.27s/it]"
     ]
    },
    {
     "name": "stdout",
     "output_type": "stream",
     "text": [
      "page_num = 18, img_count = 2566\n",
      "auction_url = https://www.menziesartbrands.com/catalogue-details/11205, img_count = 2566\n"
     ]
    },
    {
     "name": "stderr",
     "output_type": "stream",
     "text": [
      "\n"
     ]
    },
    {
     "name": "stdout",
     "output_type": "stream",
     "text": [
      "https://www.menziesartbrands.com/catalogue-details/8857\n"
     ]
    },
    {
     "name": "stderr",
     "output_type": "stream",
     "text": [
      "\r",
      "  0%|                                                                                                                                                                    | 0/17 [00:00<?, ?it/s]"
     ]
    },
    {
     "name": "stdout",
     "output_type": "stream",
     "text": [
      "https://www.menziesartbrands.com/catalogue-details/8857?page=1\n"
     ]
    },
    {
     "name": "stderr",
     "output_type": "stream",
     "text": [
      "\r",
      "  6%|█████████▏                                                                                                                                                  | 1/17 [00:32<08:40, 32.55s/it]"
     ]
    },
    {
     "name": "stdout",
     "output_type": "stream",
     "text": [
      "page_num = 1, img_count = 2573\n",
      "https://www.menziesartbrands.com/catalogue-details/8857?page=2\n"
     ]
    },
    {
     "name": "stderr",
     "output_type": "stream",
     "text": [
      "\r",
      " 12%|██████████████████▎                                                                                                                                         | 2/17 [00:44<05:07, 20.48s/it]"
     ]
    },
    {
     "name": "stdout",
     "output_type": "stream",
     "text": [
      "page_num = 2, img_count = 2579\n",
      "https://www.menziesartbrands.com/catalogue-details/8857?page=3\n"
     ]
    },
    {
     "name": "stderr",
     "output_type": "stream",
     "text": [
      "\r",
      " 18%|███████████████████████████▌                                                                                                                                | 3/17 [00:59<04:12, 18.06s/it]"
     ]
    },
    {
     "name": "stdout",
     "output_type": "stream",
     "text": [
      "page_num = 3, img_count = 2586\n",
      "https://www.menziesartbrands.com/catalogue-details/8857?page=4\n"
     ]
    },
    {
     "name": "stderr",
     "output_type": "stream",
     "text": [
      "\r",
      " 24%|████████████████████████████████████▋                                                                                                                       | 4/17 [01:14<03:38, 16.82s/it]"
     ]
    },
    {
     "name": "stdout",
     "output_type": "stream",
     "text": [
      "page_num = 4, img_count = 2593\n",
      "https://www.menziesartbrands.com/catalogue-details/8857?page=5\n"
     ]
    },
    {
     "name": "stderr",
     "output_type": "stream",
     "text": [
      "\r",
      " 29%|█████████████████████████████████████████████▉                                                                                                              | 5/17 [01:29<03:11, 15.93s/it]"
     ]
    },
    {
     "name": "stdout",
     "output_type": "stream",
     "text": [
      "page_num = 5, img_count = 2600\n",
      "https://www.menziesartbrands.com/catalogue-details/8857?page=6\n"
     ]
    },
    {
     "name": "stderr",
     "output_type": "stream",
     "text": [
      "\r",
      " 35%|███████████████████████████████████████████████████████                                                                                                     | 6/17 [01:43<02:49, 15.39s/it]"
     ]
    },
    {
     "name": "stdout",
     "output_type": "stream",
     "text": [
      "page_num = 6, img_count = 2608\n",
      "https://www.menziesartbrands.com/catalogue-details/8857?page=7\n"
     ]
    },
    {
     "name": "stderr",
     "output_type": "stream",
     "text": [
      "\r",
      " 41%|████████████████████████████████████████████████████████████████▏                                                                                           | 7/17 [01:57<02:29, 14.94s/it]"
     ]
    },
    {
     "name": "stdout",
     "output_type": "stream",
     "text": [
      "page_num = 7, img_count = 2616\n",
      "https://www.menziesartbrands.com/catalogue-details/8857?page=8\n"
     ]
    },
    {
     "name": "stderr",
     "output_type": "stream",
     "text": [
      "\r",
      " 47%|█████████████████████████████████████████████████████████████████████████▍                                                                                  | 8/17 [02:09<02:07, 14.16s/it]"
     ]
    },
    {
     "name": "stdout",
     "output_type": "stream",
     "text": [
      "page_num = 8, img_count = 2622\n",
      "https://www.menziesartbrands.com/catalogue-details/8857?page=9\n"
     ]
    },
    {
     "name": "stderr",
     "output_type": "stream",
     "text": [
      "\r",
      " 53%|██████████████████████████████████████████████████████████████████████████████████▌                                                                         | 9/17 [02:20<01:43, 12.90s/it]"
     ]
    },
    {
     "name": "stdout",
     "output_type": "stream",
     "text": [
      "page_num = 9, img_count = 2627\n",
      "https://www.menziesartbrands.com/catalogue-details/8857?page=10\n"
     ]
    },
    {
     "name": "stderr",
     "output_type": "stream",
     "text": [
      "\r",
      " 59%|███████████████████████████████████████████████████████████████████████████████████████████▏                                                               | 10/17 [02:33<01:32, 13.19s/it]"
     ]
    },
    {
     "name": "stdout",
     "output_type": "stream",
     "text": [
      "page_num = 10, img_count = 2635\n",
      "https://www.menziesartbrands.com/catalogue-details/8857?page=11\n"
     ]
    },
    {
     "name": "stderr",
     "output_type": "stream",
     "text": [
      "\r",
      " 65%|████████████████████████████████████████████████████████████████████████████████████████████████████▎                                                      | 11/17 [02:43<01:11, 11.99s/it]"
     ]
    },
    {
     "name": "stdout",
     "output_type": "stream",
     "text": [
      "page_num = 11, img_count = 2639\n",
      "https://www.menziesartbrands.com/catalogue-details/8857?page=12\n"
     ]
    },
    {
     "name": "stderr",
     "output_type": "stream",
     "text": [
      "\r",
      " 71%|█████████████████████████████████████████████████████████████████████████████████████████████████████████████▍                                             | 12/17 [03:00<01:07, 13.51s/it]"
     ]
    },
    {
     "name": "stdout",
     "output_type": "stream",
     "text": [
      "page_num = 12, img_count = 2648\n",
      "https://www.menziesartbrands.com/catalogue-details/8857?page=13\n"
     ]
    },
    {
     "name": "stderr",
     "output_type": "stream",
     "text": [
      "\r",
      " 76%|██████████████████████████████████████████████████████████████████████████████████████████████████████████████████████▌                                    | 13/17 [03:13<00:53, 13.44s/it]"
     ]
    },
    {
     "name": "stdout",
     "output_type": "stream",
     "text": [
      "page_num = 13, img_count = 2655\n",
      "https://www.menziesartbrands.com/catalogue-details/8857?page=14\n"
     ]
    },
    {
     "name": "stderr",
     "output_type": "stream",
     "text": [
      "\r",
      " 82%|███████████████████████████████████████████████████████████████████████████████████████████████████████████████████████████████▋                           | 14/17 [03:27<00:40, 13.50s/it]"
     ]
    },
    {
     "name": "stdout",
     "output_type": "stream",
     "text": [
      "page_num = 14, img_count = 2662\n",
      "https://www.menziesartbrands.com/catalogue-details/8857?page=15\n"
     ]
    },
    {
     "name": "stderr",
     "output_type": "stream",
     "text": [
      "\r",
      " 88%|████████████████████████████████████████████████████████████████████████████████████████████████████████████████████████████████████████▊                  | 15/17 [03:44<00:29, 14.70s/it]"
     ]
    },
    {
     "name": "stdout",
     "output_type": "stream",
     "text": [
      "page_num = 15, img_count = 2671\n",
      "https://www.menziesartbrands.com/catalogue-details/8857?page=16\n"
     ]
    },
    {
     "name": "stderr",
     "output_type": "stream",
     "text": [
      "\r",
      " 94%|█████████████████████████████████████████████████████████████████████████████████████████████████████████████████████████████████████████████████▉         | 16/17 [03:56<00:13, 13.98s/it]"
     ]
    },
    {
     "name": "stdout",
     "output_type": "stream",
     "text": [
      "page_num = 16, img_count = 2677\n",
      "https://www.menziesartbrands.com/catalogue-details/8857?page=17\n"
     ]
    },
    {
     "name": "stderr",
     "output_type": "stream",
     "text": [
      "100%|███████████████████████████████████████████████████████████████████████████████████████████████████████████████████████████████████████████████████████████| 17/17 [04:08<00:00, 14.62s/it]"
     ]
    },
    {
     "name": "stdout",
     "output_type": "stream",
     "text": [
      "page_num = 17, img_count = 2683\n",
      "auction_url = https://www.menziesartbrands.com/catalogue-details/8857, img_count = 2683\n"
     ]
    },
    {
     "name": "stderr",
     "output_type": "stream",
     "text": [
      "\n"
     ]
    },
    {
     "name": "stdout",
     "output_type": "stream",
     "text": [
      "https://www.menziesartbrands.com/catalogue-details/6270\n"
     ]
    },
    {
     "name": "stderr",
     "output_type": "stream",
     "text": [
      "\r",
      "  0%|                                                                                                                                                                    | 0/27 [00:00<?, ?it/s]"
     ]
    },
    {
     "name": "stdout",
     "output_type": "stream",
     "text": [
      "https://www.menziesartbrands.com/catalogue-details/6270?page=1\n"
     ]
    },
    {
     "name": "stderr",
     "output_type": "stream",
     "text": [
      "\r",
      "  4%|█████▊                                                                                                                                                      | 1/27 [00:26<11:27, 26.45s/it]"
     ]
    },
    {
     "name": "stdout",
     "output_type": "stream",
     "text": [
      "page_num = 1, img_count = 2692\n",
      "https://www.menziesartbrands.com/catalogue-details/6270?page=2\n"
     ]
    },
    {
     "name": "stderr",
     "output_type": "stream",
     "text": [
      "\r",
      "  7%|███████████▌                                                                                                                                                | 2/27 [00:39<07:46, 18.66s/it]"
     ]
    },
    {
     "name": "stdout",
     "output_type": "stream",
     "text": [
      "page_num = 2, img_count = 2699\n",
      "https://www.menziesartbrands.com/catalogue-details/6270?page=3\n"
     ]
    },
    {
     "name": "stderr",
     "output_type": "stream",
     "text": [
      "\r",
      " 11%|█████████████████▎                                                                                                                                          | 3/27 [00:52<06:19, 15.81s/it]"
     ]
    },
    {
     "name": "stdout",
     "output_type": "stream",
     "text": [
      "page_num = 3, img_count = 2705\n",
      "https://www.menziesartbrands.com/catalogue-details/6270?page=4\n"
     ]
    },
    {
     "name": "stderr",
     "output_type": "stream",
     "text": [
      "\r",
      " 15%|███████████████████████                                                                                                                                     | 4/27 [01:02<05:13, 13.64s/it]"
     ]
    },
    {
     "name": "stdout",
     "output_type": "stream",
     "text": [
      "page_num = 4, img_count = 2710\n",
      "https://www.menziesartbrands.com/catalogue-details/6270?page=5\n"
     ]
    },
    {
     "name": "stderr",
     "output_type": "stream",
     "text": [
      "\r",
      " 19%|████████████████████████████▉                                                                                                                               | 5/27 [01:17<05:15, 14.32s/it]"
     ]
    },
    {
     "name": "stdout",
     "output_type": "stream",
     "text": [
      "page_num = 5, img_count = 2718\n",
      "https://www.menziesartbrands.com/catalogue-details/6270?page=6\n"
     ]
    },
    {
     "name": "stderr",
     "output_type": "stream",
     "text": [
      "\r",
      " 22%|██████████████████████████████████▋                                                                                                                         | 6/27 [01:29<04:39, 13.32s/it]"
     ]
    },
    {
     "name": "stdout",
     "output_type": "stream",
     "text": [
      "page_num = 6, img_count = 2724\n",
      "https://www.menziesartbrands.com/catalogue-details/6270?page=7\n"
     ]
    },
    {
     "name": "stderr",
     "output_type": "stream",
     "text": [
      "\r",
      " 26%|████████████████████████████████████████▍                                                                                                                   | 7/27 [01:37<03:54, 11.70s/it]"
     ]
    },
    {
     "name": "stdout",
     "output_type": "stream",
     "text": [
      "page_num = 7, img_count = 2728\n",
      "https://www.menziesartbrands.com/catalogue-details/6270?page=8\n"
     ]
    },
    {
     "name": "stderr",
     "output_type": "stream",
     "text": [
      "\r",
      " 30%|██████████████████████████████████████████████▏                                                                                                             | 8/27 [01:46<03:27, 10.91s/it]"
     ]
    },
    {
     "name": "stdout",
     "output_type": "stream",
     "text": [
      "page_num = 8, img_count = 2733\n",
      "https://www.menziesartbrands.com/catalogue-details/6270?page=9\n"
     ]
    },
    {
     "name": "stderr",
     "output_type": "stream",
     "text": [
      "\r",
      " 33%|████████████████████████████████████████████████████                                                                                                        | 9/27 [02:01<03:35, 11.98s/it]"
     ]
    },
    {
     "name": "stdout",
     "output_type": "stream",
     "text": [
      "page_num = 9, img_count = 2741\n",
      "https://www.menziesartbrands.com/catalogue-details/6270?page=10\n"
     ]
    },
    {
     "name": "stderr",
     "output_type": "stream",
     "text": [
      "\r",
      " 37%|█████████████████████████████████████████████████████████▍                                                                                                 | 10/27 [02:14<03:28, 12.24s/it]"
     ]
    },
    {
     "name": "stdout",
     "output_type": "stream",
     "text": [
      "page_num = 10, img_count = 2748\n",
      "https://www.menziesartbrands.com/catalogue-details/6270?page=11\n"
     ]
    },
    {
     "name": "stderr",
     "output_type": "stream",
     "text": [
      "\r",
      " 41%|███████████████████████████████████████████████████████████████▏                                                                                           | 11/27 [02:30<03:36, 13.52s/it]"
     ]
    },
    {
     "name": "stdout",
     "output_type": "stream",
     "text": [
      "page_num = 11, img_count = 2757\n",
      "https://www.menziesartbrands.com/catalogue-details/6270?page=12\n"
     ]
    },
    {
     "name": "stderr",
     "output_type": "stream",
     "text": [
      "\r",
      " 44%|████████████████████████████████████████████████████████████████████▉                                                                                      | 12/27 [02:41<03:09, 12.65s/it]"
     ]
    },
    {
     "name": "stdout",
     "output_type": "stream",
     "text": [
      "page_num = 12, img_count = 2763\n",
      "https://www.menziesartbrands.com/catalogue-details/6270?page=13\n"
     ]
    },
    {
     "name": "stderr",
     "output_type": "stream",
     "text": [
      "\r",
      " 48%|██████████████████████████████████████████████████████████████████████████▋                                                                                | 13/27 [02:53<02:56, 12.59s/it]"
     ]
    },
    {
     "name": "stdout",
     "output_type": "stream",
     "text": [
      "page_num = 13, img_count = 2770\n",
      "https://www.menziesartbrands.com/catalogue-details/6270?page=14\n"
     ]
    },
    {
     "name": "stderr",
     "output_type": "stream",
     "text": [
      "\r",
      " 52%|████████████████████████████████████████████████████████████████████████████████▎                                                                          | 14/27 [03:09<02:58, 13.74s/it]"
     ]
    },
    {
     "name": "stdout",
     "output_type": "stream",
     "text": [
      "page_num = 14, img_count = 2775\n",
      "https://www.menziesartbrands.com/catalogue-details/6270?page=15\n"
     ]
    },
    {
     "name": "stderr",
     "output_type": "stream",
     "text": [
      "\r",
      " 56%|██████████████████████████████████████████████████████████████████████████████████████                                                                     | 15/27 [03:24<02:47, 13.99s/it]"
     ]
    },
    {
     "name": "stdout",
     "output_type": "stream",
     "text": [
      "page_num = 15, img_count = 2779\n",
      "https://www.menziesartbrands.com/catalogue-details/6270?page=16\n"
     ]
    },
    {
     "name": "stderr",
     "output_type": "stream",
     "text": [
      "\r",
      " 59%|███████████████████████████████████████████████████████████████████████████████████████████▊                                                               | 16/27 [03:41<02:42, 14.80s/it]"
     ]
    },
    {
     "name": "stdout",
     "output_type": "stream",
     "text": [
      "page_num = 16, img_count = 2787\n",
      "https://www.menziesartbrands.com/catalogue-details/6270?page=17\n"
     ]
    },
    {
     "name": "stderr",
     "output_type": "stream",
     "text": [
      "\r",
      " 63%|█████████████████████████████████████████████████████████████████████████████████████████████████▌                                                         | 17/27 [03:54<02:24, 14.46s/it]"
     ]
    },
    {
     "name": "stdout",
     "output_type": "stream",
     "text": [
      "page_num = 17, img_count = 2793\n",
      "https://www.menziesartbrands.com/catalogue-details/6270?page=18\n"
     ]
    },
    {
     "name": "stderr",
     "output_type": "stream",
     "text": [
      "\r",
      " 67%|███████████████████████████████████████████████████████████████████████████████████████████████████████▎                                                   | 18/27 [04:09<02:10, 14.52s/it]"
     ]
    },
    {
     "name": "stdout",
     "output_type": "stream",
     "text": [
      "page_num = 18, img_count = 2800\n",
      "https://www.menziesartbrands.com/catalogue-details/6270?page=19\n"
     ]
    },
    {
     "name": "stderr",
     "output_type": "stream",
     "text": [
      "\r",
      " 70%|█████████████████████████████████████████████████████████████████████████████████████████████████████████████                                              | 19/27 [04:29<02:09, 16.23s/it]"
     ]
    },
    {
     "name": "stdout",
     "output_type": "stream",
     "text": [
      "page_num = 19, img_count = 2806\n",
      "https://www.menziesartbrands.com/catalogue-details/6270?page=20\n"
     ]
    },
    {
     "name": "stderr",
     "output_type": "stream",
     "text": [
      "\r",
      " 74%|██████████████████████████████████████████████████████████████████████████████████████████████████████████████████▊                                        | 20/27 [04:47<01:55, 16.56s/it]"
     ]
    },
    {
     "name": "stdout",
     "output_type": "stream",
     "text": [
      "page_num = 20, img_count = 2813\n",
      "https://www.menziesartbrands.com/catalogue-details/6270?page=21\n"
     ]
    },
    {
     "name": "stderr",
     "output_type": "stream",
     "text": [
      "\r",
      " 78%|████████████████████████████████████████████████████████████████████████████████████████████████████████████████████████▌                                  | 21/27 [05:01<01:35, 15.87s/it]"
     ]
    },
    {
     "name": "stdout",
     "output_type": "stream",
     "text": [
      "page_num = 21, img_count = 2820\n",
      "https://www.menziesartbrands.com/catalogue-details/6270?page=22\n"
     ]
    },
    {
     "name": "stderr",
     "output_type": "stream",
     "text": [
      "\r",
      " 81%|██████████████████████████████████████████████████████████████████████████████████████████████████████████████████████████████▎                            | 22/27 [05:17<01:19, 15.98s/it]"
     ]
    },
    {
     "name": "stdout",
     "output_type": "stream",
     "text": [
      "page_num = 22, img_count = 2828\n",
      "https://www.menziesartbrands.com/catalogue-details/6270?page=23\n"
     ]
    },
    {
     "name": "stderr",
     "output_type": "stream",
     "text": [
      "\r",
      " 85%|████████████████████████████████████████████████████████████████████████████████████████████████████████████████████████████████████                       | 23/27 [05:28<00:58, 14.52s/it]"
     ]
    },
    {
     "name": "stdout",
     "output_type": "stream",
     "text": [
      "page_num = 23, img_count = 2833\n",
      "https://www.menziesartbrands.com/catalogue-details/6270?page=24\n"
     ]
    },
    {
     "name": "stderr",
     "output_type": "stream",
     "text": [
      "\r",
      " 89%|█████████████████████████████████████████████████████████████████████████████████████████████████████████████████████████████████████████▊                 | 24/27 [05:40<00:41, 13.75s/it]"
     ]
    },
    {
     "name": "stdout",
     "output_type": "stream",
     "text": [
      "page_num = 24, img_count = 2839\n",
      "https://www.menziesartbrands.com/catalogue-details/6270?page=25\n"
     ]
    },
    {
     "name": "stderr",
     "output_type": "stream",
     "text": [
      "\r",
      " 93%|███████████████████████████████████████████████████████████████████████████████████████████████████████████████████████████████████████████████▌           | 25/27 [05:49<00:24, 12.30s/it]"
     ]
    },
    {
     "name": "stdout",
     "output_type": "stream",
     "text": [
      "page_num = 25, img_count = 2843\n",
      "https://www.menziesartbrands.com/catalogue-details/6270?page=26\n"
     ]
    },
    {
     "name": "stderr",
     "output_type": "stream",
     "text": [
      "\r",
      " 96%|█████████████████████████████████████████████████████████████████████████████████████████████████████████████████████████████████████████████████████▎     | 26/27 [06:05<00:13, 13.52s/it]"
     ]
    },
    {
     "name": "stdout",
     "output_type": "stream",
     "text": [
      "page_num = 26, img_count = 2852\n",
      "https://www.menziesartbrands.com/catalogue-details/6270?page=27\n"
     ]
    },
    {
     "name": "stderr",
     "output_type": "stream",
     "text": [
      "100%|███████████████████████████████████████████████████████████████████████████████████████████████████████████████████████████████████████████████████████████| 27/27 [06:11<00:00, 13.75s/it]"
     ]
    },
    {
     "name": "stdout",
     "output_type": "stream",
     "text": [
      "page_num = 27, img_count = 2854\n",
      "auction_url = https://www.menziesartbrands.com/catalogue-details/6270, img_count = 2854\n"
     ]
    },
    {
     "name": "stderr",
     "output_type": "stream",
     "text": [
      "\n"
     ]
    },
    {
     "name": "stdout",
     "output_type": "stream",
     "text": [
      "https://www.menziesartbrands.com/catalogue-details/4483\n"
     ]
    },
    {
     "name": "stderr",
     "output_type": "stream",
     "text": [
      "\r",
      "  0%|                                                                                                                                                                    | 0/22 [00:00<?, ?it/s]"
     ]
    },
    {
     "name": "stdout",
     "output_type": "stream",
     "text": [
      "https://www.menziesartbrands.com/catalogue-details/4483?page=1\n"
     ]
    },
    {
     "name": "stderr",
     "output_type": "stream",
     "text": [
      "\r",
      "  5%|███████                                                                                                                                                     | 1/22 [00:15<05:30, 15.76s/it]"
     ]
    },
    {
     "name": "stdout",
     "output_type": "stream",
     "text": [
      "page_num = 1, img_count = 2862\n",
      "https://www.menziesartbrands.com/catalogue-details/4483?page=2\n"
     ]
    },
    {
     "name": "stderr",
     "output_type": "stream",
     "text": [
      "\r",
      "  9%|██████████████▏                                                                                                                                             | 2/22 [00:29<04:54, 14.73s/it]"
     ]
    },
    {
     "name": "stdout",
     "output_type": "stream",
     "text": [
      "page_num = 2, img_count = 2869\n",
      "https://www.menziesartbrands.com/catalogue-details/4483?page=3\n"
     ]
    },
    {
     "name": "stderr",
     "output_type": "stream",
     "text": [
      "\r",
      " 14%|█████████████████████▎                                                                                                                                      | 3/22 [00:43<04:33, 14.38s/it]"
     ]
    },
    {
     "name": "stdout",
     "output_type": "stream",
     "text": [
      "page_num = 3, img_count = 2876\n",
      "https://www.menziesartbrands.com/catalogue-details/4483?page=4\n"
     ]
    },
    {
     "name": "stderr",
     "output_type": "stream",
     "text": [
      "\r",
      " 18%|████████████████████████████▎                                                                                                                               | 4/22 [00:59<04:25, 14.74s/it]"
     ]
    },
    {
     "name": "stdout",
     "output_type": "stream",
     "text": [
      "page_num = 4, img_count = 2883\n",
      "https://www.menziesartbrands.com/catalogue-details/4483?page=5\n"
     ]
    },
    {
     "name": "stderr",
     "output_type": "stream",
     "text": [
      "\r",
      " 23%|███████████████████████████████████▍                                                                                                                        | 5/22 [01:14<04:17, 15.15s/it]"
     ]
    },
    {
     "name": "stdout",
     "output_type": "stream",
     "text": [
      "page_num = 5, img_count = 2891\n",
      "https://www.menziesartbrands.com/catalogue-details/4483?page=6\n"
     ]
    },
    {
     "name": "stderr",
     "output_type": "stream",
     "text": [
      "\r",
      " 27%|██████████████████████████████████████████▌                                                                                                                 | 6/22 [01:26<03:42, 13.90s/it]"
     ]
    },
    {
     "name": "stdout",
     "output_type": "stream",
     "text": [
      "page_num = 6, img_count = 2897\n",
      "https://www.menziesartbrands.com/catalogue-details/4483?page=7\n"
     ]
    },
    {
     "name": "stderr",
     "output_type": "stream",
     "text": [
      "\r",
      " 32%|█████████████████████████████████████████████████▋                                                                                                          | 7/22 [01:40<03:31, 14.09s/it]"
     ]
    },
    {
     "name": "stdout",
     "output_type": "stream",
     "text": [
      "page_num = 7, img_count = 2905\n",
      "https://www.menziesartbrands.com/catalogue-details/4483?page=8\n"
     ]
    },
    {
     "name": "stderr",
     "output_type": "stream",
     "text": [
      "\r",
      " 36%|████████████████████████████████████████████████████████▋                                                                                                   | 8/22 [01:53<03:10, 13.58s/it]"
     ]
    },
    {
     "name": "stdout",
     "output_type": "stream",
     "text": [
      "page_num = 8, img_count = 2911\n",
      "https://www.menziesartbrands.com/catalogue-details/4483?page=9\n"
     ]
    },
    {
     "name": "stderr",
     "output_type": "stream",
     "text": [
      "\r",
      " 41%|███████████████████████████████████████████████████████████████▊                                                                                            | 9/22 [02:11<03:16, 15.12s/it]"
     ]
    },
    {
     "name": "stdout",
     "output_type": "stream",
     "text": [
      "page_num = 9, img_count = 2919\n",
      "https://www.menziesartbrands.com/catalogue-details/4483?page=10\n"
     ]
    },
    {
     "name": "stderr",
     "output_type": "stream",
     "text": [
      "\r",
      " 45%|██████████████████████████████████████████████████████████████████████▍                                                                                    | 10/22 [02:26<02:59, 14.96s/it]"
     ]
    },
    {
     "name": "stdout",
     "output_type": "stream",
     "text": [
      "page_num = 10, img_count = 2927\n",
      "https://www.menziesartbrands.com/catalogue-details/4483?page=11\n"
     ]
    },
    {
     "name": "stderr",
     "output_type": "stream",
     "text": [
      "\r",
      " 50%|█████████████████████████████████████████████████████████████████████████████▌                                                                             | 11/22 [02:55<03:33, 19.40s/it]"
     ]
    },
    {
     "name": "stdout",
     "output_type": "stream",
     "text": [
      "page_num = 11, img_count = 2935\n",
      "https://www.menziesartbrands.com/catalogue-details/4483?page=12\n"
     ]
    },
    {
     "name": "stderr",
     "output_type": "stream",
     "text": [
      "\r",
      " 55%|████████████████████████████████████████████████████████████████████████████████████▌                                                                      | 12/22 [03:11<03:01, 18.14s/it]"
     ]
    },
    {
     "name": "stdout",
     "output_type": "stream",
     "text": [
      "page_num = 12, img_count = 2943\n",
      "https://www.menziesartbrands.com/catalogue-details/4483?page=13\n"
     ]
    },
    {
     "name": "stderr",
     "output_type": "stream",
     "text": [
      "\r",
      " 59%|███████████████████████████████████████████████████████████████████████████████████████████▌                                                               | 13/22 [03:26<02:35, 17.28s/it]"
     ]
    },
    {
     "name": "stdout",
     "output_type": "stream",
     "text": [
      "page_num = 13, img_count = 2952\n",
      "https://www.menziesartbrands.com/catalogue-details/4483?page=14\n"
     ]
    },
    {
     "name": "stderr",
     "output_type": "stream",
     "text": [
      "\r",
      " 64%|██████████████████████████████████████████████████████████████████████████████████████████████████▋                                                        | 14/22 [03:40<02:09, 16.23s/it]"
     ]
    },
    {
     "name": "stdout",
     "output_type": "stream",
     "text": [
      "page_num = 14, img_count = 2960\n",
      "https://www.menziesartbrands.com/catalogue-details/4483?page=15\n"
     ]
    },
    {
     "name": "stderr",
     "output_type": "stream",
     "text": [
      "\r",
      " 68%|█████████████████████████████████████████████████████████████████████████████████████████████████████████▋                                                 | 15/22 [03:56<01:52, 16.11s/it]"
     ]
    },
    {
     "name": "stdout",
     "output_type": "stream",
     "text": [
      "page_num = 15, img_count = 2968\n",
      "https://www.menziesartbrands.com/catalogue-details/4483?page=16\n"
     ]
    },
    {
     "name": "stderr",
     "output_type": "stream",
     "text": [
      "\r",
      " 73%|████████████████████████████████████████████████████████████████████████████████████████████████████████████████▋                                          | 16/22 [04:09<01:31, 15.30s/it]"
     ]
    },
    {
     "name": "stdout",
     "output_type": "stream",
     "text": [
      "page_num = 16, img_count = 2975\n",
      "https://www.menziesartbrands.com/catalogue-details/4483?page=17\n"
     ]
    },
    {
     "name": "stderr",
     "output_type": "stream",
     "text": [
      "\r",
      " 77%|███████████████████████████████████████████████████████████████████████████████████████████████████████████████████████▊                                   | 17/22 [04:21<01:11, 14.39s/it]"
     ]
    },
    {
     "name": "stdout",
     "output_type": "stream",
     "text": [
      "page_num = 17, img_count = 2982\n",
      "https://www.menziesartbrands.com/catalogue-details/4483?page=18\n"
     ]
    },
    {
     "name": "stderr",
     "output_type": "stream",
     "text": [
      "\r",
      " 82%|██████████████████████████████████████████████████████████████████████████████████████████████████████████████████████████████▊                            | 18/22 [04:37<00:58, 14.68s/it]"
     ]
    },
    {
     "name": "stdout",
     "output_type": "stream",
     "text": [
      "page_num = 18, img_count = 2991\n",
      "https://www.menziesartbrands.com/catalogue-details/4483?page=19\n"
     ]
    },
    {
     "name": "stderr",
     "output_type": "stream",
     "text": [
      "\r",
      " 86%|█████████████████████████████████████████████████████████████████████████████████████████████████████████████████████████████████████▊                     | 19/22 [04:52<00:44, 14.86s/it]"
     ]
    },
    {
     "name": "stdout",
     "output_type": "stream",
     "text": [
      "page_num = 19, img_count = 3000\n",
      "https://www.menziesartbrands.com/catalogue-details/4483?page=20\n"
     ]
    },
    {
     "name": "stderr",
     "output_type": "stream",
     "text": [
      "\r",
      " 91%|████████████████████████████████████████████████████████████████████████████████████████████████████████████████████████████████████████████▉              | 20/22 [05:08<00:30, 15.10s/it]"
     ]
    },
    {
     "name": "stdout",
     "output_type": "stream",
     "text": [
      "page_num = 20, img_count = 3009\n",
      "https://www.menziesartbrands.com/catalogue-details/4483?page=21\n"
     ]
    },
    {
     "name": "stderr",
     "output_type": "stream",
     "text": [
      "\r",
      " 95%|███████████████████████████████████████████████████████████████████████████████████████████████████████████████████████████████████████████████████▉       | 21/22 [05:23<00:15, 15.26s/it]"
     ]
    },
    {
     "name": "stdout",
     "output_type": "stream",
     "text": [
      "page_num = 21, img_count = 3018\n",
      "https://www.menziesartbrands.com/catalogue-details/4483?page=22\n"
     ]
    },
    {
     "name": "stderr",
     "output_type": "stream",
     "text": [
      "100%|███████████████████████████████████████████████████████████████████████████████████████████████████████████████████████████████████████████████████████████| 22/22 [05:29<00:00, 14.99s/it]"
     ]
    },
    {
     "name": "stdout",
     "output_type": "stream",
     "text": [
      "page_num = 22, img_count = 3021\n",
      "auction_url = https://www.menziesartbrands.com/catalogue-details/4483, img_count = 3021\n"
     ]
    },
    {
     "name": "stderr",
     "output_type": "stream",
     "text": [
      "\n"
     ]
    }
   ],
   "source": [
    "for auctions_url in auctions_urls[:-1]:\n",
    "    \n",
    "    auction = get_soup_page(auctions_url)\n",
    "    \n",
    "    # вычислим диапазон страниц в аукционе\n",
    "    # есть один пустой аукцион\n",
    "    if auction.find(\"li\", {\"class\": \"pager__item--last\"}):\n",
    "        last_page_message = auction.find(\"li\", {\"class\": \"pager__item--last\"}).find(\"a\")[\"href\"]\n",
    "        result = re.fullmatch(re.compile(\"\\?page=(\\d+)\"),last_page_message)\n",
    "        last_page = int(result.groups()[0])\n",
    "\n",
    "    else:\n",
    "        last_page = 1\n",
    "        continue\n",
    "    \n",
    "    for num_page in tqdm(range(1, last_page + 1)):\n",
    "\n",
    "        page_soup = get_soup_page(auctions_url + f'?page={num_page}')\n",
    "        \n",
    "        div_class = page_soup.find(\"div\", {\"class\": \"views-element-container\"})\n",
    "        \n",
    "        # нашли элементы сетки с изображениями\n",
    "        boxes = div_class.find_all(\"div\", {\"class\": \"box-item\"})\n",
    "        \n",
    "        # переобор по лотам аукциона\n",
    "        for box in boxes:\n",
    "            row = []\n",
    "            \n",
    "            # проверка есть ли изображение\n",
    "            if box.find(\"img\") is None:\n",
    "                continue\n",
    "            \n",
    "            # проверка есть ли цена\n",
    "            dirty_price = box.find(\"div\", {\"class\": \"box__hammer-bp\"})\n",
    "            if dirty_price is None:\n",
    "                continue\n",
    "             \n",
    "            # Если есть необходимая информация скрапим данные в соотвествие с порядком: ['price', 'artist', 'title', 'yearCreation', 'image', 'image_url']\n",
    "                \n",
    "            dirty_price = dirty_price.text\n",
    "            dirty_price = re.search(re.compile(\"\\$\\d+,?\\d+\"), dirty_price).group()\n",
    "            dirty_price = dirty_price.replace(\"$\", \"\")\n",
    "\n",
    "            clear_price_usd = int(''.join(dirty_price.split(\",\")))\n",
    "            row.append(clear_price_usd)\n",
    "\n",
    "            artist_name = box.find(\"div\", {\"class\": \"box__artist-name\"}).find(\"div\", {\"class\": \"field--name-field-artistname\"}).find(\"a\").text\n",
    "            row.append(artist_name)\n",
    "\n",
    "            title = box.find(\"div\", {\"class\": \"box__title\"}).find(\"a\").contents[0].strip()\n",
    "            row.append(title)\n",
    "\n",
    "            year_creation = box.find(\"div\", {\"class\": \"box__title\"}).find(\"a\").find(\"span\", {\"class\": \"date\"})\n",
    "            # some pictures are without year of creation\n",
    "            if year_creation is not None:\n",
    "                year_creation = year_creation.text\n",
    "                \n",
    "            # todo: сейчас скачивается наиболее ранняя дата для простоты парсинга. \n",
    "                year_creation = int(re.search(\"(\\d\\d\\d\\d)\", year_creation).group())\n",
    "\n",
    "            row.append(year_creation)\n",
    "\n",
    "            adres = box.find(\"div\", {\"class\": \"box__image\"}).find(\"a\")['href']\n",
    "            img_title = rename_img_title(count)\n",
    "            urllib.request.urlretrieve(f\"https://www.menziesartbrands.com{adres}\", IMG_DIR/ f\"{img_title}.jpg\")\n",
    "\n",
    "            row.append(f\"{count}.jpg\")\n",
    "            row.append(adres)\n",
    "            \n",
    "            count += 1\n",
    "\n",
    "            arr.append(row)\n",
    "            \n",
    "        print(f\"page_num = {num_page}, img_count = {count}\")\n",
    "\n",
    "        df = pd.DataFrame(arr, columns=cols)\n",
    "    df.to_csv('data.csv')\n",
    "    print(f\"auction_url = {auctions_url}, img_count = {count}\")\n",
    "\n",
    "df = pd.DataFrame(arr, columns=cols)\n",
    "df.to_csv('data.csv')"
   ]
  },
  {
   "cell_type": "code",
   "execution_count": 15,
   "id": "366f7e84",
   "metadata": {},
   "outputs": [],
   "source": [
    "df.to_csv(DATA_DIR/\"menziesartbrands_data.csv\", index=False)"
   ]
  },
  {
   "cell_type": "code",
   "execution_count": 13,
   "id": "3d406220",
   "metadata": {},
   "outputs": [
    {
     "data": {
      "text/html": [
       "<div>\n",
       "<style scoped>\n",
       "    .dataframe tbody tr th:only-of-type {\n",
       "        vertical-align: middle;\n",
       "    }\n",
       "\n",
       "    .dataframe tbody tr th {\n",
       "        vertical-align: top;\n",
       "    }\n",
       "\n",
       "    .dataframe thead th {\n",
       "        text-align: right;\n",
       "    }\n",
       "</style>\n",
       "<table border=\"1\" class=\"dataframe\">\n",
       "  <thead>\n",
       "    <tr style=\"text-align: right;\">\n",
       "      <th></th>\n",
       "      <th>price</th>\n",
       "      <th>artist</th>\n",
       "      <th>title</th>\n",
       "      <th>yearCreation</th>\n",
       "      <th>image</th>\n",
       "      <th>image_url</th>\n",
       "    </tr>\n",
       "  </thead>\n",
       "  <tbody>\n",
       "    <tr>\n",
       "      <th>3015</th>\n",
       "      <td>2375</td>\n",
       "      <td>Helen Ogilvie</td>\n",
       "      <td>Chooks in the Straw</td>\n",
       "      <td>1932.0</td>\n",
       "      <td>3016.jpg</td>\n",
       "      <td>/items/chooks-straw-0</td>\n",
       "    </tr>\n",
       "    <tr>\n",
       "      <th>3016</th>\n",
       "      <td>4375</td>\n",
       "      <td>John Olsen</td>\n",
       "      <td>Frog Surprised</td>\n",
       "      <td>2002.0</td>\n",
       "      <td>3017.jpg</td>\n",
       "      <td>/items/frog-surprised</td>\n",
       "    </tr>\n",
       "    <tr>\n",
       "      <th>3017</th>\n",
       "      <td>1375</td>\n",
       "      <td>Sidney Nolan</td>\n",
       "      <td>The Pursuit (Ned Kelly series)</td>\n",
       "      <td>1971.0</td>\n",
       "      <td>3018.jpg</td>\n",
       "      <td>/items/pursuit-ned-kelly-series-0</td>\n",
       "    </tr>\n",
       "    <tr>\n",
       "      <th>3018</th>\n",
       "      <td>5250</td>\n",
       "      <td>Sidney Nolan</td>\n",
       "      <td>Quilting the Armour (Ned Kelly series)</td>\n",
       "      <td>1970.0</td>\n",
       "      <td>3019.jpg</td>\n",
       "      <td>/items/quilting-armour-ned-kelly-series</td>\n",
       "    </tr>\n",
       "    <tr>\n",
       "      <th>3019</th>\n",
       "      <td>8750</td>\n",
       "      <td>BRETT WHITELEY</td>\n",
       "      <td>Warming and Reading</td>\n",
       "      <td>1981.0</td>\n",
       "      <td>3020.jpg</td>\n",
       "      <td>/items/warming-and-reading</td>\n",
       "    </tr>\n",
       "  </tbody>\n",
       "</table>\n",
       "</div>"
      ],
      "text/plain": [
       "      price          artist                                   title  \\\n",
       "3015   2375   Helen Ogilvie                     Chooks in the Straw   \n",
       "3016   4375      John Olsen                          Frog Surprised   \n",
       "3017   1375    Sidney Nolan          The Pursuit (Ned Kelly series)   \n",
       "3018   5250    Sidney Nolan  Quilting the Armour (Ned Kelly series)   \n",
       "3019   8750  BRETT WHITELEY                     Warming and Reading   \n",
       "\n",
       "      yearCreation     image                                image_url  \n",
       "3015        1932.0  3016.jpg                    /items/chooks-straw-0  \n",
       "3016        2002.0  3017.jpg                    /items/frog-surprised  \n",
       "3017        1971.0  3018.jpg        /items/pursuit-ned-kelly-series-0  \n",
       "3018        1970.0  3019.jpg  /items/quilting-armour-ned-kelly-series  \n",
       "3019        1981.0  3020.jpg               /items/warming-and-reading  "
      ]
     },
     "execution_count": 13,
     "metadata": {},
     "output_type": "execute_result"
    }
   ],
   "source": [
    "df.tail()"
   ]
  },
  {
   "cell_type": "markdown",
   "id": "a6c8c9e2",
   "metadata": {},
   "source": [
    "## Ручная фильтрация "
   ]
  },
  {
   "cell_type": "code",
   "execution_count": null,
   "id": "dcc4ee3e",
   "metadata": {},
   "outputs": [],
   "source": []
  }
 ],
 "metadata": {
  "kernelspec": {
   "display_name": "Python 3 (ipykernel)",
   "language": "python",
   "name": "python3"
  },
  "language_info": {
   "codemirror_mode": {
    "name": "ipython",
    "version": 3
   },
   "file_extension": ".py",
   "mimetype": "text/x-python",
   "name": "python",
   "nbconvert_exporter": "python",
   "pygments_lexer": "ipython3",
   "version": "3.9.16"
  },
  "toc": {
   "base_numbering": 1,
   "nav_menu": {},
   "number_sections": true,
   "sideBar": true,
   "skip_h1_title": false,
   "title_cell": "Table of Contents",
   "title_sidebar": "Contents",
   "toc_cell": false,
   "toc_position": {},
   "toc_section_display": true,
   "toc_window_display": false
  }
 },
 "nbformat": 4,
 "nbformat_minor": 5
}
